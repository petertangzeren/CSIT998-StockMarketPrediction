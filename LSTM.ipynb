{
 "cells": [
  {
   "cell_type": "code",
   "execution_count": 1,
   "metadata": {
    "colab": {
     "base_uri": "https://localhost:8080/"
    },
    "id": "i6zxz6xZyWb2",
    "outputId": "d80a4b3f-7fb0-4e51-bfa6-879b0b1edefc"
   },
   "outputs": [
    {
     "name": "stdout",
     "output_type": "stream",
     "text": [
      "Tensorflow version: 2.8.0\n"
     ]
    }
   ],
   "source": [
    "import numpy as np\n",
    "import pandas as pd\n",
    "import yfinance as yf\n",
    "import csv\n",
    "import time\n",
    "import os, datetime\n",
    "os.environ[\"CUDA_DEVICE_ORDER\"] = \"PCI_BUS_ID\"\n",
    "os.environ[\"CUDA_VISIBLE_DEVICES\"] = \"0\"\n",
    "import tensorflow as tf\n",
    "import pandas_datareader as pdr\n",
    "from sklearn.preprocessing import MinMaxScaler\n",
    "from tensorflow.keras.models import *\n",
    "from tensorflow.keras.layers import *\n",
    "print('Tensorflow version: {}'.format(tf.__version__))\n",
    "\n",
    "import matplotlib.pyplot as plt\n",
    "plt.style.use('seaborn')\n",
    "\n",
    "import warnings\n",
    "warnings.filterwarnings('ignore')\n"
   ]
  },
  {
   "cell_type": "code",
   "execution_count": 2,
   "metadata": {},
   "outputs": [
    {
     "name": "stdout",
     "output_type": "stream",
     "text": [
      "Num GPUs Available:  1\n"
     ]
    }
   ],
   "source": [
    "print(\"Num GPUs Available: \", len(tf.config.experimental.list_physical_devices('GPU')))"
   ]
  },
  {
   "cell_type": "markdown",
   "metadata": {
    "id": "ykFSM9LT54LR"
   },
   "source": [
    "## Hyperparameters"
   ]
  },
  {
   "cell_type": "code",
   "execution_count": 3,
   "metadata": {
    "id": "Acgb31zy5lcD"
   },
   "outputs": [],
   "source": [
    "batch_size = 64\n",
    "seq_len = 128\n",
    "\n",
    "d_k = 256\n",
    "d_v = 256\n",
    "n_heads = 12\n",
    "ff_dim = 256"
   ]
  },
  {
   "cell_type": "markdown",
   "metadata": {
    "id": "HnPzNUPK50Ki"
   },
   "source": [
    "## Load Microsoft data"
   ]
  },
  {
   "cell_type": "code",
   "execution_count": 4,
   "metadata": {},
   "outputs": [
    {
     "data": {
      "text/plain": [
       "0         0.061109\n",
       "1         0.063292\n",
       "2         0.064384\n",
       "3         0.062746\n",
       "4         0.061655\n",
       "           ...    \n",
       "9118    260.892365\n",
       "9119    266.200012\n",
       "9120    254.080002\n",
       "9121    253.139999\n",
       "9122    252.559998\n",
       "Name: Close, Length: 9123, dtype: float64"
      ]
     },
     "execution_count": 4,
     "metadata": {},
     "output_type": "execute_result"
    }
   ],
   "source": [
    "# df = pdr.get_data_tiingo(\"MSFT\", api_key=\"aeeaa9dbc8f82f2c361abaa259050d75e736b424\")\n",
    "\n",
    "ticker = yf.Ticker(\"MSFT\")\n",
    "df = ticker.history(period=\"max\")\n",
    "\n",
    "\n",
    "df.to_csv(\"MSFT.csv\")\n",
    "df = pd.read_csv(\"MSFT.csv\", delimiter=',', usecols=['Date', 'Close'])\n",
    "df.sort_values('Date', inplace=True)\n",
    "price_history = df\n",
    "df = df[\"Close\"]\n",
    "\n",
    "prices = price_history[[\"Close\"]].pct_change().dropna()\n",
    "\n",
    "df"
   ]
  },
  {
   "cell_type": "code",
   "execution_count": 5,
   "metadata": {},
   "outputs": [
    {
     "data": {
      "text/html": [
       "<div>\n",
       "<style scoped>\n",
       "    .dataframe tbody tr th:only-of-type {\n",
       "        vertical-align: middle;\n",
       "    }\n",
       "\n",
       "    .dataframe tbody tr th {\n",
       "        vertical-align: top;\n",
       "    }\n",
       "\n",
       "    .dataframe thead th {\n",
       "        text-align: right;\n",
       "    }\n",
       "</style>\n",
       "<table border=\"1\" class=\"dataframe\">\n",
       "  <thead>\n",
       "    <tr style=\"text-align: right;\">\n",
       "      <th></th>\n",
       "      <th>Close</th>\n",
       "    </tr>\n",
       "  </thead>\n",
       "  <tbody>\n",
       "    <tr>\n",
       "      <th>1</th>\n",
       "      <td>0.035712</td>\n",
       "    </tr>\n",
       "    <tr>\n",
       "      <th>2</th>\n",
       "      <td>0.017251</td>\n",
       "    </tr>\n",
       "    <tr>\n",
       "      <th>3</th>\n",
       "      <td>-0.025432</td>\n",
       "    </tr>\n",
       "    <tr>\n",
       "      <th>4</th>\n",
       "      <td>-0.017390</td>\n",
       "    </tr>\n",
       "    <tr>\n",
       "      <th>5</th>\n",
       "      <td>-0.026547</td>\n",
       "    </tr>\n",
       "    <tr>\n",
       "      <th>...</th>\n",
       "      <td>...</td>\n",
       "    </tr>\n",
       "    <tr>\n",
       "      <th>9118</th>\n",
       "      <td>0.001455</td>\n",
       "    </tr>\n",
       "    <tr>\n",
       "      <th>9119</th>\n",
       "      <td>0.020344</td>\n",
       "    </tr>\n",
       "    <tr>\n",
       "      <th>9120</th>\n",
       "      <td>-0.045530</td>\n",
       "    </tr>\n",
       "    <tr>\n",
       "      <th>9121</th>\n",
       "      <td>-0.003700</td>\n",
       "    </tr>\n",
       "    <tr>\n",
       "      <th>9122</th>\n",
       "      <td>-0.002291</td>\n",
       "    </tr>\n",
       "  </tbody>\n",
       "</table>\n",
       "<p>9122 rows × 1 columns</p>\n",
       "</div>"
      ],
      "text/plain": [
       "         Close\n",
       "1     0.035712\n",
       "2     0.017251\n",
       "3    -0.025432\n",
       "4    -0.017390\n",
       "5    -0.026547\n",
       "...        ...\n",
       "9118  0.001455\n",
       "9119  0.020344\n",
       "9120 -0.045530\n",
       "9121 -0.003700\n",
       "9122 -0.002291\n",
       "\n",
       "[9122 rows x 1 columns]"
      ]
     },
     "execution_count": 5,
     "metadata": {},
     "output_type": "execute_result"
    }
   ],
   "source": [
    "prices"
   ]
  },
  {
   "cell_type": "markdown",
   "metadata": {
    "id": "fTS3Cm2H6GBz"
   },
   "source": [
    "## Calculate normalized percentage change of all columns"
   ]
  },
  {
   "cell_type": "code",
   "execution_count": 7,
   "metadata": {},
   "outputs": [],
   "source": [
    "\n",
    "'''Create indexes to split dataset'''\n",
    "\n",
    "times = sorted(df.index.values)\n",
    "last_10pct = sorted(df.index.values)[-int(0.1*len(times))] # Last 10% of series\n",
    "last_20pct = sorted(df.index.values)[-int(0.2*len(times))] # Last 20% of series\n",
    "last_30pct = sorted(df.index.values)[-int(0.3*len(times))] # Last 30% of series\n",
    "\n"
   ]
  },
  {
   "cell_type": "code",
   "execution_count": 8,
   "metadata": {},
   "outputs": [
    {
     "data": {
      "text/plain": [
       "array([[1.27790844e-05],\n",
       "       [1.91685394e-05],\n",
       "       [2.23652574e-05],\n",
       "       ...,\n",
       "       [7.43737448e-01],\n",
       "       [7.40985278e-01],\n",
       "       [7.39287130e-01]])"
      ]
     },
     "execution_count": 8,
     "metadata": {},
     "output_type": "execute_result"
    }
   ],
   "source": [
    "# Min-max normalize price columns (0-1 range)\n",
    "# df_temp = df[['Open','High','Low','Close']]\n",
    "scaler_1 = MinMaxScaler(feature_range=(0, 1))\n",
    "df = scaler_1.fit_transform(np.array(df).reshape(-1,1))\n",
    "df\n"
   ]
  },
  {
   "cell_type": "code",
   "execution_count": 9,
   "metadata": {},
   "outputs": [
    {
     "data": {
      "text/plain": [
       "array([[0.67806621],\n",
       "       [0.64090766],\n",
       "       [0.55499436],\n",
       "       ...,\n",
       "       [0.51454034],\n",
       "       [0.5987376 ],\n",
       "       [0.60157249]])"
      ]
     },
     "execution_count": 9,
     "metadata": {},
     "output_type": "execute_result"
    }
   ],
   "source": [
    "scaler_2 = MinMaxScaler()\n",
    "df_prices = scaler_2.fit_transform(prices)\n",
    "df_prices"
   ]
  },
  {
   "cell_type": "code",
   "execution_count": 10,
   "metadata": {},
   "outputs": [
    {
     "data": {
      "text/html": [
       "<div>\n",
       "<style scoped>\n",
       "    .dataframe tbody tr th:only-of-type {\n",
       "        vertical-align: middle;\n",
       "    }\n",
       "\n",
       "    .dataframe tbody tr th {\n",
       "        vertical-align: top;\n",
       "    }\n",
       "\n",
       "    .dataframe thead th {\n",
       "        text-align: right;\n",
       "    }\n",
       "</style>\n",
       "<table border=\"1\" class=\"dataframe\">\n",
       "  <thead>\n",
       "    <tr style=\"text-align: right;\">\n",
       "      <th></th>\n",
       "      <th>Close</th>\n",
       "    </tr>\n",
       "  </thead>\n",
       "  <tbody>\n",
       "    <tr>\n",
       "      <th>0</th>\n",
       "      <td>0.000013</td>\n",
       "    </tr>\n",
       "    <tr>\n",
       "      <th>1</th>\n",
       "      <td>0.000019</td>\n",
       "    </tr>\n",
       "    <tr>\n",
       "      <th>2</th>\n",
       "      <td>0.000022</td>\n",
       "    </tr>\n",
       "    <tr>\n",
       "      <th>3</th>\n",
       "      <td>0.000018</td>\n",
       "    </tr>\n",
       "    <tr>\n",
       "      <th>4</th>\n",
       "      <td>0.000014</td>\n",
       "    </tr>\n",
       "    <tr>\n",
       "      <th>...</th>\n",
       "      <td>...</td>\n",
       "    </tr>\n",
       "    <tr>\n",
       "      <th>9118</th>\n",
       "      <td>0.763683</td>\n",
       "    </tr>\n",
       "    <tr>\n",
       "      <th>9119</th>\n",
       "      <td>0.779223</td>\n",
       "    </tr>\n",
       "    <tr>\n",
       "      <th>9120</th>\n",
       "      <td>0.743737</td>\n",
       "    </tr>\n",
       "    <tr>\n",
       "      <th>9121</th>\n",
       "      <td>0.740985</td>\n",
       "    </tr>\n",
       "    <tr>\n",
       "      <th>9122</th>\n",
       "      <td>0.739287</td>\n",
       "    </tr>\n",
       "  </tbody>\n",
       "</table>\n",
       "<p>9122 rows × 1 columns</p>\n",
       "</div>"
      ],
      "text/plain": [
       "         Close\n",
       "0     0.000013\n",
       "1     0.000019\n",
       "2     0.000022\n",
       "3     0.000018\n",
       "4     0.000014\n",
       "...        ...\n",
       "9118  0.763683\n",
       "9119  0.779223\n",
       "9120  0.743737\n",
       "9121  0.740985\n",
       "9122  0.739287\n",
       "\n",
       "[9122 rows x 1 columns]"
      ]
     },
     "execution_count": 10,
     "metadata": {},
     "output_type": "execute_result"
    }
   ],
   "source": [
    "df = pd.DataFrame(df,columns=['Close'])\n",
    "# scaler_2 = MinMaxScaler(feature_range=(0, 1))\n",
    "# df['Volume'] = scaler_1.fit_transform(np.array(df['Volume']).reshape(-1, 1))\n",
    "df.replace(0, np.nan, inplace=True)\n",
    "df.dropna(how='any', axis=0, inplace=True)\n",
    "# df.reset_index(inplace=True)\n",
    "df"
   ]
  },
  {
   "cell_type": "code",
   "execution_count": 11,
   "metadata": {},
   "outputs": [
    {
     "data": {
      "text/html": [
       "<div>\n",
       "<style scoped>\n",
       "    .dataframe tbody tr th:only-of-type {\n",
       "        vertical-align: middle;\n",
       "    }\n",
       "\n",
       "    .dataframe tbody tr th {\n",
       "        vertical-align: top;\n",
       "    }\n",
       "\n",
       "    .dataframe thead th {\n",
       "        text-align: right;\n",
       "    }\n",
       "</style>\n",
       "<table border=\"1\" class=\"dataframe\">\n",
       "  <thead>\n",
       "    <tr style=\"text-align: right;\">\n",
       "      <th></th>\n",
       "      <th>Close</th>\n",
       "    </tr>\n",
       "  </thead>\n",
       "  <tbody>\n",
       "    <tr>\n",
       "      <th>0</th>\n",
       "      <td>0.678066</td>\n",
       "    </tr>\n",
       "    <tr>\n",
       "      <th>1</th>\n",
       "      <td>0.640908</td>\n",
       "    </tr>\n",
       "    <tr>\n",
       "      <th>2</th>\n",
       "      <td>0.554994</td>\n",
       "    </tr>\n",
       "    <tr>\n",
       "      <th>3</th>\n",
       "      <td>0.571180</td>\n",
       "    </tr>\n",
       "    <tr>\n",
       "      <th>4</th>\n",
       "      <td>0.552749</td>\n",
       "    </tr>\n",
       "    <tr>\n",
       "      <th>...</th>\n",
       "      <td>...</td>\n",
       "    </tr>\n",
       "    <tr>\n",
       "      <th>9117</th>\n",
       "      <td>0.609114</td>\n",
       "    </tr>\n",
       "    <tr>\n",
       "      <th>9118</th>\n",
       "      <td>0.647134</td>\n",
       "    </tr>\n",
       "    <tr>\n",
       "      <th>9119</th>\n",
       "      <td>0.514540</td>\n",
       "    </tr>\n",
       "    <tr>\n",
       "      <th>9120</th>\n",
       "      <td>0.598738</td>\n",
       "    </tr>\n",
       "    <tr>\n",
       "      <th>9121</th>\n",
       "      <td>0.601572</td>\n",
       "    </tr>\n",
       "  </tbody>\n",
       "</table>\n",
       "<p>9122 rows × 1 columns</p>\n",
       "</div>"
      ],
      "text/plain": [
       "         Close\n",
       "0     0.678066\n",
       "1     0.640908\n",
       "2     0.554994\n",
       "3     0.571180\n",
       "4     0.552749\n",
       "...        ...\n",
       "9117  0.609114\n",
       "9118  0.647134\n",
       "9119  0.514540\n",
       "9120  0.598738\n",
       "9121  0.601572\n",
       "\n",
       "[9122 rows x 1 columns]"
      ]
     },
     "execution_count": 11,
     "metadata": {},
     "output_type": "execute_result"
    }
   ],
   "source": [
    "df = pd.DataFrame(df_prices,columns=['Close'])\n",
    "df"
   ]
  },
  {
   "cell_type": "code",
   "execution_count": 12,
   "metadata": {
    "colab": {
     "base_uri": "https://localhost:8080/",
     "height": 255
    },
    "id": "i7_Uju9B5lqY",
    "outputId": "e56a1ca3-9c69-4ea4-ce2b-e1411c64452a"
   },
   "outputs": [
    {
     "name": "stdout",
     "output_type": "stream",
     "text": [
      "Training data shape: (6387, 1)\n",
      "Validation data shape: (912, 1)\n",
      "Test data shape: (1823, 1)\n"
     ]
    },
    {
     "data": {
      "text/html": [
       "<div>\n",
       "<style scoped>\n",
       "    .dataframe tbody tr th:only-of-type {\n",
       "        vertical-align: middle;\n",
       "    }\n",
       "\n",
       "    .dataframe tbody tr th {\n",
       "        vertical-align: top;\n",
       "    }\n",
       "\n",
       "    .dataframe thead th {\n",
       "        text-align: right;\n",
       "    }\n",
       "</style>\n",
       "<table border=\"1\" class=\"dataframe\">\n",
       "  <thead>\n",
       "    <tr style=\"text-align: right;\">\n",
       "      <th></th>\n",
       "      <th>Close</th>\n",
       "    </tr>\n",
       "  </thead>\n",
       "  <tbody>\n",
       "    <tr>\n",
       "      <th>0</th>\n",
       "      <td>0.678066</td>\n",
       "    </tr>\n",
       "    <tr>\n",
       "      <th>1</th>\n",
       "      <td>0.640908</td>\n",
       "    </tr>\n",
       "    <tr>\n",
       "      <th>2</th>\n",
       "      <td>0.554994</td>\n",
       "    </tr>\n",
       "    <tr>\n",
       "      <th>3</th>\n",
       "      <td>0.571180</td>\n",
       "    </tr>\n",
       "    <tr>\n",
       "      <th>4</th>\n",
       "      <td>0.552749</td>\n",
       "    </tr>\n",
       "  </tbody>\n",
       "</table>\n",
       "</div>"
      ],
      "text/plain": [
       "      Close\n",
       "0  0.678066\n",
       "1  0.640908\n",
       "2  0.554994\n",
       "3  0.571180\n",
       "4  0.552749"
      ]
     },
     "execution_count": 12,
     "metadata": {},
     "output_type": "execute_result"
    }
   ],
   "source": [
    "'''Create training, validation and test split'''\n",
    "\n",
    "df_train = df[(df.index < last_30pct)]  # Training data are 70% of total data\n",
    "df_val = df[(df.index >= last_30pct) & (df.index < last_20pct)]\n",
    "df_test = df[(df.index >= last_20pct)]\n",
    "\n",
    "# Convert pandas columns into arrays\n",
    "train_data = df_train.values\n",
    "val_data = df_val.values\n",
    "test_data = df_test.values\n",
    "print('Training data shape: {}'.format(train_data.shape))\n",
    "print('Validation data shape: {}'.format(val_data.shape))\n",
    "print('Test data shape: {}'.format(test_data.shape))\n",
    "\n",
    "df_train.head()"
   ]
  },
  {
   "cell_type": "markdown",
   "metadata": {
    "id": "diGgUw_f6fAI"
   },
   "source": [
    "## Plot daily changes of close prices and volume"
   ]
  },
  {
   "cell_type": "code",
   "execution_count": 13,
   "metadata": {
    "colab": {
     "base_uri": "https://localhost:8080/",
     "height": 792
    },
    "id": "MJCti1mt5lnL",
    "outputId": "810c6464-dc15-46a7-e45d-496b3a7e3b6e"
   },
   "outputs": [
    {
     "data": {
      "text/plain": [
       "<matplotlib.legend.Legend at 0x1de7c8f1bb0>"
      ]
     },
     "execution_count": 13,
     "metadata": {},
     "output_type": "execute_result"
    },
    {
     "data": {
      "image/png": "[encoded data removed]",
      "text/plain": [
       "<Figure size 1080x864 with 1 Axes>"
      ]
     },
     "metadata": {},
     "output_type": "display_data"
    }
   ],
   "source": [
    "fig = plt.figure(figsize=(15,12))\n",
    "st = fig.suptitle(\"Data Separation\", fontsize=20)\n",
    "st.set_y(0.95)\n",
    "\n",
    "\n",
    "ax1 = fig.add_subplot(211)\n",
    "ax1.plot(np.arange(train_data.shape[0]), df_train, label='Training data')\n",
    "\n",
    "ax1.plot(np.arange(train_data.shape[0], \n",
    "                   train_data.shape[0]+val_data.shape[0]), df_val, label='Validation data')\n",
    "\n",
    "ax1.plot(np.arange(train_data.shape[0]+val_data.shape[0], \n",
    "                   train_data.shape[0]+val_data.shape[0]+test_data.shape[0]), df_test, label='Test data')\n",
    "ax1.set_xlabel('Date')\n",
    "ax1.set_ylabel('Normalized Closing Returns')\n",
    "ax1.set_title(\"Close Price\", fontsize=18)\n",
    "ax1.legend(loc=\"best\", fontsize=12)\n"
   ]
  },
  {
   "cell_type": "code",
   "execution_count": 14,
   "metadata": {},
   "outputs": [],
   "source": [
    "def separate_data(dataset, time_step=1, predicting_steps_after=1):\n",
    "    dataset = dataset.ravel()\n",
    "    dataX, dataY = [], []\n",
    "    for i in range(len(dataset) - time_step - predicting_steps_after + 1):\n",
    "        a = dataset[i : (i + time_step)]\n",
    "        dataX.append(a)\n",
    "        dataY.append(dataset[i + time_step + predicting_steps_after - 1])\n",
    "    return np.array(dataX), np.array(dataY)"
   ]
  },
  {
   "cell_type": "markdown",
   "metadata": {
    "id": "K-9JDha_6l3L"
   },
   "source": [
    "## Create chunks of training, validation and test data"
   ]
  },
  {
   "cell_type": "code",
   "execution_count": 15,
   "metadata": {
    "colab": {
     "base_uri": "https://localhost:8080/",
     "height": 68
    },
    "id": "Ib8wOc-_5llL",
    "outputId": "74d3495e-68d3-441d-b050-ec8f134cf888"
   },
   "outputs": [
    {
     "name": "stdout",
     "output_type": "stream",
     "text": [
      "Training set shape (6245, 128) (6245,)\n",
      "Validation set shape (770, 128) (770,)\n",
      "Testing set shape (1681, 128) (1681,)\n"
     ]
    }
   ],
   "source": [
    "# Training data\n",
    "shift_num = 15\n",
    "\n",
    "\n",
    "X_train, y_train = separate_data(train_data, seq_len, shift_num)\n",
    "X_val, y_val = separate_data(val_data, seq_len, shift_num)\n",
    "X_test, y_test = separate_data(test_data, seq_len, shift_num)\n",
    "\n",
    "print('Training set shape', X_train.shape, y_train.shape)\n",
    "print('Validation set shape', X_val.shape, y_val.shape)\n",
    "print('Testing set shape', X_test.shape, y_test.shape)"
   ]
  },
  {
   "cell_type": "code",
   "execution_count": 16,
   "metadata": {},
   "outputs": [
    {
     "data": {
      "text/plain": [
       "0.6061843716970862"
      ]
     },
     "execution_count": 16,
     "metadata": {},
     "output_type": "execute_result"
    }
   ],
   "source": [
    "train_data[:,0][seq_len]"
   ]
  },
  {
   "cell_type": "code",
   "execution_count": 17,
   "metadata": {},
   "outputs": [
    {
     "data": {
      "text/plain": [
       "array([0.76651034, 0.64742765, 0.66276604, ..., 0.63982189, 0.6174632 ,\n",
       "       0.58450009])"
      ]
     },
     "execution_count": 17,
     "metadata": {},
     "output_type": "execute_result"
    }
   ],
   "source": [
    "y_train"
   ]
  },
  {
   "cell_type": "code",
   "execution_count": 18,
   "metadata": {},
   "outputs": [],
   "source": [
    "X_train = X_train.reshape(X_train.shape[0], X_train.shape[1], 1)\n",
    "X_test = X_test.reshape(X_test.shape[0], X_test.shape[1], 1)\n",
    "X_val = X_val.reshape(X_val.shape[0], X_val.shape[1], 1)"
   ]
  },
  {
   "cell_type": "code",
   "execution_count": 19,
   "metadata": {},
   "outputs": [
    {
     "name": "stdout",
     "output_type": "stream",
     "text": [
      "1 Physical GPUs, 1 Logical GPUs\n"
     ]
    }
   ],
   "source": [
    "gpus = tf.config.experimental.list_physical_devices('GPU')\n",
    "if gpus:\n",
    "  try:\n",
    "    # Currently, memory growth needs to be the same across GPUs\n",
    "    for gpu in gpus:\n",
    "      tf.config.experimental.set_memory_growth(gpu, True)\n",
    "    logical_gpus = tf.config.experimental.list_logical_devices('GPU')\n",
    "    print(len(gpus), \"Physical GPUs,\", len(logical_gpus), \"Logical GPUs\")\n",
    "  except RuntimeError as e:\n",
    "    # Memory growth must be set before GPUs have been initialized\n",
    "    print(e)"
   ]
  },
  {
   "cell_type": "markdown",
   "metadata": {
    "id": "OtBanXmQB4jF"
   },
   "source": [
    "## Model"
   ]
  },
  {
   "cell_type": "code",
   "execution_count": 20,
   "metadata": {},
   "outputs": [
    {
     "name": "stdout",
     "output_type": "stream",
     "text": [
      "Model: \"sequential\"\n",
      "_________________________________________________________________\n",
      " Layer (type)                Output Shape              Param #   \n",
      "=================================================================\n",
      " lstm (LSTM)                 (None, 128, 50)           10400     \n",
      "                                                                 \n",
      " dropout (Dropout)           (None, 128, 50)           0         \n",
      "                                                                 \n",
      " lstm_1 (LSTM)               (None, 128, 50)           20200     \n",
      "                                                                 \n",
      " lstm_2 (LSTM)               (None, 50)                20200     \n",
      "                                                                 \n",
      " dense (Dense)               (None, 1)                 51        \n",
      "                                                                 \n",
      "=================================================================\n",
      "Total params: 50,851\n",
      "Trainable params: 50,851\n",
      "Non-trainable params: 0\n",
      "_________________________________________________________________\n",
      "None\n",
      "Epoch 1/50\n",
      "98/98 - 11s - loss: 0.0164 - val_loss: 8.0214e-04 - 11s/epoch - 112ms/step\n",
      "Epoch 2/50\n",
      "98/98 - 2s - loss: 0.0024 - val_loss: 9.0286e-04 - 2s/epoch - 22ms/step\n",
      "Epoch 3/50\n",
      "98/98 - 2s - loss: 0.0024 - val_loss: 8.1229e-04 - 2s/epoch - 21ms/step\n",
      "Epoch 4/50\n",
      "98/98 - 2s - loss: 0.0024 - val_loss: 8.0101e-04 - 2s/epoch - 20ms/step\n",
      "Epoch 5/50\n",
      "98/98 - 2s - loss: 0.0023 - val_loss: 8.5733e-04 - 2s/epoch - 19ms/step\n",
      "Epoch 6/50\n",
      "98/98 - 2s - loss: 0.0024 - val_loss: 8.1739e-04 - 2s/epoch - 20ms/step\n",
      "Epoch 7/50\n",
      "98/98 - 2s - loss: 0.0023 - val_loss: 9.6237e-04 - 2s/epoch - 20ms/step\n",
      "Epoch 8/50\n",
      "98/98 - 2s - loss: 0.0023 - val_loss: 8.0108e-04 - 2s/epoch - 20ms/step\n",
      "Epoch 9/50\n",
      "98/98 - 2s - loss: 0.0023 - val_loss: 8.3574e-04 - 2s/epoch - 21ms/step\n",
      "Epoch 10/50\n",
      "98/98 - 2s - loss: 0.0023 - val_loss: 8.1852e-04 - 2s/epoch - 21ms/step\n",
      "Epoch 11/50\n",
      "98/98 - 2s - loss: 0.0023 - val_loss: 0.0010 - 2s/epoch - 20ms/step\n",
      "Epoch 12/50\n",
      "98/98 - 2s - loss: 0.0023 - val_loss: 9.5612e-04 - 2s/epoch - 20ms/step\n",
      "Epoch 13/50\n",
      "98/98 - 2s - loss: 0.0024 - val_loss: 9.9458e-04 - 2s/epoch - 20ms/step\n",
      "Epoch 14/50\n",
      "98/98 - 2s - loss: 0.0023 - val_loss: 8.2948e-04 - 2s/epoch - 20ms/step\n",
      "Epoch 15/50\n",
      "98/98 - 2s - loss: 0.0023 - val_loss: 7.9923e-04 - 2s/epoch - 20ms/step\n",
      "Epoch 16/50\n",
      "98/98 - 2s - loss: 0.0022 - val_loss: 0.0010 - 2s/epoch - 20ms/step\n",
      "Epoch 17/50\n",
      "98/98 - 2s - loss: 0.0023 - val_loss: 8.0215e-04 - 2s/epoch - 19ms/step\n",
      "Epoch 18/50\n",
      "98/98 - 2s - loss: 0.0023 - val_loss: 7.9573e-04 - 2s/epoch - 20ms/step\n",
      "Epoch 19/50\n",
      "98/98 - 2s - loss: 0.0023 - val_loss: 7.9740e-04 - 2s/epoch - 20ms/step\n",
      "Epoch 20/50\n",
      "98/98 - 2s - loss: 0.0023 - val_loss: 8.1368e-04 - 2s/epoch - 20ms/step\n",
      "Epoch 21/50\n",
      "98/98 - 2s - loss: 0.0023 - val_loss: 8.0779e-04 - 2s/epoch - 19ms/step\n",
      "Epoch 22/50\n",
      "98/98 - 2s - loss: 0.0022 - val_loss: 9.5719e-04 - 2s/epoch - 20ms/step\n",
      "Epoch 23/50\n",
      "98/98 - 2s - loss: 0.0022 - val_loss: 8.1809e-04 - 2s/epoch - 20ms/step\n",
      "Epoch 24/50\n",
      "98/98 - 2s - loss: 0.0023 - val_loss: 9.6398e-04 - 2s/epoch - 19ms/step\n",
      "Epoch 25/50\n",
      "98/98 - 2s - loss: 0.0022 - val_loss: 8.0934e-04 - 2s/epoch - 20ms/step\n",
      "Epoch 26/50\n",
      "98/98 - 2s - loss: 0.0022 - val_loss: 8.0289e-04 - 2s/epoch - 19ms/step\n",
      "Epoch 27/50\n",
      "98/98 - 2s - loss: 0.0022 - val_loss: 8.2560e-04 - 2s/epoch - 20ms/step\n",
      "Epoch 28/50\n",
      "98/98 - 2s - loss: 0.0023 - val_loss: 8.1669e-04 - 2s/epoch - 20ms/step\n",
      "Epoch 29/50\n",
      "98/98 - 2s - loss: 0.0022 - val_loss: 9.2537e-04 - 2s/epoch - 19ms/step\n",
      "Epoch 30/50\n",
      "98/98 - 2s - loss: 0.0023 - val_loss: 8.7511e-04 - 2s/epoch - 19ms/step\n",
      "Epoch 31/50\n",
      "98/98 - 2s - loss: 0.0022 - val_loss: 7.9744e-04 - 2s/epoch - 20ms/step\n",
      "Epoch 32/50\n",
      "98/98 - 2s - loss: 0.0022 - val_loss: 8.0853e-04 - 2s/epoch - 20ms/step\n",
      "Epoch 33/50\n",
      "98/98 - 2s - loss: 0.0022 - val_loss: 9.6315e-04 - 2s/epoch - 19ms/step\n",
      "Epoch 34/50\n",
      "98/98 - 2s - loss: 0.0023 - val_loss: 7.9758e-04 - 2s/epoch - 20ms/step\n",
      "Epoch 35/50\n",
      "98/98 - 2s - loss: 0.0022 - val_loss: 8.3007e-04 - 2s/epoch - 19ms/step\n",
      "Epoch 36/50\n",
      "98/98 - 2s - loss: 0.0023 - val_loss: 8.6818e-04 - 2s/epoch - 20ms/step\n",
      "Epoch 37/50\n",
      "98/98 - 2s - loss: 0.0023 - val_loss: 8.0260e-04 - 2s/epoch - 19ms/step\n",
      "Epoch 38/50\n",
      "98/98 - 2s - loss: 0.0023 - val_loss: 8.2247e-04 - 2s/epoch - 19ms/step\n",
      "Epoch 39/50\n",
      "98/98 - 2s - loss: 0.0022 - val_loss: 8.0030e-04 - 2s/epoch - 19ms/step\n",
      "Epoch 40/50\n",
      "98/98 - 2s - loss: 0.0022 - val_loss: 7.9541e-04 - 2s/epoch - 19ms/step\n",
      "Epoch 41/50\n",
      "98/98 - 2s - loss: 0.0022 - val_loss: 7.9967e-04 - 2s/epoch - 19ms/step\n",
      "Epoch 42/50\n",
      "98/98 - 2s - loss: 0.0023 - val_loss: 8.9460e-04 - 2s/epoch - 20ms/step\n",
      "Epoch 43/50\n",
      "98/98 - 2s - loss: 0.0022 - val_loss: 7.9606e-04 - 2s/epoch - 20ms/step\n",
      "Epoch 44/50\n",
      "98/98 - 2s - loss: 0.0022 - val_loss: 7.9915e-04 - 2s/epoch - 19ms/step\n",
      "Epoch 45/50\n",
      "98/98 - 2s - loss: 0.0022 - val_loss: 7.9950e-04 - 2s/epoch - 19ms/step\n",
      "Epoch 46/50\n",
      "98/98 - 2s - loss: 0.0022 - val_loss: 7.9991e-04 - 2s/epoch - 19ms/step\n",
      "Epoch 47/50\n",
      "98/98 - 2s - loss: 0.0022 - val_loss: 7.9719e-04 - 2s/epoch - 20ms/step\n",
      "Epoch 48/50\n",
      "98/98 - 2s - loss: 0.0022 - val_loss: 8.0438e-04 - 2s/epoch - 20ms/step\n",
      "Epoch 49/50\n",
      "98/98 - 2s - loss: 0.0022 - val_loss: 8.0341e-04 - 2s/epoch - 21ms/step\n",
      "Epoch 50/50\n",
      "98/98 - 2s - loss: 0.0022 - val_loss: 9.6097e-04 - 2s/epoch - 23ms/step\n"
     ]
    }
   ],
   "source": [
    "from tensorflow import keras\n",
    "from tensorflow.keras import layers\n",
    "from tensorflow.keras import models\n",
    "\n",
    "model = models.Sequential()\n",
    "\n",
    "model.add(layers.LSTM(50, return_sequences=True, input_shape=(seq_len, 1)))\n",
    "model.add(layers.Dropout(0.25))\n",
    "model.add(layers.LSTM(50, return_sequences=True))\n",
    "model.add(layers.LSTM(50))\n",
    "model.add(layers.Dense(1))\n",
    "model.compile(loss=\"mean_squared_error\", optimizer=\"adam\")\n",
    "print(model.summary())\n",
    "\n",
    "start = time.time()\n",
    "\n",
    "history = model.fit(\n",
    "    X_train,\n",
    "    y_train,\n",
    "    validation_data=(X_val, y_val),\n",
    "    epochs=50,\n",
    "    batch_size=64,\n",
    "    verbose=2,\n",
    ")\n",
    "\n",
    "stop = time.time()"
   ]
  },
  {
   "cell_type": "code",
   "execution_count": 21,
   "metadata": {},
   "outputs": [
    {
     "name": "stdout",
     "output_type": "stream",
     "text": [
      "Training time: 106.56468415260315s\n"
     ]
    }
   ],
   "source": [
    "print(f\"Training time: {stop - start}s\")"
   ]
  },
  {
   "cell_type": "code",
   "execution_count": 21,
   "metadata": {},
   "outputs": [
    {
     "data": {
      "image/png": "[encoded data removed]",
      "text/plain": [
       "<Figure size 576x396 with 1 Axes>"
      ]
     },
     "metadata": {},
     "output_type": "display_data"
    }
   ],
   "source": [
    "plt.plot(history.history[\"loss\"], label = \"Loss\")\n",
    "plt.plot(history.history[\"val_loss\"], label = \"Val_loss\")\n",
    "plt.legend()\n",
    "plt.show()"
   ]
  },
  {
   "cell_type": "markdown",
   "metadata": {},
   "source": [
    "## Accuracy"
   ]
  },
  {
   "cell_type": "code",
   "execution_count": 22,
   "metadata": {},
   "outputs": [],
   "source": [
    "def MSE(y_actual, y_predicted):\n",
    "    mse = np.mean((y_actual - y_predicted)**2)\n",
    "    return mse\n",
    "\n",
    "def MAE(y_actual, y_predicted):\n",
    "    mae = np.mean(abs(y_actual - y_predicted))\n",
    "    return mae\n",
    "\n",
    "def MAPE(y_actual, y_predicted):\n",
    "    mape = np.mean(np.abs((y_actual - y_predicted)/y_actual))*100\n",
    "    return mape\n",
    "\n",
    "def RMSE(y_actual, y_predicted):\n",
    "    rmse = np.sqrt(MSE(y_actual, y_predicted))\n",
    "    return rmse"
   ]
  },
  {
   "cell_type": "code",
   "execution_count": 23,
   "metadata": {},
   "outputs": [
    {
     "name": "stdout",
     "output_type": "stream",
     "text": [
      "MSE:  0.00128\n",
      "MAE:  0.02492\n",
      "MAPE:  4.08494\n",
      "RMSE:  0.03578\n"
     ]
    }
   ],
   "source": [
    "test_pred = model.predict(X_test)\n",
    "mse = round(MSE(y_test, test_pred),5)\n",
    "mae = round(MAE(y_test, test_pred),5)\n",
    "mape = round(MAPE(y_test, test_pred),5)\n",
    "rmse = round(RMSE(y_test, test_pred),5)\n",
    "print(\"MSE: \",mse)\n",
    "print(\"MAE: \",mae)\n",
    "print(\"MAPE: \",mape)\n",
    "print(\"RMSE: \",rmse)"
   ]
  },
  {
   "cell_type": "markdown",
   "metadata": {},
   "source": [
    "## Store accuracy data"
   ]
  },
  {
   "cell_type": "code",
   "execution_count": 24,
   "metadata": {},
   "outputs": [],
   "source": [
    "field_names = [\"MSE\", \"MAE\", \"MAPE\", \"RMSE\"]"
   ]
  },
  {
   "cell_type": "code",
   "execution_count": 25,
   "metadata": {},
   "outputs": [],
   "source": [
    "new_row={'MSE':mse,'MAE': mae,'MAPE': mape,'RMSE':rmse}"
   ]
  },
  {
   "cell_type": "code",
   "execution_count": 26,
   "metadata": {},
   "outputs": [],
   "source": [
    "file_route = 'Accuracy_data/LSTM.csv'"
   ]
  },
  {
   "cell_type": "code",
   "execution_count": 27,
   "metadata": {},
   "outputs": [],
   "source": [
    "from csv import DictWriter\n",
    "\n",
    "with open(file_route, 'a', encoding='UTF8') as f_object:\n",
    "    \n",
    "    dictwriter_object = DictWriter(f_object, fieldnames=field_names)\n",
    "\n",
    "    dictwriter_object.writerow(new_row)\n",
    "  \n",
    "    f_object.close()"
   ]
  },
  {
   "cell_type": "code",
   "execution_count": 28,
   "metadata": {},
   "outputs": [
    {
     "data": {
      "text/html": [
       "<div>\n",
       "<style scoped>\n",
       "    .dataframe tbody tr th:only-of-type {\n",
       "        vertical-align: middle;\n",
       "    }\n",
       "\n",
       "    .dataframe tbody tr th {\n",
       "        vertical-align: top;\n",
       "    }\n",
       "\n",
       "    .dataframe thead th {\n",
       "        text-align: right;\n",
       "    }\n",
       "</style>\n",
       "<table border=\"1\" class=\"dataframe\">\n",
       "  <thead>\n",
       "    <tr style=\"text-align: right;\">\n",
       "      <th></th>\n",
       "      <th>MSE</th>\n",
       "      <th>MAE</th>\n",
       "      <th>MAPE</th>\n",
       "      <th>RMSE</th>\n",
       "    </tr>\n",
       "  </thead>\n",
       "  <tbody>\n",
       "    <tr>\n",
       "      <th>0</th>\n",
       "      <td>0.00123</td>\n",
       "      <td>0.02397</td>\n",
       "      <td>3.94729</td>\n",
       "      <td>0.03508</td>\n",
       "    </tr>\n",
       "    <tr>\n",
       "      <th>1</th>\n",
       "      <td>0.00121</td>\n",
       "      <td>0.02354</td>\n",
       "      <td>3.88811</td>\n",
       "      <td>0.03477</td>\n",
       "    </tr>\n",
       "    <tr>\n",
       "      <th>2</th>\n",
       "      <td>0.00122</td>\n",
       "      <td>0.02368</td>\n",
       "      <td>3.90741</td>\n",
       "      <td>0.03487</td>\n",
       "    </tr>\n",
       "    <tr>\n",
       "      <th>3</th>\n",
       "      <td>0.00118</td>\n",
       "      <td>0.02310</td>\n",
       "      <td>3.84390</td>\n",
       "      <td>0.03442</td>\n",
       "    </tr>\n",
       "    <tr>\n",
       "      <th>4</th>\n",
       "      <td>0.00121</td>\n",
       "      <td>0.02372</td>\n",
       "      <td>3.98125</td>\n",
       "      <td>0.03483</td>\n",
       "    </tr>\n",
       "    <tr>\n",
       "      <th>5</th>\n",
       "      <td>0.00137</td>\n",
       "      <td>0.02644</td>\n",
       "      <td>4.47895</td>\n",
       "      <td>0.03706</td>\n",
       "    </tr>\n",
       "    <tr>\n",
       "      <th>6</th>\n",
       "      <td>0.00122</td>\n",
       "      <td>0.02379</td>\n",
       "      <td>3.92170</td>\n",
       "      <td>0.03494</td>\n",
       "    </tr>\n",
       "    <tr>\n",
       "      <th>7</th>\n",
       "      <td>0.00120</td>\n",
       "      <td>0.02339</td>\n",
       "      <td>3.86878</td>\n",
       "      <td>0.03466</td>\n",
       "    </tr>\n",
       "    <tr>\n",
       "      <th>8</th>\n",
       "      <td>0.00122</td>\n",
       "      <td>0.02388</td>\n",
       "      <td>4.01183</td>\n",
       "      <td>0.03495</td>\n",
       "    </tr>\n",
       "    <tr>\n",
       "      <th>9</th>\n",
       "      <td>0.00154</td>\n",
       "      <td>0.02919</td>\n",
       "      <td>4.73709</td>\n",
       "      <td>0.03921</td>\n",
       "    </tr>\n",
       "    <tr>\n",
       "      <th>10</th>\n",
       "      <td>0.00128</td>\n",
       "      <td>0.02492</td>\n",
       "      <td>4.08494</td>\n",
       "      <td>0.03578</td>\n",
       "    </tr>\n",
       "  </tbody>\n",
       "</table>\n",
       "</div>"
      ],
      "text/plain": [
       "        MSE      MAE     MAPE     RMSE\n",
       "0   0.00123  0.02397  3.94729  0.03508\n",
       "1   0.00121  0.02354  3.88811  0.03477\n",
       "2   0.00122  0.02368  3.90741  0.03487\n",
       "3   0.00118  0.02310  3.84390  0.03442\n",
       "4   0.00121  0.02372  3.98125  0.03483\n",
       "5   0.00137  0.02644  4.47895  0.03706\n",
       "6   0.00122  0.02379  3.92170  0.03494\n",
       "7   0.00120  0.02339  3.86878  0.03466\n",
       "8   0.00122  0.02388  4.01183  0.03495\n",
       "9   0.00154  0.02919  4.73709  0.03921\n",
       "10  0.00128  0.02492  4.08494  0.03578"
      ]
     },
     "execution_count": 28,
     "metadata": {},
     "output_type": "execute_result"
    }
   ],
   "source": [
    "accuracy_data = pd.read_csv(file_route)\n",
    "accuracy_data"
   ]
  },
  {
   "cell_type": "code",
   "execution_count": 29,
   "metadata": {},
   "outputs": [
    {
     "data": {
      "image/png": "[encoded data removed]",
      "text/plain": [
       "<Figure size 576x396 with 1 Axes>"
      ]
     },
     "metadata": {},
     "output_type": "display_data"
    }
   ],
   "source": [
    "plt.plot(accuracy_data[\"MAPE\"], label = \"MAPE\")\n",
    "plt.legend()\n",
    "plt.show()"
   ]
  }
 ],
 "metadata": {
  "colab": {
   "collapsed_sections": [],
   "name": "IBM_Transformer+TimeEmbedding_Github.ipynb",
   "provenance": []
  },
  "kernelspec": {
   "display_name": "Python 3 (ipykernel)",
   "language": "python",
   "name": "python3"
  },
  "language_info": {
   "codemirror_mode": {
    "name": "ipython",
    "version": 3
   },
   "file_extension": ".py",
   "mimetype": "text/x-python",
   "name": "python",
   "nbconvert_exporter": "python",
   "pygments_lexer": "ipython3",
   "version": "3.9.6"
  }
 },
 "nbformat": 4,
 "nbformat_minor": 1
}
