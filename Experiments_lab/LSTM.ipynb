{
 "cells": [
  {
   "cell_type": "code",
   "execution_count": 1,
   "metadata": {
    "colab": {
     "base_uri": "https://localhost:8080/"
    },
    "id": "i6zxz6xZyWb2",
    "outputId": "d80a4b3f-7fb0-4e51-bfa6-879b0b1edefc"
   },
   "outputs": [
    {
     "name": "stdout",
     "output_type": "stream",
     "text": [
      "Tensorflow version: 2.8.0\n"
     ]
    }
   ],
   "source": [
    "import numpy as np\n",
    "import pandas as pd\n",
    "import yfinance as yf\n",
    "import csv\n",
    "import time\n",
    "import os, datetime\n",
    "os.environ[\"CUDA_DEVICE_ORDER\"] = \"PCI_BUS_ID\"\n",
    "os.environ[\"CUDA_VISIBLE_DEVICES\"] = \"0\"\n",
    "import tensorflow as tf\n",
    "import pandas_datareader as pdr\n",
    "from sklearn.preprocessing import MinMaxScaler\n",
    "from tensorflow.keras.models import *\n",
    "from tensorflow.keras.layers import *\n",
    "print('Tensorflow version: {}'.format(tf.__version__))\n",
    "\n",
    "import matplotlib.pyplot as plt\n",
    "plt.style.use('seaborn')\n",
    "\n",
    "import warnings\n",
    "warnings.filterwarnings('ignore')\n"
   ]
  },
  {
   "cell_type": "code",
   "execution_count": 2,
   "metadata": {},
   "outputs": [
    {
     "name": "stdout",
     "output_type": "stream",
     "text": [
      "Num GPUs Available:  1\n"
     ]
    }
   ],
   "source": [
    "print(\"Num GPUs Available: \", len(tf.config.experimental.list_physical_devices('GPU')))"
   ]
  },
  {
   "cell_type": "markdown",
   "metadata": {
    "id": "ykFSM9LT54LR"
   },
   "source": [
    "## Hyperparameters"
   ]
  },
  {
   "cell_type": "code",
   "execution_count": 3,
   "metadata": {
    "id": "Acgb31zy5lcD"
   },
   "outputs": [],
   "source": [
    "batch_size = 64\n",
    "seq_len = 128\n",
    "\n",
    "d_k = 256\n",
    "d_v = 256\n",
    "n_heads = 12\n",
    "ff_dim = 256"
   ]
  },
  {
   "cell_type": "markdown",
   "metadata": {
    "id": "HnPzNUPK50Ki"
   },
   "source": [
    "## Load Microsoft data"
   ]
  },
  {
   "cell_type": "code",
   "execution_count": 4,
   "metadata": {},
   "outputs": [
    {
     "data": {
      "text/plain": [
       "0         0.061252\n",
       "1         0.063439\n",
       "2         0.064533\n",
       "3         0.062892\n",
       "4         0.061799\n",
       "           ...    \n",
       "9098    280.519989\n",
       "9099    285.299988\n",
       "9100    286.359985\n",
       "9101    280.809998\n",
       "9102    277.559998\n",
       "Name: Close, Length: 9103, dtype: float64"
      ]
     },
     "execution_count": 4,
     "metadata": {},
     "output_type": "execute_result"
    }
   ],
   "source": [
    "# df = pdr.get_data_tiingo(\"MSFT\", api_key=\"aeeaa9dbc8f82f2c361abaa259050d75e736b424\")\n",
    "\n",
    "ticker = yf.Ticker(\"MSFT\")\n",
    "df = ticker.history(period=\"max\")\n",
    "\n",
    "\n",
    "df.to_csv(\"MSFT.csv\")\n",
    "df = pd.read_csv(\"MSFT.csv\", delimiter=',', usecols=['Date', 'Close'])\n",
    "df.sort_values('Date', inplace=True)\n",
    "price_history = df\n",
    "df = df[\"Close\"]\n",
    "\n",
    "prices = price_history[[\"Close\"]].pct_change().dropna()\n",
    "\n",
    "df"
   ]
  },
  {
   "cell_type": "code",
   "execution_count": 5,
   "metadata": {},
   "outputs": [
    {
     "data": {
      "text/html": [
       "<div>\n",
       "<style scoped>\n",
       "    .dataframe tbody tr th:only-of-type {\n",
       "        vertical-align: middle;\n",
       "    }\n",
       "\n",
       "    .dataframe tbody tr th {\n",
       "        vertical-align: top;\n",
       "    }\n",
       "\n",
       "    .dataframe thead th {\n",
       "        text-align: right;\n",
       "    }\n",
       "</style>\n",
       "<table border=\"1\" class=\"dataframe\">\n",
       "  <thead>\n",
       "    <tr style=\"text-align: right;\">\n",
       "      <th></th>\n",
       "      <th>Close</th>\n",
       "    </tr>\n",
       "  </thead>\n",
       "  <tbody>\n",
       "    <tr>\n",
       "      <th>1</th>\n",
       "      <td>0.035712</td>\n",
       "    </tr>\n",
       "    <tr>\n",
       "      <th>2</th>\n",
       "      <td>0.017250</td>\n",
       "    </tr>\n",
       "    <tr>\n",
       "      <th>3</th>\n",
       "      <td>-0.025432</td>\n",
       "    </tr>\n",
       "    <tr>\n",
       "      <th>4</th>\n",
       "      <td>-0.017390</td>\n",
       "    </tr>\n",
       "    <tr>\n",
       "      <th>5</th>\n",
       "      <td>-0.026547</td>\n",
       "    </tr>\n",
       "    <tr>\n",
       "      <th>...</th>\n",
       "      <td>...</td>\n",
       "    </tr>\n",
       "    <tr>\n",
       "      <th>9098</th>\n",
       "      <td>0.002466</td>\n",
       "    </tr>\n",
       "    <tr>\n",
       "      <th>9099</th>\n",
       "      <td>0.017040</td>\n",
       "    </tr>\n",
       "    <tr>\n",
       "      <th>9100</th>\n",
       "      <td>0.003715</td>\n",
       "    </tr>\n",
       "    <tr>\n",
       "      <th>9101</th>\n",
       "      <td>-0.019381</td>\n",
       "    </tr>\n",
       "    <tr>\n",
       "      <th>9102</th>\n",
       "      <td>-0.011574</td>\n",
       "    </tr>\n",
       "  </tbody>\n",
       "</table>\n",
       "<p>9102 rows × 1 columns</p>\n",
       "</div>"
      ],
      "text/plain": [
       "         Close\n",
       "1     0.035712\n",
       "2     0.017250\n",
       "3    -0.025432\n",
       "4    -0.017390\n",
       "5    -0.026547\n",
       "...        ...\n",
       "9098  0.002466\n",
       "9099  0.017040\n",
       "9100  0.003715\n",
       "9101 -0.019381\n",
       "9102 -0.011574\n",
       "\n",
       "[9102 rows x 1 columns]"
      ]
     },
     "execution_count": 5,
     "metadata": {},
     "output_type": "execute_result"
    }
   ],
   "source": [
    "prices"
   ]
  },
  {
   "cell_type": "markdown",
   "metadata": {
    "id": "Caac4a66588l"
   },
   "source": [
    "## Plot daily IBM closing prices and volume"
   ]
  },
  {
   "cell_type": "code",
   "execution_count": 6,
   "metadata": {
    "colab": {
     "base_uri": "https://localhost:8080/",
     "height": 637
    },
    "id": "JJ1tN1_k5lx2",
    "outputId": "1efdbdf0-3fef-4db4-b1db-1be2fb5bfe5d"
   },
   "outputs": [],
   "source": [
    "# fig = plt.figure(figsize=(15,10))\n",
    "# st = fig.suptitle(\"Microsoft Close Price and Volume\", fontsize=20)\n",
    "# st.set_y(0.92)\n",
    "\n",
    "# ax1 = fig.add_subplot(211)\n",
    "# ax1.plot(df['Close'], label='MS Close Price')\n",
    "# ax1.set_xticks(range(0, df.shape[0], 1464))\n",
    "# ax1.set_xticklabels(df['Date'].loc[::1464])\n",
    "# ax1.set_ylabel('close Price', fontsize=18)\n",
    "# ax1.legend(loc=\"upper left\", fontsize=12)\n",
    "\n",
    "# ax2 = fig.add_subplot(212)\n",
    "# ax2.plot(df['Volume'], label='MS Volume')\n",
    "# ax2.set_xticks(range(0, df.shape[0], 1464))\n",
    "# ax2.set_xticklabels(df['Date'].loc[::1464])\n",
    "# ax2.set_ylabel('volume', fontsize=18)\n",
    "# ax2.legend(loc=\"upper left\", fontsize=12)"
   ]
  },
  {
   "cell_type": "markdown",
   "metadata": {
    "id": "fTS3Cm2H6GBz"
   },
   "source": [
    "## Calculate normalized percentage change of all columns"
   ]
  },
  {
   "cell_type": "code",
   "execution_count": 7,
   "metadata": {},
   "outputs": [],
   "source": [
    "# '''Calculate percentage change'''\n",
    "\n",
    "# df['Open'] = df['Open'].pct_change() # Create arithmetic returns column\n",
    "# df['High'] = df['High'].pct_change() # Create arithmetic returns column\n",
    "# df['Low'] = df['Low'].pct_change() # Create arithmetic returns column\n",
    "# df['Close'] = df['Close'].pct_change() # Create arithmetic returns column\n",
    "# df['Volume'] = df['Volume'].pct_change()\n",
    "\n",
    "# df.dropna(how='any', axis=0, inplace=True) # Drop all rows with NaN values\n",
    "\n",
    "###############################################################################\n",
    "'''Create indexes to split dataset'''\n",
    "\n",
    "times = sorted(df.index.values)\n",
    "last_10pct = sorted(df.index.values)[-int(0.1*len(times))] # Last 10% of series\n",
    "last_20pct = sorted(df.index.values)[-int(0.2*len(times))] # Last 20% of series\n",
    "last_30pct = sorted(df.index.values)[-int(0.3*len(times))] # Last 30% of series\n",
    "\n",
    "# ###############################################################################\n",
    "# '''Normalize price columns'''\n",
    "# #\n",
    "# min_return = min(df[(df.index < last_20pct)][['Open', 'High', 'Low', 'Close']].min(axis=0))\n",
    "# max_return = max(df[(df.index < last_20pct)][['Open', 'High', 'Low', 'Close']].max(axis=0))\n",
    "\n",
    "# print(min_return)\n",
    "# print(max_return)"
   ]
  },
  {
   "cell_type": "code",
   "execution_count": 8,
   "metadata": {},
   "outputs": [
    {
     "data": {
      "text/plain": [
       "array([[1.27790319e-05],\n",
       "       [1.91685697e-05],\n",
       "       [2.23651503e-05],\n",
       "       ...,\n",
       "       [8.36299636e-01],\n",
       "       [8.20087961e-01],\n",
       "       [8.10594618e-01]])"
      ]
     },
     "execution_count": 8,
     "metadata": {},
     "output_type": "execute_result"
    }
   ],
   "source": [
    "# Min-max normalize price columns (0-1 range)\n",
    "# df_temp = df[['Open','High','Low','Close']]\n",
    "scaler_1 = MinMaxScaler(feature_range=(0, 1))\n",
    "df = scaler_1.fit_transform(np.array(df).reshape(-1,1))\n",
    "df\n",
    "# df['Open'] = (df['Open'] - min_return) / (max_return - min_return)\n",
    "# df['High'] = (df['High'] - min_return) / (max_return - min_return)\n",
    "# df['Low'] = (df['Low'] - min_return) / (max_return - min_return)\n",
    "# df['Close'] = (df['Close'] - min_return) / (max_return - min_return)"
   ]
  },
  {
   "cell_type": "code",
   "execution_count": 9,
   "metadata": {},
   "outputs": [
    {
     "data": {
      "text/plain": [
       "array([[0.67806642],\n",
       "       [0.6409055 ],\n",
       "       [0.55499404],\n",
       "       ...,\n",
       "       [0.61366223],\n",
       "       [0.56717267],\n",
       "       [0.58288788]])"
      ]
     },
     "execution_count": 9,
     "metadata": {},
     "output_type": "execute_result"
    }
   ],
   "source": [
    "scaler_2 = MinMaxScaler()\n",
    "df_prices = scaler_2.fit_transform(prices)\n",
    "df_prices"
   ]
  },
  {
   "cell_type": "code",
   "execution_count": 10,
   "metadata": {},
   "outputs": [
    {
     "data": {
      "text/html": [
       "<div>\n",
       "<style scoped>\n",
       "    .dataframe tbody tr th:only-of-type {\n",
       "        vertical-align: middle;\n",
       "    }\n",
       "\n",
       "    .dataframe tbody tr th {\n",
       "        vertical-align: top;\n",
       "    }\n",
       "\n",
       "    .dataframe thead th {\n",
       "        text-align: right;\n",
       "    }\n",
       "</style>\n",
       "<table border=\"1\" class=\"dataframe\">\n",
       "  <thead>\n",
       "    <tr style=\"text-align: right;\">\n",
       "      <th></th>\n",
       "      <th>Close</th>\n",
       "    </tr>\n",
       "  </thead>\n",
       "  <tbody>\n",
       "    <tr>\n",
       "      <th>0</th>\n",
       "      <td>0.000013</td>\n",
       "    </tr>\n",
       "    <tr>\n",
       "      <th>1</th>\n",
       "      <td>0.000019</td>\n",
       "    </tr>\n",
       "    <tr>\n",
       "      <th>2</th>\n",
       "      <td>0.000022</td>\n",
       "    </tr>\n",
       "    <tr>\n",
       "      <th>3</th>\n",
       "      <td>0.000018</td>\n",
       "    </tr>\n",
       "    <tr>\n",
       "      <th>4</th>\n",
       "      <td>0.000014</td>\n",
       "    </tr>\n",
       "    <tr>\n",
       "      <th>...</th>\n",
       "      <td>...</td>\n",
       "    </tr>\n",
       "    <tr>\n",
       "      <th>9098</th>\n",
       "      <td>0.819241</td>\n",
       "    </tr>\n",
       "    <tr>\n",
       "      <th>9099</th>\n",
       "      <td>0.833203</td>\n",
       "    </tr>\n",
       "    <tr>\n",
       "      <th>9100</th>\n",
       "      <td>0.836300</td>\n",
       "    </tr>\n",
       "    <tr>\n",
       "      <th>9101</th>\n",
       "      <td>0.820088</td>\n",
       "    </tr>\n",
       "    <tr>\n",
       "      <th>9102</th>\n",
       "      <td>0.810595</td>\n",
       "    </tr>\n",
       "  </tbody>\n",
       "</table>\n",
       "<p>9102 rows × 1 columns</p>\n",
       "</div>"
      ],
      "text/plain": [
       "         Close\n",
       "0     0.000013\n",
       "1     0.000019\n",
       "2     0.000022\n",
       "3     0.000018\n",
       "4     0.000014\n",
       "...        ...\n",
       "9098  0.819241\n",
       "9099  0.833203\n",
       "9100  0.836300\n",
       "9101  0.820088\n",
       "9102  0.810595\n",
       "\n",
       "[9102 rows x 1 columns]"
      ]
     },
     "execution_count": 10,
     "metadata": {},
     "output_type": "execute_result"
    }
   ],
   "source": [
    "df = pd.DataFrame(df,columns=['Close'])\n",
    "# scaler_2 = MinMaxScaler(feature_range=(0, 1))\n",
    "# df['Volume'] = scaler_1.fit_transform(np.array(df['Volume']).reshape(-1, 1))\n",
    "df.replace(0, np.nan, inplace=True)\n",
    "df.dropna(how='any', axis=0, inplace=True)\n",
    "# df.reset_index(inplace=True)\n",
    "df"
   ]
  },
  {
   "cell_type": "code",
   "execution_count": 11,
   "metadata": {},
   "outputs": [
    {
     "data": {
      "text/html": [
       "<div>\n",
       "<style scoped>\n",
       "    .dataframe tbody tr th:only-of-type {\n",
       "        vertical-align: middle;\n",
       "    }\n",
       "\n",
       "    .dataframe tbody tr th {\n",
       "        vertical-align: top;\n",
       "    }\n",
       "\n",
       "    .dataframe thead th {\n",
       "        text-align: right;\n",
       "    }\n",
       "</style>\n",
       "<table border=\"1\" class=\"dataframe\">\n",
       "  <thead>\n",
       "    <tr style=\"text-align: right;\">\n",
       "      <th></th>\n",
       "      <th>Close</th>\n",
       "    </tr>\n",
       "  </thead>\n",
       "  <tbody>\n",
       "    <tr>\n",
       "      <th>0</th>\n",
       "      <td>0.678066</td>\n",
       "    </tr>\n",
       "    <tr>\n",
       "      <th>1</th>\n",
       "      <td>0.640905</td>\n",
       "    </tr>\n",
       "    <tr>\n",
       "      <th>2</th>\n",
       "      <td>0.554994</td>\n",
       "    </tr>\n",
       "    <tr>\n",
       "      <th>3</th>\n",
       "      <td>0.571180</td>\n",
       "    </tr>\n",
       "    <tr>\n",
       "      <th>4</th>\n",
       "      <td>0.552749</td>\n",
       "    </tr>\n",
       "    <tr>\n",
       "      <th>...</th>\n",
       "      <td>...</td>\n",
       "    </tr>\n",
       "    <tr>\n",
       "      <th>9097</th>\n",
       "      <td>0.611147</td>\n",
       "    </tr>\n",
       "    <tr>\n",
       "      <th>9098</th>\n",
       "      <td>0.640482</td>\n",
       "    </tr>\n",
       "    <tr>\n",
       "      <th>9099</th>\n",
       "      <td>0.613662</td>\n",
       "    </tr>\n",
       "    <tr>\n",
       "      <th>9100</th>\n",
       "      <td>0.567173</td>\n",
       "    </tr>\n",
       "    <tr>\n",
       "      <th>9101</th>\n",
       "      <td>0.582888</td>\n",
       "    </tr>\n",
       "  </tbody>\n",
       "</table>\n",
       "<p>9102 rows × 1 columns</p>\n",
       "</div>"
      ],
      "text/plain": [
       "         Close\n",
       "0     0.678066\n",
       "1     0.640905\n",
       "2     0.554994\n",
       "3     0.571180\n",
       "4     0.552749\n",
       "...        ...\n",
       "9097  0.611147\n",
       "9098  0.640482\n",
       "9099  0.613662\n",
       "9100  0.567173\n",
       "9101  0.582888\n",
       "\n",
       "[9102 rows x 1 columns]"
      ]
     },
     "execution_count": 11,
     "metadata": {},
     "output_type": "execute_result"
    }
   ],
   "source": [
    "df = pd.DataFrame(df_prices,columns=['Close'])\n",
    "df"
   ]
  },
  {
   "cell_type": "code",
   "execution_count": 12,
   "metadata": {
    "colab": {
     "base_uri": "https://localhost:8080/",
     "height": 255
    },
    "id": "i7_Uju9B5lqY",
    "outputId": "e56a1ca3-9c69-4ea4-ce2b-e1411c64452a"
   },
   "outputs": [
    {
     "name": "stdout",
     "output_type": "stream",
     "text": [
      "Training data shape: (6373, 1)\n",
      "Validation data shape: (910, 1)\n",
      "Test data shape: (1819, 1)\n"
     ]
    },
    {
     "data": {
      "text/html": [
       "<div>\n",
       "<style scoped>\n",
       "    .dataframe tbody tr th:only-of-type {\n",
       "        vertical-align: middle;\n",
       "    }\n",
       "\n",
       "    .dataframe tbody tr th {\n",
       "        vertical-align: top;\n",
       "    }\n",
       "\n",
       "    .dataframe thead th {\n",
       "        text-align: right;\n",
       "    }\n",
       "</style>\n",
       "<table border=\"1\" class=\"dataframe\">\n",
       "  <thead>\n",
       "    <tr style=\"text-align: right;\">\n",
       "      <th></th>\n",
       "      <th>Close</th>\n",
       "    </tr>\n",
       "  </thead>\n",
       "  <tbody>\n",
       "    <tr>\n",
       "      <th>0</th>\n",
       "      <td>0.678066</td>\n",
       "    </tr>\n",
       "    <tr>\n",
       "      <th>1</th>\n",
       "      <td>0.640905</td>\n",
       "    </tr>\n",
       "    <tr>\n",
       "      <th>2</th>\n",
       "      <td>0.554994</td>\n",
       "    </tr>\n",
       "    <tr>\n",
       "      <th>3</th>\n",
       "      <td>0.571180</td>\n",
       "    </tr>\n",
       "    <tr>\n",
       "      <th>4</th>\n",
       "      <td>0.552749</td>\n",
       "    </tr>\n",
       "  </tbody>\n",
       "</table>\n",
       "</div>"
      ],
      "text/plain": [
       "      Close\n",
       "0  0.678066\n",
       "1  0.640905\n",
       "2  0.554994\n",
       "3  0.571180\n",
       "4  0.552749"
      ]
     },
     "execution_count": 12,
     "metadata": {},
     "output_type": "execute_result"
    }
   ],
   "source": [
    "###############################################################################\n",
    "# '''Normalize volume column'''\n",
    "\n",
    "# min_volume = df[(df.index < last_20pct)]['Volume'].min(axis=0)\n",
    "# max_volume = df[(df.index < last_20pct)]['Volume'].max(axis=0)\n",
    "\n",
    "# # Min-max normalize volume columns (0-1 range)\n",
    "# df['Volume'] = (df['Volume'] - min_volume) / (max_volume - min_volume)\n",
    "\n",
    "###############################################################################\n",
    "'''Create training, validation and test split'''\n",
    "\n",
    "# df_train = df[(df.index < last_20pct)]  # Training data are 80% of total data\n",
    "# df_val = df[(df.index >= last_20pct) & (df.index < last_10pct)]\n",
    "# df_test = df[(df.index >= last_10pct)]\n",
    "\n",
    "df_train = df[(df.index < last_30pct)]  # Training data are 70% of total data\n",
    "df_val = df[(df.index >= last_30pct) & (df.index < last_20pct)]\n",
    "df_test = df[(df.index >= last_20pct)]\n",
    "\n",
    "# Convert pandas columns into arrays\n",
    "train_data = df_train.values\n",
    "val_data = df_val.values\n",
    "test_data = df_test.values\n",
    "print('Training data shape: {}'.format(train_data.shape))\n",
    "print('Validation data shape: {}'.format(val_data.shape))\n",
    "print('Test data shape: {}'.format(test_data.shape))\n",
    "\n",
    "df_train.head()"
   ]
  },
  {
   "cell_type": "markdown",
   "metadata": {
    "id": "diGgUw_f6fAI"
   },
   "source": [
    "## Plot daily changes of close prices and volume"
   ]
  },
  {
   "cell_type": "code",
   "execution_count": 13,
   "metadata": {
    "colab": {
     "base_uri": "https://localhost:8080/",
     "height": 792
    },
    "id": "MJCti1mt5lnL",
    "outputId": "810c6464-dc15-46a7-e45d-496b3a7e3b6e"
   },
   "outputs": [
    {
     "data": {
      "text/plain": [
       "<matplotlib.legend.Legend at 0x2c01be33460>"
      ]
     },
     "execution_count": 13,
     "metadata": {},
     "output_type": "execute_result"
    },
    {
     "data": {
      "image/png": "[encoded data removed]",
      "text/plain": [
       "<Figure size 1080x864 with 1 Axes>"
      ]
     },
     "metadata": {},
     "output_type": "display_data"
    }
   ],
   "source": [
    "fig = plt.figure(figsize=(15,12))\n",
    "st = fig.suptitle(\"Data Separation\", fontsize=20)\n",
    "st.set_y(0.95)\n",
    "\n",
    "###############################################################################\n",
    "\n",
    "ax1 = fig.add_subplot(211)\n",
    "ax1.plot(np.arange(train_data.shape[0]), df_train, label='Training data')\n",
    "\n",
    "ax1.plot(np.arange(train_data.shape[0], \n",
    "                   train_data.shape[0]+val_data.shape[0]), df_val, label='Validation data')\n",
    "\n",
    "ax1.plot(np.arange(train_data.shape[0]+val_data.shape[0], \n",
    "                   train_data.shape[0]+val_data.shape[0]+test_data.shape[0]), df_test, label='Test data')\n",
    "ax1.set_xlabel('Date')\n",
    "ax1.set_ylabel('Normalized Closing Returns')\n",
    "ax1.set_title(\"Close Price\", fontsize=18)\n",
    "ax1.legend(loc=\"best\", fontsize=12)\n",
    "\n",
    "# ###############################################################################\n",
    "\n",
    "# ax2 = fig.add_subplot(212)\n",
    "# ax2.plot(np.arange(train_data.shape[0]), df_train['Volume'], label='Training data')\n",
    "\n",
    "# ax2.plot(np.arange(train_data.shape[0], \n",
    "#                    train_data.shape[0]+val_data.shape[0]), df_val['Volume'], label='Validation data')\n",
    "\n",
    "# ax2.plot(np.arange(train_data.shape[0]+val_data.shape[0], \n",
    "#                    train_data.shape[0]+val_data.shape[0]+test_data.shape[0]), df_test['Volume'], label='Test data')\n",
    "# ax2.set_xlabel('Date')\n",
    "# ax2.set_ylabel('Normalized Volume Changes')\n",
    "# ax2.set_title(\"Volume\", fontsize=18)\n",
    "# ax2.legend(loc=\"best\", fontsize=12)"
   ]
  },
  {
   "cell_type": "code",
   "execution_count": 14,
   "metadata": {},
   "outputs": [],
   "source": [
    "def separate_data(dataset, time_step=1, predicting_steps_after=1):\n",
    "    dataset = dataset.ravel()\n",
    "    dataX, dataY = [], []\n",
    "    for i in range(len(dataset) - time_step - predicting_steps_after + 1):\n",
    "        a = dataset[i : (i + time_step)]\n",
    "        dataX.append(a)\n",
    "        dataY.append(dataset[i + time_step + predicting_steps_after - 1])\n",
    "    return np.array(dataX), np.array(dataY)"
   ]
  },
  {
   "cell_type": "markdown",
   "metadata": {
    "id": "K-9JDha_6l3L"
   },
   "source": [
    "## Create chunks of training, validation and test data"
   ]
  },
  {
   "cell_type": "code",
   "execution_count": 15,
   "metadata": {
    "colab": {
     "base_uri": "https://localhost:8080/",
     "height": 68
    },
    "id": "Ib8wOc-_5llL",
    "outputId": "74d3495e-68d3-441d-b050-ec8f134cf888"
   },
   "outputs": [
    {
     "name": "stdout",
     "output_type": "stream",
     "text": [
      "Training set shape (6231, 128) (6231,)\n",
      "Validation set shape (768, 128) (768,)\n",
      "Testing set shape (1677, 128) (1677,)\n"
     ]
    }
   ],
   "source": [
    "# Training data\n",
    "shift_num = 15\n",
    "\n",
    "\n",
    "X_train, y_train = separate_data(train_data, seq_len, shift_num)\n",
    "X_val, y_val = separate_data(val_data, seq_len, shift_num)\n",
    "X_test, y_test = separate_data(test_data, seq_len, shift_num)\n",
    "\n",
    "\n",
    "# X_train, y_train = [], []\n",
    "# for i in range(seq_len, len(train_data)-shift_num):\n",
    "#   X_train.append(train_data[i-seq_len:i]) # Chunks of training data with a length of 128 df-rows\n",
    "#   y_train.append(train_data[:, 0][i+shift_num]) #Value of 4th column (Close Price) of df-row 128+1\n",
    "# X_train, y_train = np.array(X_train), np.array(y_train)\n",
    "\n",
    "\n",
    "# # Validation data\n",
    "# X_val, y_val = [], []\n",
    "# for i in range(seq_len, len(val_data)-shift_num):\n",
    "#     X_val.append(val_data[i-seq_len:i])\n",
    "#     y_val.append(val_data[:, 0][i+shift_num])\n",
    "# X_val, y_val = np.array(X_val), np.array(y_val)\n",
    "\n",
    "\n",
    "# # Test data\n",
    "# X_test, y_test = [], []\n",
    "# for i in range(seq_len, len(test_data)-shift_num):\n",
    "#     X_test.append(test_data[i-seq_len:i])\n",
    "#     y_test.append(test_data[:, 0][i+shift_num])    \n",
    "# X_test, y_test = np.array(X_test), np.array(y_test)\n",
    "\n",
    "\n",
    "print('Training set shape', X_train.shape, y_train.shape)\n",
    "print('Validation set shape', X_val.shape, y_val.shape)\n",
    "print('Testing set shape', X_test.shape, y_test.shape)"
   ]
  },
  {
   "cell_type": "code",
   "execution_count": 16,
   "metadata": {},
   "outputs": [
    {
     "data": {
      "text/plain": [
       "0.6061837796654627"
      ]
     },
     "execution_count": 16,
     "metadata": {},
     "output_type": "execute_result"
    }
   ],
   "source": [
    "train_data[:,0][seq_len]"
   ]
  },
  {
   "cell_type": "code",
   "execution_count": 17,
   "metadata": {},
   "outputs": [
    {
     "data": {
      "text/plain": [
       "array([0.76650931, 0.64742713, 0.66276604, ..., 0.6282295 , 0.62798925,\n",
       "       0.62360715])"
      ]
     },
     "execution_count": 17,
     "metadata": {},
     "output_type": "execute_result"
    }
   ],
   "source": [
    "y_train"
   ]
  },
  {
   "cell_type": "code",
   "execution_count": 18,
   "metadata": {},
   "outputs": [],
   "source": [
    "X_train = X_train.reshape(X_train.shape[0], X_train.shape[1], 1)\n",
    "X_test = X_test.reshape(X_test.shape[0], X_test.shape[1], 1)\n",
    "X_val = X_val.reshape(X_val.shape[0], X_val.shape[1], 1)"
   ]
  },
  {
   "cell_type": "code",
   "execution_count": 19,
   "metadata": {},
   "outputs": [
    {
     "name": "stdout",
     "output_type": "stream",
     "text": [
      "1 Physical GPUs, 1 Logical GPUs\n"
     ]
    }
   ],
   "source": [
    "gpus = tf.config.experimental.list_physical_devices('GPU')\n",
    "if gpus:\n",
    "  try:\n",
    "    # Currently, memory growth needs to be the same across GPUs\n",
    "    for gpu in gpus:\n",
    "      tf.config.experimental.set_memory_growth(gpu, True)\n",
    "    logical_gpus = tf.config.experimental.list_logical_devices('GPU')\n",
    "    print(len(gpus), \"Physical GPUs,\", len(logical_gpus), \"Logical GPUs\")\n",
    "  except RuntimeError as e:\n",
    "    # Memory growth must be set before GPUs have been initialized\n",
    "    print(e)"
   ]
  },
  {
   "cell_type": "markdown",
   "metadata": {
    "id": "OtBanXmQB4jF"
   },
   "source": [
    "## Model"
   ]
  },
  {
   "cell_type": "code",
   "execution_count": 20,
   "metadata": {},
   "outputs": [
    {
     "name": "stdout",
     "output_type": "stream",
     "text": [
      "Model: \"sequential\"\n",
      "_________________________________________________________________\n",
      " Layer (type)                Output Shape              Param #   \n",
      "=================================================================\n",
      " lstm (LSTM)                 (None, 128, 50)           10400     \n",
      "                                                                 \n",
      " dropout (Dropout)           (None, 128, 50)           0         \n",
      "                                                                 \n",
      " lstm_1 (LSTM)               (None, 128, 50)           20200     \n",
      "                                                                 \n",
      " lstm_2 (LSTM)               (None, 50)                20200     \n",
      "                                                                 \n",
      " dense (Dense)               (None, 1)                 51        \n",
      "                                                                 \n",
      "=================================================================\n",
      "Total params: 50,851\n",
      "Trainable params: 50,851\n",
      "Non-trainable params: 0\n",
      "_________________________________________________________________\n",
      "None\n",
      "Epoch 1/50\n",
      "98/98 - 7s - loss: 0.0174 - val_loss: 8.3240e-04 - 7s/epoch - 70ms/step\n",
      "Epoch 2/50\n",
      "98/98 - 2s - loss: 0.0023 - val_loss: 8.6419e-04 - 2s/epoch - 19ms/step\n",
      "Epoch 3/50\n",
      "98/98 - 2s - loss: 0.0023 - val_loss: 8.7643e-04 - 2s/epoch - 20ms/step\n",
      "Epoch 4/50\n",
      "98/98 - 2s - loss: 0.0023 - val_loss: 8.4295e-04 - 2s/epoch - 21ms/step\n",
      "Epoch 5/50\n",
      "98/98 - 2s - loss: 0.0023 - val_loss: 8.3445e-04 - 2s/epoch - 20ms/step\n",
      "Epoch 6/50\n",
      "98/98 - 2s - loss: 0.0023 - val_loss: 8.1403e-04 - 2s/epoch - 20ms/step\n",
      "Epoch 7/50\n",
      "98/98 - 2s - loss: 0.0022 - val_loss: 8.2424e-04 - 2s/epoch - 20ms/step\n",
      "Epoch 8/50\n",
      "98/98 - 2s - loss: 0.0022 - val_loss: 8.1367e-04 - 2s/epoch - 20ms/step\n",
      "Epoch 9/50\n",
      "98/98 - 2s - loss: 0.0023 - val_loss: 9.5672e-04 - 2s/epoch - 19ms/step\n",
      "Epoch 10/50\n",
      "98/98 - 2s - loss: 0.0023 - val_loss: 0.0010 - 2s/epoch - 19ms/step\n",
      "Epoch 11/50\n",
      "98/98 - 2s - loss: 0.0023 - val_loss: 8.3071e-04 - 2s/epoch - 19ms/step\n",
      "Epoch 12/50\n",
      "98/98 - 2s - loss: 0.0022 - val_loss: 8.8762e-04 - 2s/epoch - 19ms/step\n",
      "Epoch 13/50\n",
      "98/98 - 2s - loss: 0.0023 - val_loss: 8.5080e-04 - 2s/epoch - 19ms/step\n",
      "Epoch 14/50\n",
      "98/98 - 2s - loss: 0.0023 - val_loss: 9.1453e-04 - 2s/epoch - 19ms/step\n",
      "Epoch 15/50\n",
      "98/98 - 2s - loss: 0.0022 - val_loss: 8.1975e-04 - 2s/epoch - 19ms/step\n",
      "Epoch 16/50\n",
      "98/98 - 2s - loss: 0.0022 - val_loss: 0.0016 - 2s/epoch - 19ms/step\n",
      "Epoch 17/50\n",
      "98/98 - 2s - loss: 0.0023 - val_loss: 8.6798e-04 - 2s/epoch - 19ms/step\n",
      "Epoch 18/50\n",
      "98/98 - 2s - loss: 0.0023 - val_loss: 8.2365e-04 - 2s/epoch - 19ms/step\n",
      "Epoch 19/50\n",
      "98/98 - 2s - loss: 0.0023 - val_loss: 9.5285e-04 - 2s/epoch - 21ms/step\n",
      "Epoch 20/50\n",
      "98/98 - 2s - loss: 0.0022 - val_loss: 0.0010 - 2s/epoch - 20ms/step\n",
      "Epoch 21/50\n",
      "98/98 - 2s - loss: 0.0024 - val_loss: 8.3203e-04 - 2s/epoch - 19ms/step\n",
      "Epoch 22/50\n",
      "98/98 - 2s - loss: 0.0023 - val_loss: 9.1031e-04 - 2s/epoch - 20ms/step\n",
      "Epoch 23/50\n",
      "98/98 - 2s - loss: 0.0022 - val_loss: 0.0010 - 2s/epoch - 20ms/step\n",
      "Epoch 24/50\n",
      "98/98 - 2s - loss: 0.0022 - val_loss: 8.3630e-04 - 2s/epoch - 20ms/step\n",
      "Epoch 25/50\n",
      "98/98 - 2s - loss: 0.0022 - val_loss: 8.1279e-04 - 2s/epoch - 20ms/step\n",
      "Epoch 26/50\n",
      "98/98 - 2s - loss: 0.0022 - val_loss: 0.0011 - 2s/epoch - 20ms/step\n",
      "Epoch 27/50\n",
      "98/98 - 2s - loss: 0.0023 - val_loss: 0.0010 - 2s/epoch - 20ms/step\n",
      "Epoch 28/50\n",
      "98/98 - 2s - loss: 0.0022 - val_loss: 9.6323e-04 - 2s/epoch - 20ms/step\n",
      "Epoch 29/50\n",
      "98/98 - 2s - loss: 0.0022 - val_loss: 8.1753e-04 - 2s/epoch - 20ms/step\n",
      "Epoch 30/50\n",
      "98/98 - 2s - loss: 0.0022 - val_loss: 9.3044e-04 - 2s/epoch - 20ms/step\n",
      "Epoch 31/50\n",
      "98/98 - 2s - loss: 0.0023 - val_loss: 8.1746e-04 - 2s/epoch - 20ms/step\n",
      "Epoch 32/50\n",
      "98/98 - 2s - loss: 0.0022 - val_loss: 8.9005e-04 - 2s/epoch - 20ms/step\n",
      "Epoch 33/50\n",
      "98/98 - 2s - loss: 0.0022 - val_loss: 8.5434e-04 - 2s/epoch - 19ms/step\n",
      "Epoch 34/50\n",
      "98/98 - 2s - loss: 0.0022 - val_loss: 8.1280e-04 - 2s/epoch - 20ms/step\n",
      "Epoch 35/50\n",
      "98/98 - 2s - loss: 0.0022 - val_loss: 9.8557e-04 - 2s/epoch - 20ms/step\n",
      "Epoch 36/50\n",
      "98/98 - 2s - loss: 0.0022 - val_loss: 8.8481e-04 - 2s/epoch - 20ms/step\n",
      "Epoch 37/50\n",
      "98/98 - 2s - loss: 0.0022 - val_loss: 0.0012 - 2s/epoch - 20ms/step\n",
      "Epoch 38/50\n",
      "98/98 - 2s - loss: 0.0023 - val_loss: 8.2552e-04 - 2s/epoch - 19ms/step\n",
      "Epoch 39/50\n",
      "98/98 - 2s - loss: 0.0022 - val_loss: 8.1292e-04 - 2s/epoch - 20ms/step\n",
      "Epoch 40/50\n",
      "98/98 - 2s - loss: 0.0022 - val_loss: 9.9538e-04 - 2s/epoch - 20ms/step\n",
      "Epoch 41/50\n",
      "98/98 - 2s - loss: 0.0022 - val_loss: 9.1596e-04 - 2s/epoch - 20ms/step\n",
      "Epoch 42/50\n",
      "98/98 - 2s - loss: 0.0022 - val_loss: 8.4709e-04 - 2s/epoch - 20ms/step\n",
      "Epoch 43/50\n",
      "98/98 - 2s - loss: 0.0022 - val_loss: 8.1350e-04 - 2s/epoch - 20ms/step\n",
      "Epoch 44/50\n",
      "98/98 - 2s - loss: 0.0022 - val_loss: 0.0010 - 2s/epoch - 20ms/step\n",
      "Epoch 45/50\n",
      "98/98 - 2s - loss: 0.0022 - val_loss: 8.1780e-04 - 2s/epoch - 20ms/step\n",
      "Epoch 46/50\n",
      "98/98 - 2s - loss: 0.0022 - val_loss: 8.1370e-04 - 2s/epoch - 20ms/step\n",
      "Epoch 47/50\n",
      "98/98 - 2s - loss: 0.0022 - val_loss: 8.7556e-04 - 2s/epoch - 20ms/step\n",
      "Epoch 48/50\n",
      "98/98 - 2s - loss: 0.0022 - val_loss: 8.2946e-04 - 2s/epoch - 19ms/step\n",
      "Epoch 49/50\n",
      "98/98 - 2s - loss: 0.0022 - val_loss: 8.2526e-04 - 2s/epoch - 20ms/step\n",
      "Epoch 50/50\n",
      "98/98 - 2s - loss: 0.0022 - val_loss: 8.8607e-04 - 2s/epoch - 20ms/step\n"
     ]
    }
   ],
   "source": [
    "from tensorflow import keras\n",
    "from tensorflow.keras import layers\n",
    "from tensorflow.keras import models\n",
    "\n",
    "# model = models.Sequential()\n",
    "\n",
    "# model.add(layers.LSTM(50, return_sequences=True, input_shape=(100, 1)))\n",
    "# model.add(layers.LSTM(50, return_sequences=True))\n",
    "# model.add(layers.LSTM(50))\n",
    "# model.add(layers.Dense(1))\n",
    "\n",
    "# # img_new = model.predict(x_test)\n",
    "\n",
    "# model.compile(loss=\"mean_squared_error\", optimizer=\"adam\")\n",
    "\n",
    "# model.fit(\n",
    "#     X_train,\n",
    "#     y_train,\n",
    "#     validation_data=(X_val, y_val),\n",
    "#     epochs=10,\n",
    "#     batch_size=64,\n",
    "#     verbose=1,\n",
    "# )\n",
    "\n",
    "# tf.debugging.set_log_device_placement(True)\n",
    "\n",
    "# with tf.device(\"/gpu:0\"):\n",
    "model = models.Sequential()\n",
    "\n",
    "model.add(layers.LSTM(50, return_sequences=True, input_shape=(seq_len, 1)))\n",
    "model.add(layers.Dropout(0.25))\n",
    "model.add(layers.LSTM(50, return_sequences=True))\n",
    "model.add(layers.LSTM(50))\n",
    "model.add(layers.Dense(1))\n",
    "model.compile(loss=\"mean_squared_error\", optimizer=\"adam\")\n",
    "print(model.summary())\n",
    "\n",
    "history = model.fit(\n",
    "    X_train,\n",
    "    y_train,\n",
    "    validation_data=(X_val, y_val),\n",
    "    epochs=50,\n",
    "    batch_size=64,\n",
    "    verbose=2,\n",
    ")\n"
   ]
  },
  {
   "cell_type": "code",
   "execution_count": 21,
   "metadata": {},
   "outputs": [
    {
     "data": {
      "image/png": "[encoded data removed]",
      "text/plain": [
       "<Figure size 576x396 with 1 Axes>"
      ]
     },
     "metadata": {},
     "output_type": "display_data"
    }
   ],
   "source": [
    "plt.plot(history.history[\"loss\"], label = \"Loss\")\n",
    "plt.plot(history.history[\"val_loss\"], label = \"Val_loss\")\n",
    "plt.legend()\n",
    "plt.show()"
   ]
  },
  {
   "cell_type": "markdown",
   "metadata": {},
   "source": [
    "## Accuracy"
   ]
  },
  {
   "cell_type": "code",
   "execution_count": 22,
   "metadata": {},
   "outputs": [],
   "source": [
    "def MSE(y_actual, y_predicted):\n",
    "    mse = np.mean((y_actual - y_predicted)**2)\n",
    "    return mse\n",
    "\n",
    "def MAE(y_actual, y_predicted):\n",
    "    mae = np.mean(abs(y_actual - y_predicted))\n",
    "    return mae\n",
    "\n",
    "def MAPE(y_actual, y_predicted):\n",
    "    mape = np.mean(np.abs((y_actual - y_predicted)/y_actual))*100\n",
    "    return mape\n",
    "\n",
    "def RMSE(y_actual, y_predicted):\n",
    "    rmse = np.sqrt(MSE(y_actual, y_predicted))\n",
    "    return rmse"
   ]
  },
  {
   "cell_type": "code",
   "execution_count": 23,
   "metadata": {},
   "outputs": [
    {
     "name": "stdout",
     "output_type": "stream",
     "text": [
      "MSE:  0.00128\n",
      "MAE:  0.02492\n",
      "MAPE:  4.08494\n",
      "RMSE:  0.03578\n"
     ]
    }
   ],
   "source": [
    "test_pred = model.predict(X_test)\n",
    "mse = round(MSE(y_test, test_pred),5)\n",
    "mae = round(MAE(y_test, test_pred),5)\n",
    "mape = round(MAPE(y_test, test_pred),5)\n",
    "rmse = round(RMSE(y_test, test_pred),5)\n",
    "print(\"MSE: \",mse)\n",
    "print(\"MAE: \",mae)\n",
    "print(\"MAPE: \",mape)\n",
    "print(\"RMSE: \",rmse)"
   ]
  },
  {
   "cell_type": "markdown",
   "metadata": {},
   "source": [
    "## Store accuracy data"
   ]
  },
  {
   "cell_type": "code",
   "execution_count": 24,
   "metadata": {},
   "outputs": [],
   "source": [
    "field_names = [\"MSE\", \"MAE\", \"MAPE\", \"RMSE\"]"
   ]
  },
  {
   "cell_type": "code",
   "execution_count": 25,
   "metadata": {},
   "outputs": [],
   "source": [
    "new_row={'MSE':mse,'MAE': mae,'MAPE': mape,'RMSE':rmse}"
   ]
  },
  {
   "cell_type": "code",
   "execution_count": 26,
   "metadata": {},
   "outputs": [],
   "source": [
    "file_route = 'Accuracy_data/LSTM.csv'"
   ]
  },
  {
   "cell_type": "code",
   "execution_count": 27,
   "metadata": {},
   "outputs": [],
   "source": [
    "from csv import DictWriter\n",
    "\n",
    "with open(file_route, 'a', encoding='UTF8') as f_object:\n",
    "    \n",
    "    dictwriter_object = DictWriter(f_object, fieldnames=field_names)\n",
    "\n",
    "    dictwriter_object.writerow(new_row)\n",
    "  \n",
    "    f_object.close()"
   ]
  },
  {
   "cell_type": "code",
   "execution_count": 28,
   "metadata": {},
   "outputs": [
    {
     "data": {
      "text/html": [
       "<div>\n",
       "<style scoped>\n",
       "    .dataframe tbody tr th:only-of-type {\n",
       "        vertical-align: middle;\n",
       "    }\n",
       "\n",
       "    .dataframe tbody tr th {\n",
       "        vertical-align: top;\n",
       "    }\n",
       "\n",
       "    .dataframe thead th {\n",
       "        text-align: right;\n",
       "    }\n",
       "</style>\n",
       "<table border=\"1\" class=\"dataframe\">\n",
       "  <thead>\n",
       "    <tr style=\"text-align: right;\">\n",
       "      <th></th>\n",
       "      <th>MSE</th>\n",
       "      <th>MAE</th>\n",
       "      <th>MAPE</th>\n",
       "      <th>RMSE</th>\n",
       "    </tr>\n",
       "  </thead>\n",
       "  <tbody>\n",
       "    <tr>\n",
       "      <th>0</th>\n",
       "      <td>0.00123</td>\n",
       "      <td>0.02397</td>\n",
       "      <td>3.94729</td>\n",
       "      <td>0.03508</td>\n",
       "    </tr>\n",
       "    <tr>\n",
       "      <th>1</th>\n",
       "      <td>0.00121</td>\n",
       "      <td>0.02354</td>\n",
       "      <td>3.88811</td>\n",
       "      <td>0.03477</td>\n",
       "    </tr>\n",
       "    <tr>\n",
       "      <th>2</th>\n",
       "      <td>0.00122</td>\n",
       "      <td>0.02368</td>\n",
       "      <td>3.90741</td>\n",
       "      <td>0.03487</td>\n",
       "    </tr>\n",
       "    <tr>\n",
       "      <th>3</th>\n",
       "      <td>0.00118</td>\n",
       "      <td>0.02310</td>\n",
       "      <td>3.84390</td>\n",
       "      <td>0.03442</td>\n",
       "    </tr>\n",
       "    <tr>\n",
       "      <th>4</th>\n",
       "      <td>0.00121</td>\n",
       "      <td>0.02372</td>\n",
       "      <td>3.98125</td>\n",
       "      <td>0.03483</td>\n",
       "    </tr>\n",
       "    <tr>\n",
       "      <th>5</th>\n",
       "      <td>0.00137</td>\n",
       "      <td>0.02644</td>\n",
       "      <td>4.47895</td>\n",
       "      <td>0.03706</td>\n",
       "    </tr>\n",
       "    <tr>\n",
       "      <th>6</th>\n",
       "      <td>0.00122</td>\n",
       "      <td>0.02379</td>\n",
       "      <td>3.92170</td>\n",
       "      <td>0.03494</td>\n",
       "    </tr>\n",
       "    <tr>\n",
       "      <th>7</th>\n",
       "      <td>0.00120</td>\n",
       "      <td>0.02339</td>\n",
       "      <td>3.86878</td>\n",
       "      <td>0.03466</td>\n",
       "    </tr>\n",
       "    <tr>\n",
       "      <th>8</th>\n",
       "      <td>0.00122</td>\n",
       "      <td>0.02388</td>\n",
       "      <td>4.01183</td>\n",
       "      <td>0.03495</td>\n",
       "    </tr>\n",
       "    <tr>\n",
       "      <th>9</th>\n",
       "      <td>0.00154</td>\n",
       "      <td>0.02919</td>\n",
       "      <td>4.73709</td>\n",
       "      <td>0.03921</td>\n",
       "    </tr>\n",
       "    <tr>\n",
       "      <th>10</th>\n",
       "      <td>0.00128</td>\n",
       "      <td>0.02492</td>\n",
       "      <td>4.08494</td>\n",
       "      <td>0.03578</td>\n",
       "    </tr>\n",
       "  </tbody>\n",
       "</table>\n",
       "</div>"
      ],
      "text/plain": [
       "        MSE      MAE     MAPE     RMSE\n",
       "0   0.00123  0.02397  3.94729  0.03508\n",
       "1   0.00121  0.02354  3.88811  0.03477\n",
       "2   0.00122  0.02368  3.90741  0.03487\n",
       "3   0.00118  0.02310  3.84390  0.03442\n",
       "4   0.00121  0.02372  3.98125  0.03483\n",
       "5   0.00137  0.02644  4.47895  0.03706\n",
       "6   0.00122  0.02379  3.92170  0.03494\n",
       "7   0.00120  0.02339  3.86878  0.03466\n",
       "8   0.00122  0.02388  4.01183  0.03495\n",
       "9   0.00154  0.02919  4.73709  0.03921\n",
       "10  0.00128  0.02492  4.08494  0.03578"
      ]
     },
     "execution_count": 28,
     "metadata": {},
     "output_type": "execute_result"
    }
   ],
   "source": [
    "accuracy_data = pd.read_csv(file_route)\n",
    "accuracy_data"
   ]
  },
  {
   "cell_type": "code",
   "execution_count": 29,
   "metadata": {},
   "outputs": [
    {
     "data": {
      "image/png": "[encoded data removed]",
      "text/plain": [
       "<Figure size 576x396 with 1 Axes>"
      ]
     },
     "metadata": {},
     "output_type": "display_data"
    }
   ],
   "source": [
    "plt.plot(accuracy_data[\"MAPE\"], label = \"MAPE\")\n",
    "plt.legend()\n",
    "plt.show()"
   ]
  },
  {
   "cell_type": "markdown",
   "metadata": {},
   "source": [
    "## Other works"
   ]
  },
  {
   "cell_type": "code",
   "execution_count": 30,
   "metadata": {},
   "outputs": [],
   "source": [
    "# y_test"
   ]
  },
  {
   "cell_type": "code",
   "execution_count": 31,
   "metadata": {},
   "outputs": [],
   "source": [
    "# test_pred"
   ]
  },
  {
   "cell_type": "code",
   "execution_count": 32,
   "metadata": {},
   "outputs": [
    {
     "name": "stdout",
     "output_type": "stream",
     "text": [
      " \n",
      "Evaluation metrics\n"
     ]
    },
    {
     "ename": "TypeError",
     "evalue": "'float' object is not subscriptable",
     "output_type": "error",
     "traceback": [
      "\u001b[1;31m---------------------------------------------------------------------------\u001b[0m",
      "\u001b[1;31mTypeError\u001b[0m                                 Traceback (most recent call last)",
      "\u001b[1;32m~\\AppData\\Local\\Temp/ipykernel_8868/1665219065.py\u001b[0m in \u001b[0;36m<module>\u001b[1;34m\u001b[0m\n\u001b[0;32m     13\u001b[0m \u001b[0mprint\u001b[0m\u001b[1;33m(\u001b[0m\u001b[1;34m' '\u001b[0m\u001b[1;33m)\u001b[0m\u001b[1;33m\u001b[0m\u001b[1;33m\u001b[0m\u001b[0m\n\u001b[0;32m     14\u001b[0m \u001b[0mprint\u001b[0m\u001b[1;33m(\u001b[0m\u001b[1;34m'Evaluation metrics'\u001b[0m\u001b[1;33m)\u001b[0m\u001b[1;33m\u001b[0m\u001b[1;33m\u001b[0m\u001b[0m\n\u001b[1;32m---> 15\u001b[1;33m \u001b[0mprint\u001b[0m\u001b[1;33m(\u001b[0m\u001b[1;34m'Training Data - Loss: {:.4f}, MAE: {:.4f}, MAPE: {:.4f}'\u001b[0m\u001b[1;33m.\u001b[0m\u001b[0mformat\u001b[0m\u001b[1;33m(\u001b[0m\u001b[0mtrain_eval\u001b[0m\u001b[1;33m[\u001b[0m\u001b[1;36m0\u001b[0m\u001b[1;33m]\u001b[0m\u001b[1;33m,\u001b[0m \u001b[0mtrain_eval\u001b[0m\u001b[1;33m[\u001b[0m\u001b[1;36m1\u001b[0m\u001b[1;33m]\u001b[0m\u001b[1;33m,\u001b[0m \u001b[0mtrain_eval\u001b[0m\u001b[1;33m[\u001b[0m\u001b[1;36m2\u001b[0m\u001b[1;33m]\u001b[0m\u001b[1;33m)\u001b[0m\u001b[1;33m)\u001b[0m\u001b[1;33m\u001b[0m\u001b[1;33m\u001b[0m\u001b[0m\n\u001b[0m\u001b[0;32m     16\u001b[0m \u001b[0mprint\u001b[0m\u001b[1;33m(\u001b[0m\u001b[1;34m'Validation Data - Loss: {:.4f}, MAE: {:.4f}, MAPE: {:.4f}'\u001b[0m\u001b[1;33m.\u001b[0m\u001b[0mformat\u001b[0m\u001b[1;33m(\u001b[0m\u001b[0mval_eval\u001b[0m\u001b[1;33m[\u001b[0m\u001b[1;36m0\u001b[0m\u001b[1;33m]\u001b[0m\u001b[1;33m,\u001b[0m \u001b[0mval_eval\u001b[0m\u001b[1;33m[\u001b[0m\u001b[1;36m1\u001b[0m\u001b[1;33m]\u001b[0m\u001b[1;33m,\u001b[0m \u001b[0mval_eval\u001b[0m\u001b[1;33m[\u001b[0m\u001b[1;36m2\u001b[0m\u001b[1;33m]\u001b[0m\u001b[1;33m)\u001b[0m\u001b[1;33m)\u001b[0m\u001b[1;33m\u001b[0m\u001b[1;33m\u001b[0m\u001b[0m\n\u001b[0;32m     17\u001b[0m \u001b[0mprint\u001b[0m\u001b[1;33m(\u001b[0m\u001b[1;34m'Test Data - Loss: {:.4f}, MAE: {:.4f}, MAPE: {:.4f}'\u001b[0m\u001b[1;33m.\u001b[0m\u001b[0mformat\u001b[0m\u001b[1;33m(\u001b[0m\u001b[0mtest_eval\u001b[0m\u001b[1;33m[\u001b[0m\u001b[1;36m0\u001b[0m\u001b[1;33m]\u001b[0m\u001b[1;33m,\u001b[0m \u001b[0mtest_eval\u001b[0m\u001b[1;33m[\u001b[0m\u001b[1;36m1\u001b[0m\u001b[1;33m]\u001b[0m\u001b[1;33m,\u001b[0m \u001b[0mtest_eval\u001b[0m\u001b[1;33m[\u001b[0m\u001b[1;36m2\u001b[0m\u001b[1;33m]\u001b[0m\u001b[1;33m)\u001b[0m\u001b[1;33m)\u001b[0m\u001b[1;33m\u001b[0m\u001b[1;33m\u001b[0m\u001b[0m\n",
      "\u001b[1;31mTypeError\u001b[0m: 'float' object is not subscriptable"
     ]
    }
   ],
   "source": [
    "###############################################################################\n",
    "'''Calculate predictions and metrics'''\n",
    "\n",
    "#Calculate predication for training, validation and test data\n",
    "train_pred = model.predict(X_train)\n",
    "val_pred = model.predict(X_val)\n",
    "test_pred = model.predict(X_test)\n",
    "\n",
    "#Print evaluation metrics for all datasets\n",
    "train_eval = model.evaluate(X_train, y_train, verbose=0)\n",
    "val_eval = model.evaluate(X_val, y_val, verbose=0)\n",
    "test_eval = model.evaluate(X_test, y_test, verbose=0)\n",
    "print(' ')\n",
    "print('Evaluation metrics')\n",
    "print('Training Data - Loss: {:.4f}, MAE: {:.4f}, MAPE: {:.4f}'.format(train_eval[0], train_eval[1], train_eval[2]))\n",
    "print('Validation Data - Loss: {:.4f}, MAE: {:.4f}, MAPE: {:.4f}'.format(val_eval[0], val_eval[1], val_eval[2]))\n",
    "print('Test Data - Loss: {:.4f}, MAE: {:.4f}, MAPE: {:.4f}'.format(test_eval[0], test_eval[1], test_eval[2]))\n",
    "\n",
    "###############################################################################\n",
    "'''Display results'''\n",
    "\n",
    "fig = plt.figure(figsize=(15,20))\n",
    "st = fig.suptitle(\"Transformer + TimeEmbedding Model\", fontsize=22)\n",
    "st.set_y(0.92)\n",
    "\n",
    "#Plot training data results\n",
    "ax11 = fig.add_subplot(311)\n",
    "ax11.plot(train_data[:, 0], label='IBM Closing Returns')\n",
    "ax11.plot(np.arange(seq_len, train_pred.shape[0]+seq_len), train_pred, linewidth=3, label='Predicted IBM Closing Returns')\n",
    "ax11.set_title(\"Training Data\", fontsize=18)\n",
    "ax11.set_xlabel('Date')\n",
    "ax11.set_ylabel('IBM Closing Returns')\n",
    "ax11.legend(loc=\"best\", fontsize=12)\n",
    "\n",
    "#Plot validation data results\n",
    "ax21 = fig.add_subplot(312)\n",
    "ax21.plot(val_data[:, 0], label='IBM Closing Returns')\n",
    "ax21.plot(np.arange(seq_len, val_pred.shape[0]+seq_len), val_pred, linewidth=3, label='Predicted IBM Closing Returns')\n",
    "ax21.set_title(\"Validation Data\", fontsize=18)\n",
    "ax21.set_xlabel('Date')\n",
    "ax21.set_ylabel('IBM Closing Returns')\n",
    "ax21.legend(loc=\"best\", fontsize=12)\n",
    "\n",
    "#Plot test data results\n",
    "ax31 = fig.add_subplot(313)\n",
    "ax31.plot(test_data[:, 0], label='IBM Closing Returns')\n",
    "ax31.plot(np.arange(seq_len, test_pred.shape[0]+seq_len), test_pred, linewidth=3, label='Predicted IBM Closing Returns')\n",
    "ax31.set_title(\"Test Data\", fontsize=18)\n",
    "ax31.set_xlabel('Date')\n",
    "ax31.set_ylabel('IBM Closing Returns')\n",
    "ax31.legend(loc=\"best\", fontsize=12)"
   ]
  },
  {
   "cell_type": "code",
   "execution_count": null,
   "metadata": {},
   "outputs": [],
   "source": [
    "def stock_predict(model, df_close, days):\n",
    "    pred = model.predict(df_close)\n",
    "    pred = scaler_1.inverse_transform(pred)\n",
    "    return pred"
   ]
  },
  {
   "cell_type": "code",
   "execution_count": null,
   "metadata": {},
   "outputs": [],
   "source": [
    "stock_predict(model,X_train,5)"
   ]
  },
  {
   "cell_type": "code",
   "execution_count": null,
   "metadata": {},
   "outputs": [],
   "source": [
    "def stock_predict(model, df_close, scaler, days):\n",
    "    # model = keras.models.load_model(model_path)\n",
    "\n",
    "    train_size = int(len(df_close) * 0.8)\n",
    "    close_test = df_close[train_size : len(df_close)]\n",
    "\n",
    "    num_take = len(close_test) - 100\n",
    "    x_input = close_test[num_take:].reshape(1, -1)\n",
    "    temp_input = list(x_input)\n",
    "    temp_input = temp_input[0].tolist()\n",
    "\n",
    "    lst_output = []\n",
    "    n_steps = 100\n",
    "    i = 0\n",
    "    while i < 60:\n",
    "\n",
    "        if len(temp_input) > n_steps:\n",
    "            x_input = np.array(temp_input[1:])\n",
    "            x_input = x_input.reshape(1, -1)\n",
    "            x_input = x_input.reshape((1, n_steps, 1))\n",
    "            yhat = model.predict(x_input, verbose=0)\n",
    "            temp_input.extend(yhat[0].tolist())\n",
    "            temp_input = temp_input[1:]\n",
    "            lst_output.extend(yhat.tolist())\n",
    "            i = i + 1\n",
    "        else:\n",
    "            x_input = x_input.reshape((1, n_steps, 1))\n",
    "            yhat = model.predict(x_input, verbose=0)\n",
    "            temp_input.extend(yhat[0].tolist())\n",
    "            lst_output.extend(yhat.tolist())\n",
    "            i = i + 1\n",
    "\n",
    "    all_pred = scaler.inverse_transform(lst_output[:days])\n",
    "\n",
    "    return all_pred"
   ]
  },
  {
   "cell_type": "code",
   "execution_count": null,
   "metadata": {},
   "outputs": [],
   "source": [
    "df_new = df.reset_index()\n",
    "df_close = np.array(df_new['Close']).reshape(-1,1)\n",
    "stock_predict( model, df_close, scaler_1, 30)"
   ]
  },
  {
   "cell_type": "code",
   "execution_count": null,
   "metadata": {},
   "outputs": [],
   "source": [
    "def predict_price(model, prices, predicting_days=1):\n",
    "#     scaler_path = os.path.join(model_path, \"scaler.pkl\")\n",
    "#     with open(scaler_path, \"rb\") as f:\n",
    "#         scaler = pickle.load(f)\n",
    "    scaled_prices = scaler_2.transform(prices)\n",
    "    x_input = scaled_prices[-100:].T\n",
    "    print(x_input)\n",
    "\n",
    "#     model = keras.models.load_model(model_path)\n",
    "    y_predict = model.predict(x_input)\n",
    "    future = scaler_2.inverse_transform(y_predict).ravel()[0]\n",
    "    daily_prediction = (1 + future) ** (1 / predicting_days) - 1\n",
    "\n",
    "    prediction_series = [daily_prediction] * predicting_days\n",
    "    return np.array(prediction_series)"
   ]
  },
  {
   "cell_type": "code",
   "execution_count": null,
   "metadata": {},
   "outputs": [],
   "source": [
    "prediction = predict_price(model, prices, predicting_days=30)\n",
    "prediction"
   ]
  },
  {
   "cell_type": "code",
   "execution_count": null,
   "metadata": {},
   "outputs": [],
   "source": [
    "temp = (df['Close'] * (max_return - min_return))+ min_return\n",
    "temp"
   ]
  },
  {
   "cell_type": "code",
   "execution_count": null,
   "metadata": {},
   "outputs": [],
   "source": [
    "df['Close']"
   ]
  },
  {
   "cell_type": "code",
   "execution_count": null,
   "metadata": {},
   "outputs": [],
   "source": [
    "X_train"
   ]
  },
  {
   "cell_type": "code",
   "execution_count": null,
   "metadata": {},
   "outputs": [],
   "source": [
    "y_train"
   ]
  },
  {
   "cell_type": "code",
   "execution_count": null,
   "metadata": {},
   "outputs": [],
   "source": [
    "# model = tf.keras.models.load_model('/content/Transformer+TimeEmbedding.hdf5',\n",
    "#                                    custom_objects={'Time2Vector': Time2Vector, \n",
    "#                                                    'SingleAttention': SingleAttention,\n",
    "#                                                    'MultiAttention': MultiAttention,\n",
    "#                                                    'TransformerEncoder': TransformerEncoder}"
   ]
  },
  {
   "cell_type": "markdown",
   "metadata": {
    "id": "QiCB_z-iCMMr"
   },
   "source": [
    "## Model metrics"
   ]
  },
  {
   "cell_type": "code",
   "execution_count": null,
   "metadata": {
    "colab": {
     "base_uri": "https://localhost:8080/",
     "height": 1000
    },
    "id": "maSSTkJPCOE8",
    "outputId": "5a802a5b-bfc7-47c0-987a-8fca1ab84226"
   },
   "outputs": [],
   "source": [
    "'''Display model metrics'''\n",
    "\n",
    "fig = plt.figure(figsize=(15,20))\n",
    "st = fig.suptitle(\"Transformer + TimeEmbedding Model Metrics\", fontsize=22)\n",
    "st.set_y(0.92)\n",
    "\n",
    "#Plot model loss\n",
    "ax1 = fig.add_subplot(311)\n",
    "ax1.plot(history.history['loss'], label='Training loss (MSE)')\n",
    "ax1.plot(model.history['val_loss'], label='Validation loss (MSE)')\n",
    "ax1.set_title(\"Model loss\", fontsize=18)\n",
    "ax1.set_xlabel('Epoch')\n",
    "ax1.set_ylabel('Loss (MSE)')\n",
    "ax1.legend(loc=\"best\", fontsize=12)\n",
    "\n",
    "#Plot MAE\n",
    "ax2 = fig.add_subplot(312)\n",
    "ax2.plot(history.history['mae'], label='Training MAE')\n",
    "ax2.plot(history.history['val_mae'], label='Validation MAE')\n",
    "ax2.set_title(\"Model metric - Mean average error (MAE)\", fontsize=18)\n",
    "ax2.set_xlabel('Epoch')\n",
    "ax2.set_ylabel('Mean average error (MAE)')\n",
    "ax2.legend(loc=\"best\", fontsize=12)\n",
    "\n",
    "#Plot MAPE\n",
    "ax3 = fig.add_subplot(313)\n",
    "ax3.plot(history.history['mape'], label='Training MAPE')\n",
    "ax3.plot(history.history['val_mape'], label='Validation MAPE')\n",
    "ax3.set_title(\"Model metric - Mean average percentage error (MAPE)\", fontsize=18)\n",
    "ax3.set_xlabel('Epoch')\n",
    "ax3.set_ylabel('Mean average percentage error (MAPE)')\n",
    "ax3.legend(loc=\"best\", fontsize=12)"
   ]
  },
  {
   "cell_type": "markdown",
   "metadata": {
    "id": "5cvzV1ArCOwK"
   },
   "source": [
    "## Model architecture overview"
   ]
  },
  {
   "cell_type": "code",
   "execution_count": null,
   "metadata": {
    "colab": {
     "base_uri": "https://localhost:8080/",
     "height": 1000
    },
    "id": "7b--iZiKCO5l",
    "outputId": "fa273886-666a-4ead-8d9e-e12083d4907b"
   },
   "outputs": [],
   "source": [
    "tf.keras.utils.plot_model(\n",
    "    model,\n",
    "    to_file=\"IBM_Transformer+TimeEmbedding.png\",\n",
    "    show_shapes=True,\n",
    "    show_layer_names=True,\n",
    "    expand_nested=True,\n",
    "    dpi=96,)"
   ]
  }
 ],
 "metadata": {
  "colab": {
   "collapsed_sections": [],
   "name": "IBM_Transformer+TimeEmbedding_Github.ipynb",
   "provenance": []
  },
  "kernelspec": {
   "display_name": "Python 3 (ipykernel)",
   "language": "python",
   "name": "python3"
  },
  "language_info": {
   "codemirror_mode": {
    "name": "ipython",
    "version": 3
   },
   "file_extension": ".py",
   "mimetype": "text/x-python",
   "name": "python",
   "nbconvert_exporter": "python",
   "pygments_lexer": "ipython3",
   "version": "3.9.6"
  }
 },
 "nbformat": 4,
 "nbformat_minor": 1
}
