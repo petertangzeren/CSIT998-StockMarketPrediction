{
 "cells": [
  {
   "cell_type": "code",
   "execution_count": 1,
   "metadata": {
    "colab": {
     "base_uri": "https://localhost:8080/"
    },
    "id": "i6zxz6xZyWb2",
    "outputId": "d80a4b3f-7fb0-4e51-bfa6-879b0b1edefc"
   },
   "outputs": [
    {
     "name": "stdout",
     "output_type": "stream",
     "text": [
      "Tensorflow version: 2.8.0\n"
     ]
    }
   ],
   "source": [
    "import numpy as np\n",
    "import pandas as pd\n",
    "import yfinance as yf\n",
    "import csv  \n",
    "import time\n",
    "import os, datetime\n",
    "os.environ[\"CUDA_DEVICE_ORDER\"] = \"PCI_BUS_ID\"\n",
    "os.environ[\"CUDA_VISIBLE_DEVICES\"] = \"0\"\n",
    "import tensorflow as tf\n",
    "import pandas_datareader as pdr\n",
    "from sklearn.preprocessing import MinMaxScaler\n",
    "from tensorflow.keras.models import *\n",
    "from tensorflow.keras.layers import *\n",
    "print('Tensorflow version: {}'.format(tf.__version__))\n",
    "\n",
    "import matplotlib.pyplot as plt\n",
    "plt.style.use('seaborn')\n",
    "\n",
    "import warnings\n",
    "warnings.filterwarnings('ignore')\n"
   ]
  },
  {
   "cell_type": "markdown",
   "metadata": {
    "id": "ykFSM9LT54LR"
   },
   "source": [
    "## Hyperparameters"
   ]
  },
  {
   "cell_type": "code",
   "execution_count": 2,
   "metadata": {
    "id": "Acgb31zy5lcD"
   },
   "outputs": [],
   "source": [
    "batch_size = 32\n",
    "seq_len = 128\n",
    "\n",
    "d_k = 256\n",
    "d_v = 256\n",
    "n_heads = 12\n",
    "ff_dim = 256"
   ]
  },
  {
   "cell_type": "markdown",
   "metadata": {
    "id": "HnPzNUPK50Ki"
   },
   "source": [
    "## Load Microsoft data"
   ]
  },
  {
   "cell_type": "code",
   "execution_count": 3,
   "metadata": {},
   "outputs": [
    {
     "data": {
      "text/plain": [
       "0         0.061252\n",
       "1         0.063439\n",
       "2         0.064533\n",
       "3         0.062892\n",
       "4         0.061799\n",
       "           ...    \n",
       "9098    280.519989\n",
       "9099    285.299988\n",
       "9100    286.359985\n",
       "9101    280.809998\n",
       "9102    274.029999\n",
       "Name: Close, Length: 9103, dtype: float64"
      ]
     },
     "execution_count": 3,
     "metadata": {},
     "output_type": "execute_result"
    }
   ],
   "source": [
    "# df = pdr.get_data_tiingo(\"MSFT\", api_key=\"aeeaa9dbc8f82f2c361abaa259050d75e736b424\")\n",
    "\n",
    "ticker = yf.Ticker(\"MSFT\")\n",
    "df = ticker.history(period=\"max\")\n",
    "\n",
    "\n",
    "df.to_csv(\"MSFT.csv\")\n",
    "df = pd.read_csv(\"MSFT.csv\", delimiter=',', usecols=['Date', 'Close'])\n",
    "df.sort_values('Date', inplace=True)\n",
    "price_history = df\n",
    "df = df[\"Close\"]\n",
    "\n",
    "prices = price_history[[\"Close\"]].pct_change().dropna()\n",
    "\n",
    "df"
   ]
  },
  {
   "cell_type": "code",
   "execution_count": 4,
   "metadata": {},
   "outputs": [
    {
     "data": {
      "text/html": [
       "<div>\n",
       "<style scoped>\n",
       "    .dataframe tbody tr th:only-of-type {\n",
       "        vertical-align: middle;\n",
       "    }\n",
       "\n",
       "    .dataframe tbody tr th {\n",
       "        vertical-align: top;\n",
       "    }\n",
       "\n",
       "    .dataframe thead th {\n",
       "        text-align: right;\n",
       "    }\n",
       "</style>\n",
       "<table border=\"1\" class=\"dataframe\">\n",
       "  <thead>\n",
       "    <tr style=\"text-align: right;\">\n",
       "      <th></th>\n",
       "      <th>Close</th>\n",
       "    </tr>\n",
       "  </thead>\n",
       "  <tbody>\n",
       "    <tr>\n",
       "      <th>1</th>\n",
       "      <td>0.035711</td>\n",
       "    </tr>\n",
       "    <tr>\n",
       "      <th>2</th>\n",
       "      <td>0.017251</td>\n",
       "    </tr>\n",
       "    <tr>\n",
       "      <th>3</th>\n",
       "      <td>-0.025431</td>\n",
       "    </tr>\n",
       "    <tr>\n",
       "      <th>4</th>\n",
       "      <td>-0.017390</td>\n",
       "    </tr>\n",
       "    <tr>\n",
       "      <th>5</th>\n",
       "      <td>-0.026547</td>\n",
       "    </tr>\n",
       "    <tr>\n",
       "      <th>...</th>\n",
       "      <td>...</td>\n",
       "    </tr>\n",
       "    <tr>\n",
       "      <th>9098</th>\n",
       "      <td>0.002466</td>\n",
       "    </tr>\n",
       "    <tr>\n",
       "      <th>9099</th>\n",
       "      <td>0.017040</td>\n",
       "    </tr>\n",
       "    <tr>\n",
       "      <th>9100</th>\n",
       "      <td>0.003715</td>\n",
       "    </tr>\n",
       "    <tr>\n",
       "      <th>9101</th>\n",
       "      <td>-0.019381</td>\n",
       "    </tr>\n",
       "    <tr>\n",
       "      <th>9102</th>\n",
       "      <td>-0.024144</td>\n",
       "    </tr>\n",
       "  </tbody>\n",
       "</table>\n",
       "<p>9102 rows × 1 columns</p>\n",
       "</div>"
      ],
      "text/plain": [
       "         Close\n",
       "1     0.035711\n",
       "2     0.017251\n",
       "3    -0.025431\n",
       "4    -0.017390\n",
       "5    -0.026547\n",
       "...        ...\n",
       "9098  0.002466\n",
       "9099  0.017040\n",
       "9100  0.003715\n",
       "9101 -0.019381\n",
       "9102 -0.024144\n",
       "\n",
       "[9102 rows x 1 columns]"
      ]
     },
     "execution_count": 4,
     "metadata": {},
     "output_type": "execute_result"
    }
   ],
   "source": [
    "prices"
   ]
  },
  {
   "cell_type": "markdown",
   "metadata": {
    "id": "Caac4a66588l"
   },
   "source": [
    "## Plot daily IBM closing prices and volume"
   ]
  },
  {
   "cell_type": "code",
   "execution_count": 5,
   "metadata": {
    "colab": {
     "base_uri": "https://localhost:8080/",
     "height": 637
    },
    "id": "JJ1tN1_k5lx2",
    "outputId": "1efdbdf0-3fef-4db4-b1db-1be2fb5bfe5d"
   },
   "outputs": [],
   "source": [
    "# fig = plt.figure(figsize=(15,10))\n",
    "# st = fig.suptitle(\"Microsoft Close Price and Volume\", fontsize=20)\n",
    "# st.set_y(0.92)\n",
    "\n",
    "# ax1 = fig.add_subplot(211)\n",
    "# ax1.plot(df['Close'], label='MS Close Price')\n",
    "# ax1.set_xticks(range(0, df.shape[0], 1464))\n",
    "# ax1.set_xticklabels(df['Date'].loc[::1464])\n",
    "# ax1.set_ylabel('close Price', fontsize=18)\n",
    "# ax1.legend(loc=\"upper left\", fontsize=12)\n",
    "\n",
    "# ax2 = fig.add_subplot(212)\n",
    "# ax2.plot(df['Volume'], label='MS Volume')\n",
    "# ax2.set_xticks(range(0, df.shape[0], 1464))\n",
    "# ax2.set_xticklabels(df['Date'].loc[::1464])\n",
    "# ax2.set_ylabel('volume', fontsize=18)\n",
    "# ax2.legend(loc=\"upper left\", fontsize=12)"
   ]
  },
  {
   "cell_type": "markdown",
   "metadata": {
    "id": "fTS3Cm2H6GBz"
   },
   "source": [
    "## Calculate normalized percentage change of all columns"
   ]
  },
  {
   "cell_type": "code",
   "execution_count": 6,
   "metadata": {},
   "outputs": [],
   "source": [
    "# '''Calculate percentage change'''\n",
    "\n",
    "# df['Open'] = df['Open'].pct_change() # Create arithmetic returns column\n",
    "# df['High'] = df['High'].pct_change() # Create arithmetic returns column\n",
    "# df['Low'] = df['Low'].pct_change() # Create arithmetic returns column\n",
    "# df['Close'] = df['Close'].pct_change() # Create arithmetic returns column\n",
    "# df['Volume'] = df['Volume'].pct_change()\n",
    "\n",
    "# df.dropna(how='any', axis=0, inplace=True) # Drop all rows with NaN values\n",
    "\n",
    "###############################################################################\n",
    "'''Create indexes to split dataset'''\n",
    "\n",
    "times = sorted(df.index.values)\n",
    "last_10pct = sorted(df.index.values)[-int(0.1*len(times))] # Last 10% of series\n",
    "last_20pct = sorted(df.index.values)[-int(0.2*len(times))] # Last 20% of series\n",
    "last_30pct = sorted(df.index.values)[-int(0.3*len(times))] # Last 30% of series\n",
    "\n",
    "# ###############################################################################\n",
    "# '''Normalize price columns'''\n",
    "# #\n",
    "# min_return = min(df[(df.index < last_20pct)][['Open', 'High', 'Low', 'Close']].min(axis=0))\n",
    "# max_return = max(df[(df.index < last_20pct)][['Open', 'High', 'Low', 'Close']].max(axis=0))\n",
    "\n",
    "# print(min_return)\n",
    "# print(max_return)"
   ]
  },
  {
   "cell_type": "code",
   "execution_count": 7,
   "metadata": {},
   "outputs": [
    {
     "data": {
      "text/plain": [
       "array([[1.27791516e-05],\n",
       "       [1.91685806e-05],\n",
       "       [2.23652483e-05],\n",
       "       ...,\n",
       "       [8.36299636e-01],\n",
       "       [8.20087961e-01],\n",
       "       [8.00283389e-01]])"
      ]
     },
     "execution_count": 7,
     "metadata": {},
     "output_type": "execute_result"
    }
   ],
   "source": [
    "# Min-max normalize price columns (0-1 range)\n",
    "# df_temp = df[['Open','High','Low','Close']]\n",
    "scaler_1 = MinMaxScaler(feature_range=(0, 1))\n",
    "df = scaler_1.fit_transform(np.array(df).reshape(-1,1))\n",
    "df\n",
    "# df['Open'] = (df['Open'] - min_return) / (max_return - min_return)\n",
    "# df['High'] = (df['High'] - min_return) / (max_return - min_return)\n",
    "# df['Low'] = (df['Low'] - min_return) / (max_return - min_return)\n",
    "# df['Close'] = (df['Close'] - min_return) / (max_return - min_return)"
   ]
  },
  {
   "cell_type": "code",
   "execution_count": 8,
   "metadata": {},
   "outputs": [
    {
     "data": {
      "text/plain": [
       "array([[0.67806486],\n",
       "       [0.64090611],\n",
       "       [0.55499411],\n",
       "       ...,\n",
       "       [0.61366187],\n",
       "       [0.56717229],\n",
       "       [0.55758458]])"
      ]
     },
     "execution_count": 8,
     "metadata": {},
     "output_type": "execute_result"
    }
   ],
   "source": [
    "scaler_2 = MinMaxScaler()\n",
    "df_prices = scaler_2.fit_transform(prices)\n",
    "df_prices"
   ]
  },
  {
   "cell_type": "code",
   "execution_count": 9,
   "metadata": {},
   "outputs": [
    {
     "data": {
      "text/html": [
       "<div>\n",
       "<style scoped>\n",
       "    .dataframe tbody tr th:only-of-type {\n",
       "        vertical-align: middle;\n",
       "    }\n",
       "\n",
       "    .dataframe tbody tr th {\n",
       "        vertical-align: top;\n",
       "    }\n",
       "\n",
       "    .dataframe thead th {\n",
       "        text-align: right;\n",
       "    }\n",
       "</style>\n",
       "<table border=\"1\" class=\"dataframe\">\n",
       "  <thead>\n",
       "    <tr style=\"text-align: right;\">\n",
       "      <th></th>\n",
       "      <th>Close</th>\n",
       "    </tr>\n",
       "  </thead>\n",
       "  <tbody>\n",
       "    <tr>\n",
       "      <th>0</th>\n",
       "      <td>0.000013</td>\n",
       "    </tr>\n",
       "    <tr>\n",
       "      <th>1</th>\n",
       "      <td>0.000019</td>\n",
       "    </tr>\n",
       "    <tr>\n",
       "      <th>2</th>\n",
       "      <td>0.000022</td>\n",
       "    </tr>\n",
       "    <tr>\n",
       "      <th>3</th>\n",
       "      <td>0.000018</td>\n",
       "    </tr>\n",
       "    <tr>\n",
       "      <th>4</th>\n",
       "      <td>0.000014</td>\n",
       "    </tr>\n",
       "    <tr>\n",
       "      <th>...</th>\n",
       "      <td>...</td>\n",
       "    </tr>\n",
       "    <tr>\n",
       "      <th>9098</th>\n",
       "      <td>0.819241</td>\n",
       "    </tr>\n",
       "    <tr>\n",
       "      <th>9099</th>\n",
       "      <td>0.833203</td>\n",
       "    </tr>\n",
       "    <tr>\n",
       "      <th>9100</th>\n",
       "      <td>0.836300</td>\n",
       "    </tr>\n",
       "    <tr>\n",
       "      <th>9101</th>\n",
       "      <td>0.820088</td>\n",
       "    </tr>\n",
       "    <tr>\n",
       "      <th>9102</th>\n",
       "      <td>0.800283</td>\n",
       "    </tr>\n",
       "  </tbody>\n",
       "</table>\n",
       "<p>9102 rows × 1 columns</p>\n",
       "</div>"
      ],
      "text/plain": [
       "         Close\n",
       "0     0.000013\n",
       "1     0.000019\n",
       "2     0.000022\n",
       "3     0.000018\n",
       "4     0.000014\n",
       "...        ...\n",
       "9098  0.819241\n",
       "9099  0.833203\n",
       "9100  0.836300\n",
       "9101  0.820088\n",
       "9102  0.800283\n",
       "\n",
       "[9102 rows x 1 columns]"
      ]
     },
     "execution_count": 9,
     "metadata": {},
     "output_type": "execute_result"
    }
   ],
   "source": [
    "df = pd.DataFrame(df,columns=['Close'])\n",
    "# scaler_2 = MinMaxScaler(feature_range=(0, 1))\n",
    "# df['Volume'] = scaler_1.fit_transform(np.array(df['Volume']).reshape(-1, 1))\n",
    "df.replace(0, np.nan, inplace=True)\n",
    "df.dropna(how='any', axis=0, inplace=True)\n",
    "# df.reset_index(inplace=True)\n",
    "df"
   ]
  },
  {
   "cell_type": "code",
   "execution_count": 10,
   "metadata": {},
   "outputs": [
    {
     "data": {
      "text/html": [
       "<div>\n",
       "<style scoped>\n",
       "    .dataframe tbody tr th:only-of-type {\n",
       "        vertical-align: middle;\n",
       "    }\n",
       "\n",
       "    .dataframe tbody tr th {\n",
       "        vertical-align: top;\n",
       "    }\n",
       "\n",
       "    .dataframe thead th {\n",
       "        text-align: right;\n",
       "    }\n",
       "</style>\n",
       "<table border=\"1\" class=\"dataframe\">\n",
       "  <thead>\n",
       "    <tr style=\"text-align: right;\">\n",
       "      <th></th>\n",
       "      <th>Close</th>\n",
       "    </tr>\n",
       "  </thead>\n",
       "  <tbody>\n",
       "    <tr>\n",
       "      <th>0</th>\n",
       "      <td>0.678065</td>\n",
       "    </tr>\n",
       "    <tr>\n",
       "      <th>1</th>\n",
       "      <td>0.640906</td>\n",
       "    </tr>\n",
       "    <tr>\n",
       "      <th>2</th>\n",
       "      <td>0.554994</td>\n",
       "    </tr>\n",
       "    <tr>\n",
       "      <th>3</th>\n",
       "      <td>0.571180</td>\n",
       "    </tr>\n",
       "    <tr>\n",
       "      <th>4</th>\n",
       "      <td>0.552748</td>\n",
       "    </tr>\n",
       "    <tr>\n",
       "      <th>...</th>\n",
       "      <td>...</td>\n",
       "    </tr>\n",
       "    <tr>\n",
       "      <th>9097</th>\n",
       "      <td>0.611147</td>\n",
       "    </tr>\n",
       "    <tr>\n",
       "      <th>9098</th>\n",
       "      <td>0.640482</td>\n",
       "    </tr>\n",
       "    <tr>\n",
       "      <th>9099</th>\n",
       "      <td>0.613662</td>\n",
       "    </tr>\n",
       "    <tr>\n",
       "      <th>9100</th>\n",
       "      <td>0.567172</td>\n",
       "    </tr>\n",
       "    <tr>\n",
       "      <th>9101</th>\n",
       "      <td>0.557585</td>\n",
       "    </tr>\n",
       "  </tbody>\n",
       "</table>\n",
       "<p>9102 rows × 1 columns</p>\n",
       "</div>"
      ],
      "text/plain": [
       "         Close\n",
       "0     0.678065\n",
       "1     0.640906\n",
       "2     0.554994\n",
       "3     0.571180\n",
       "4     0.552748\n",
       "...        ...\n",
       "9097  0.611147\n",
       "9098  0.640482\n",
       "9099  0.613662\n",
       "9100  0.567172\n",
       "9101  0.557585\n",
       "\n",
       "[9102 rows x 1 columns]"
      ]
     },
     "execution_count": 10,
     "metadata": {},
     "output_type": "execute_result"
    }
   ],
   "source": [
    "df = pd.DataFrame(df_prices,columns=['Close'])\n",
    "df"
   ]
  },
  {
   "cell_type": "code",
   "execution_count": 11,
   "metadata": {
    "colab": {
     "base_uri": "https://localhost:8080/",
     "height": 255
    },
    "id": "i7_Uju9B5lqY",
    "outputId": "e56a1ca3-9c69-4ea4-ce2b-e1411c64452a"
   },
   "outputs": [
    {
     "name": "stdout",
     "output_type": "stream",
     "text": [
      "Training data shape: (6373, 1)\n",
      "Validation data shape: (910, 1)\n",
      "Test data shape: (1819, 1)\n"
     ]
    },
    {
     "data": {
      "text/html": [
       "<div>\n",
       "<style scoped>\n",
       "    .dataframe tbody tr th:only-of-type {\n",
       "        vertical-align: middle;\n",
       "    }\n",
       "\n",
       "    .dataframe tbody tr th {\n",
       "        vertical-align: top;\n",
       "    }\n",
       "\n",
       "    .dataframe thead th {\n",
       "        text-align: right;\n",
       "    }\n",
       "</style>\n",
       "<table border=\"1\" class=\"dataframe\">\n",
       "  <thead>\n",
       "    <tr style=\"text-align: right;\">\n",
       "      <th></th>\n",
       "      <th>Close</th>\n",
       "    </tr>\n",
       "  </thead>\n",
       "  <tbody>\n",
       "    <tr>\n",
       "      <th>0</th>\n",
       "      <td>0.678065</td>\n",
       "    </tr>\n",
       "    <tr>\n",
       "      <th>1</th>\n",
       "      <td>0.640906</td>\n",
       "    </tr>\n",
       "    <tr>\n",
       "      <th>2</th>\n",
       "      <td>0.554994</td>\n",
       "    </tr>\n",
       "    <tr>\n",
       "      <th>3</th>\n",
       "      <td>0.571180</td>\n",
       "    </tr>\n",
       "    <tr>\n",
       "      <th>4</th>\n",
       "      <td>0.552748</td>\n",
       "    </tr>\n",
       "  </tbody>\n",
       "</table>\n",
       "</div>"
      ],
      "text/plain": [
       "      Close\n",
       "0  0.678065\n",
       "1  0.640906\n",
       "2  0.554994\n",
       "3  0.571180\n",
       "4  0.552748"
      ]
     },
     "execution_count": 11,
     "metadata": {},
     "output_type": "execute_result"
    }
   ],
   "source": [
    "###############################################################################\n",
    "# '''Normalize volume column'''\n",
    "\n",
    "# min_volume = df[(df.index < last_20pct)]['Volume'].min(axis=0)\n",
    "# max_volume = df[(df.index < last_20pct)]['Volume'].max(axis=0)\n",
    "\n",
    "# # Min-max normalize volume columns (0-1 range)\n",
    "# df['Volume'] = (df['Volume'] - min_volume) / (max_volume - min_volume)\n",
    "\n",
    "###############################################################################\n",
    "'''Create training, validation and test split'''\n",
    "\n",
    "df_train = df[(df.index < last_30pct)]  # Training data are 70% of total data\n",
    "df_val = df[(df.index >= last_30pct) & (df.index < last_20pct)]\n",
    "df_test = df[(df.index >= last_20pct)]\n",
    "\n",
    "# Convert pandas columns into arrays\n",
    "train_data = df_train.values\n",
    "val_data = df_val.values\n",
    "test_data = df_test.values\n",
    "print('Training data shape: {}'.format(train_data.shape))\n",
    "print('Validation data shape: {}'.format(val_data.shape))\n",
    "print('Test data shape: {}'.format(test_data.shape))\n",
    "\n",
    "df_train.head()"
   ]
  },
  {
   "cell_type": "markdown",
   "metadata": {
    "id": "diGgUw_f6fAI"
   },
   "source": [
    "## Plot daily changes of close prices and volume"
   ]
  },
  {
   "cell_type": "code",
   "execution_count": 12,
   "metadata": {
    "colab": {
     "base_uri": "https://localhost:8080/",
     "height": 792
    },
    "id": "MJCti1mt5lnL",
    "outputId": "810c6464-dc15-46a7-e45d-496b3a7e3b6e"
   },
   "outputs": [
    {
     "data": {
      "text/plain": [
       "<matplotlib.legend.Legend at 0x28606e37940>"
      ]
     },
     "execution_count": 12,
     "metadata": {},
     "output_type": "execute_result"
    },
    {
     "data": {
      "image/png": "[encoded data removed]",
      "text/plain": [
       "<Figure size 1080x864 with 1 Axes>"
      ]
     },
     "metadata": {},
     "output_type": "display_data"
    }
   ],
   "source": [
    "fig = plt.figure(figsize=(15,12))\n",
    "st = fig.suptitle(\"Data Separation\", fontsize=20)\n",
    "st.set_y(0.95)\n",
    "\n",
    "###############################################################################\n",
    "\n",
    "ax1 = fig.add_subplot(211)\n",
    "ax1.plot(np.arange(train_data.shape[0]), df_train, label='Training data')\n",
    "\n",
    "ax1.plot(np.arange(train_data.shape[0], \n",
    "                   train_data.shape[0]+val_data.shape[0]), df_val, label='Validation data')\n",
    "\n",
    "ax1.plot(np.arange(train_data.shape[0]+val_data.shape[0], \n",
    "                   train_data.shape[0]+val_data.shape[0]+test_data.shape[0]), df_test, label='Test data')\n",
    "ax1.set_xlabel('Date')\n",
    "ax1.set_ylabel('Normalized Closing Returns')\n",
    "ax1.set_title(\"Close Price\", fontsize=18)\n",
    "ax1.legend(loc=\"best\", fontsize=12)\n",
    "\n",
    "# ###############################################################################\n",
    "\n",
    "# ax2 = fig.add_subplot(212)\n",
    "# ax2.plot(np.arange(train_data.shape[0]), df_train['Volume'], label='Training data')\n",
    "\n",
    "# ax2.plot(np.arange(train_data.shape[0], \n",
    "#                    train_data.shape[0]+val_data.shape[0]), df_val['Volume'], label='Validation data')\n",
    "\n",
    "# ax2.plot(np.arange(train_data.shape[0]+val_data.shape[0], \n",
    "#                    train_data.shape[0]+val_data.shape[0]+test_data.shape[0]), df_test['Volume'], label='Test data')\n",
    "# ax2.set_xlabel('Date')\n",
    "# ax2.set_ylabel('Normalized Volume Changes')\n",
    "# ax2.set_title(\"Volume\", fontsize=18)\n",
    "# ax2.legend(loc=\"best\", fontsize=12)"
   ]
  },
  {
   "cell_type": "markdown",
   "metadata": {
    "id": "K-9JDha_6l3L"
   },
   "source": [
    "## Create chunks of training, validation and test data"
   ]
  },
  {
   "cell_type": "code",
   "execution_count": 13,
   "metadata": {
    "colab": {
     "base_uri": "https://localhost:8080/",
     "height": 68
    },
    "id": "Ib8wOc-_5llL",
    "outputId": "74d3495e-68d3-441d-b050-ec8f134cf888"
   },
   "outputs": [
    {
     "name": "stdout",
     "output_type": "stream",
     "text": [
      "Training set shape (6230, 128, 1) (6230,)\n",
      "Validation set shape (767, 128, 1) (767,)\n",
      "Testing set shape (1676, 128, 1) (1676,)\n"
     ]
    }
   ],
   "source": [
    "# Training data\n",
    "shift_num = 15\n",
    "\n",
    "X_train, y_train = [], []\n",
    "for i in range(seq_len, len(train_data)-shift_num):\n",
    "  X_train.append(train_data[i-seq_len:i]) # Chunks of training data with a length of 128 df-rows\n",
    "  y_train.append(train_data[:, 0][i+shift_num]) #Value of 4th column (Close Price) of df-row 128+1\n",
    "X_train, y_train = np.array(X_train), np.array(y_train)\n",
    "\n",
    "\n",
    "# Validation data\n",
    "X_val, y_val = [], []\n",
    "for i in range(seq_len, len(val_data)-shift_num):\n",
    "    X_val.append(val_data[i-seq_len:i])\n",
    "    y_val.append(val_data[:, 0][i+shift_num])\n",
    "X_val, y_val = np.array(X_val), np.array(y_val)\n",
    "\n",
    "\n",
    "# Test data\n",
    "X_test, y_test = [], []\n",
    "for i in range(seq_len, len(test_data)-shift_num):\n",
    "    X_test.append(test_data[i-seq_len:i])\n",
    "    y_test.append(test_data[:, 0][i+shift_num])    \n",
    "X_test, y_test = np.array(X_test), np.array(y_test)\n",
    "\n",
    "print('Training set shape', X_train.shape, y_train.shape)\n",
    "print('Validation set shape', X_val.shape, y_val.shape)\n",
    "print('Testing set shape' ,X_test.shape, y_test.shape)"
   ]
  },
  {
   "cell_type": "code",
   "execution_count": 14,
   "metadata": {},
   "outputs": [
    {
     "data": {
      "text/plain": [
       "0.6061834151448824"
      ]
     },
     "execution_count": 14,
     "metadata": {},
     "output_type": "execute_result"
    }
   ],
   "source": [
    "train_data[:,0][seq_len]"
   ]
  },
  {
   "cell_type": "code",
   "execution_count": 15,
   "metadata": {},
   "outputs": [
    {
     "data": {
      "text/plain": [
       "array([0.64742814, 0.66276479, 0.66908143, ..., 0.62822771, 0.62798991,\n",
       "       0.62360579])"
      ]
     },
     "execution_count": 15,
     "metadata": {},
     "output_type": "execute_result"
    }
   ],
   "source": [
    "y_train"
   ]
  },
  {
   "cell_type": "markdown",
   "metadata": {
    "id": "hJZOW8d56wyJ"
   },
   "source": [
    "## Transformer"
   ]
  },
  {
   "cell_type": "code",
   "execution_count": 16,
   "metadata": {},
   "outputs": [],
   "source": [
    "class Time2Vector(Layer):\n",
    "    def __init__(self, seq_len, **kwargs):\n",
    "        super(Time2Vector, self).__init__()\n",
    "        self.seq_len = seq_len\n",
    "\n",
    "    def build(self, input_shape):\n",
    "        '''Initialize weights and biases with shape (batch, seq_len)'''\n",
    "        self.weights_linear = self.add_weight(name='weight_linear',\n",
    "                                              shape=(int(self.seq_len),),\n",
    "                                              initializer='uniform',\n",
    "                                              trainable=True)\n",
    "\n",
    "        self.bias_linear = self.add_weight(name='bias_linear',\n",
    "                                           shape=(int(self.seq_len),),\n",
    "                                           initializer='uniform',\n",
    "                                           trainable=True)\n",
    "\n",
    "        self.weights_periodic = self.add_weight(name='weight_periodic',\n",
    "                                                shape=(int(self.seq_len),),\n",
    "                                                initializer='uniform',\n",
    "                                                trainable=True)\n",
    "\n",
    "        self.bias_periodic = self.add_weight(name='bias_periodic',\n",
    "                                             shape=(int(self.seq_len),),\n",
    "                                             initializer='uniform',\n",
    "                                             trainable=True)\n",
    "\n",
    "    def call(self, x):\n",
    "        '''Calculate linear and periodic time features'''\n",
    "        x = tf.math.reduce_mean(x[:, :, :4], axis=-1)\n",
    "        time_linear = self.weights_linear * x + self.bias_linear  # Linear time feature\n",
    "        time_linear = tf.expand_dims(time_linear, axis=-1)  # Add dimension (batch, seq_len, 1)\n",
    "\n",
    "        time_periodic = tf.math.sin(tf.multiply(x, self.weights_periodic) + self.bias_periodic)\n",
    "        time_periodic = tf.expand_dims(time_periodic, axis=-1)  # Add dimension (batch, seq_len, 1)\n",
    "        return tf.concat([time_linear, time_periodic], axis=-1)  # shape = (batch, seq_len, 2)\n",
    "\n",
    "    def get_config(self):  # Needed for saving and loading model with custom layer\n",
    "        config = super().get_config().copy()\n",
    "        config.update({'seq_len': self.seq_len})\n",
    "        return config\n",
    "\n",
    "\n",
    "class SingleAttention(Layer):\n",
    "    def __init__(self, d_k, d_v):\n",
    "        super(SingleAttention, self).__init__()\n",
    "        self.d_k = d_k\n",
    "        self.d_v = d_v\n",
    "\n",
    "    def build(self, input_shape):\n",
    "        self.query = Dense(self.d_k,\n",
    "                           input_shape=input_shape,\n",
    "                           kernel_initializer='glorot_uniform',\n",
    "                           bias_initializer='glorot_uniform')\n",
    "\n",
    "        self.key = Dense(self.d_k,\n",
    "                         input_shape=input_shape,\n",
    "                         kernel_initializer='glorot_uniform',\n",
    "                         bias_initializer='glorot_uniform')\n",
    "\n",
    "        self.value = Dense(self.d_v,\n",
    "                           input_shape=input_shape,\n",
    "                           kernel_initializer='glorot_uniform',\n",
    "                           bias_initializer='glorot_uniform')\n",
    "\n",
    "    def call(self, inputs):  # inputs = (in_seq, in_seq, in_seq)\n",
    "        q = self.query(inputs[0])\n",
    "        k = self.key(inputs[1])\n",
    "\n",
    "        attn_weights = tf.matmul(q, k, transpose_b=True)\n",
    "        attn_weights = tf.map_fn(lambda x: x / np.sqrt(self.d_k), attn_weights)\n",
    "        attn_weights = tf.nn.softmax(attn_weights, axis=-1)\n",
    "\n",
    "        v = self.value(inputs[2])\n",
    "        attn_out = tf.matmul(attn_weights, v)\n",
    "        return attn_out\n",
    "\n",
    "    #############################################################################\n",
    "\n",
    "\n",
    "class MultiAttention(Layer):\n",
    "    def __init__(self, d_k, d_v, n_heads):\n",
    "        super(MultiAttention, self).__init__()\n",
    "        self.d_k = d_k\n",
    "        self.d_v = d_v\n",
    "        self.n_heads = n_heads\n",
    "        self.attn_heads = list()\n",
    "\n",
    "    def build(self, input_shape):\n",
    "        for n in range(self.n_heads):\n",
    "            self.attn_heads.append(SingleAttention(self.d_k, self.d_v))\n",
    "\n",
    "            # input_shape[0]=(batch, seq_len, 7), input_shape[0][-1]=7\n",
    "        self.linear = Dense(input_shape[0][-1],\n",
    "                            input_shape=input_shape,\n",
    "                            kernel_initializer='glorot_uniform',\n",
    "                            bias_initializer='glorot_uniform')\n",
    "\n",
    "    def call(self, inputs):\n",
    "        attn = [self.attn_heads[i](inputs) for i in range(self.n_heads)]\n",
    "        concat_attn = tf.concat(attn, axis=-1)\n",
    "        multi_linear = self.linear(concat_attn)\n",
    "        return multi_linear\n",
    "\n",
    "    #############################################################################\n",
    "\n",
    "\n",
    "class TransformerEncoder(Layer):\n",
    "    def __init__(self, d_k, d_v, n_heads, ff_dim, dropout=0.1, **kwargs):\n",
    "        super(TransformerEncoder, self).__init__()\n",
    "        self.d_k = d_k\n",
    "        self.d_v = d_v\n",
    "        self.n_heads = n_heads\n",
    "        self.ff_dim = ff_dim\n",
    "        self.attn_heads = list()\n",
    "        self.dropout_rate = dropout\n",
    "\n",
    "    def build(self, input_shape):\n",
    "        self.attn_multi = MultiAttention(self.d_k, self.d_v, self.n_heads)\n",
    "        self.attn_dropout = Dropout(self.dropout_rate)\n",
    "        self.attn_normalize = LayerNormalization(input_shape=input_shape, epsilon=1e-6)\n",
    "\n",
    "        self.ff_conv1D_1 = Conv1D(filters=self.ff_dim, kernel_size=1, activation='relu')\n",
    "        # input_shape[0]=(batch, seq_len, 7), input_shape[0][-1] = 7\n",
    "        self.ff_conv1D_2 = Conv1D(filters=input_shape[0][-1], kernel_size=1)\n",
    "        self.ff_dropout = Dropout(self.dropout_rate)\n",
    "        self.ff_normalize = LayerNormalization(input_shape=input_shape, epsilon=1e-6)\n",
    "\n",
    "    def call(self, inputs):  # inputs = (in_seq, in_seq, in_seq)\n",
    "        attn_layer = self.attn_multi(inputs)\n",
    "        attn_layer = self.attn_dropout(attn_layer)\n",
    "        attn_layer = self.attn_normalize(inputs[0] + attn_layer)\n",
    "\n",
    "        ff_layer = self.ff_conv1D_1(attn_layer)\n",
    "        ff_layer = self.ff_conv1D_2(ff_layer)\n",
    "        ff_layer = self.ff_dropout(ff_layer)\n",
    "        ff_layer = self.ff_normalize(inputs[0] + ff_layer)\n",
    "        return ff_layer\n",
    "\n",
    "    def get_config(self):  # Needed for saving and loading model with custom layer\n",
    "        config = super().get_config().copy()\n",
    "        config.update({'d_k': self.d_k,\n",
    "                       'd_v': self.d_v,\n",
    "                       'n_heads': self.n_heads,\n",
    "                       'ff_dim': self.ff_dim,\n",
    "                       'attn_heads': self.attn_heads,\n",
    "                       'dropout_rate': self.dropout_rate})\n",
    "        return config\n",
    "\n",
    "\n",
    "def create_model():\n",
    "    '''Initialize time and transformer layers'''\n",
    "    time_embedding = Time2Vector(seq_len)\n",
    "    attn_layer1 = TransformerEncoder(d_k, d_v, n_heads, ff_dim)\n",
    "    attn_layer2 = TransformerEncoder(d_k, d_v, n_heads, ff_dim)\n",
    "    attn_layer3 = TransformerEncoder(d_k, d_v, n_heads, ff_dim)\n",
    "\n",
    "    '''Construct model'''\n",
    "    in_seq = Input(shape=(seq_len, 1))\n",
    "    x = time_embedding(in_seq)\n",
    "    x = Concatenate(axis=-1)([in_seq, x])\n",
    "    x = attn_layer1((x, x, x))\n",
    "    x = attn_layer2((x, x, x))\n",
    "    x = attn_layer3((x, x, x))\n",
    "    x = GlobalAveragePooling1D(data_format='channels_first')(x)\n",
    "    x = Dropout(0.1)(x)\n",
    "    x = Dense(64, activation='relu')(x)\n",
    "    x = Dropout(0.1)(x)\n",
    "    out = Dense(1, activation='linear')(x)\n",
    "\n",
    "    model = Model(inputs=in_seq, outputs=out)\n",
    "    model.compile(loss='mse', optimizer='adam', metrics=['mae', 'mape'])\n",
    "    return model"
   ]
  },
  {
   "cell_type": "code",
   "execution_count": 17,
   "metadata": {},
   "outputs": [
    {
     "name": "stdout",
     "output_type": "stream",
     "text": [
      "1 Physical GPUs, 1 Logical GPUs\n"
     ]
    }
   ],
   "source": [
    "gpus = tf.config.experimental.list_physical_devices('GPU')\n",
    "if gpus:\n",
    "  try:\n",
    "    # Currently, memory growth needs to be the same across GPUs\n",
    "    for gpu in gpus:\n",
    "      tf.config.experimental.set_memory_growth(gpu, True)\n",
    "    logical_gpus = tf.config.experimental.list_logical_devices('GPU')\n",
    "    print(len(gpus), \"Physical GPUs,\", len(logical_gpus), \"Logical GPUs\")\n",
    "  except RuntimeError as e:\n",
    "    # Memory growth must be set before GPUs have been initialized\n",
    "    print(e)"
   ]
  },
  {
   "cell_type": "markdown",
   "metadata": {
    "id": "OtBanXmQB4jF"
   },
   "source": [
    "## Model"
   ]
  },
  {
   "cell_type": "code",
   "execution_count": 18,
   "metadata": {},
   "outputs": [
    {
     "name": "stdout",
     "output_type": "stream",
     "text": [
      "Model: \"model\"\n",
      "__________________________________________________________________________________________________\n",
      " Layer (type)                   Output Shape         Param #     Connected to                     \n",
      "==================================================================================================\n",
      " input_1 (InputLayer)           [(None, 128, 1)]     0           []                               \n",
      "                                                                                                  \n",
      " time2_vector (Time2Vector)     (None, 128, 2)       512         ['input_1[0][0]']                \n",
      "                                                                                                  \n",
      " concatenate (Concatenate)      (None, 128, 3)       0           ['input_1[0][0]',                \n",
      "                                                                  'time2_vector[0][0]']           \n",
      "                                                                                                  \n",
      " transformer_encoder (Transform  (None, 128, 3)      47890       ['concatenate[0][0]',            \n",
      " erEncoder)                                                       'concatenate[0][0]',            \n",
      "                                                                  'concatenate[0][0]']            \n",
      "                                                                                                  \n",
      " transformer_encoder_1 (Transfo  (None, 128, 3)      47890       ['transformer_encoder[0][0]',    \n",
      " rmerEncoder)                                                     'transformer_encoder[0][0]',    \n",
      "                                                                  'transformer_encoder[0][0]']    \n",
      "                                                                                                  \n",
      " transformer_encoder_2 (Transfo  (None, 128, 3)      47890       ['transformer_encoder_1[0][0]',  \n",
      " rmerEncoder)                                                     'transformer_encoder_1[0][0]',  \n",
      "                                                                  'transformer_encoder_1[0][0]']  \n",
      "                                                                                                  \n",
      " global_average_pooling1d (Glob  (None, 128)         0           ['transformer_encoder_2[0][0]']  \n",
      " alAveragePooling1D)                                                                              \n",
      "                                                                                                  \n",
      " dropout (Dropout)              (None, 128)          0           ['global_average_pooling1d[0][0]'\n",
      "                                                                 ]                                \n",
      "                                                                                                  \n",
      " dense (Dense)                  (None, 64)           8256        ['dropout[0][0]']                \n",
      "                                                                                                  \n",
      " dropout_1 (Dropout)            (None, 64)           0           ['dense[0][0]']                  \n",
      "                                                                                                  \n",
      " dense_1 (Dense)                (None, 1)            65          ['dropout_1[0][0]']              \n",
      "                                                                                                  \n",
      "==================================================================================================\n",
      "Total params: 152,503\n",
      "Trainable params: 152,503\n",
      "Non-trainable params: 0\n",
      "__________________________________________________________________________________________________\n",
      "Epoch 1/35\n",
      "195/195 [==============================] - 146s 650ms/step - loss: 0.0229 - mae: 0.0873 - mape: 11160.6777 - val_loss: 8.1393e-04 - val_mae: 0.0201 - val_mape: 3.3467\n",
      "Epoch 2/35\n",
      "195/195 [==============================] - 122s 627ms/step - loss: 0.0040 - mae: 0.0482 - mape: 88985.4375 - val_loss: 8.4368e-04 - val_mae: 0.0210 - val_mape: 3.5174\n",
      "Epoch 3/35\n",
      "195/195 [==============================] - 122s 627ms/step - loss: 0.0037 - mae: 0.0463 - mape: 102308.1172 - val_loss: 8.3556e-04 - val_mae: 0.0208 - val_mape: 3.4858\n",
      "Epoch 4/35\n",
      "195/195 [==============================] - 123s 628ms/step - loss: 0.0037 - mae: 0.0461 - mape: 99884.9062 - val_loss: 8.2192e-04 - val_mae: 0.0205 - val_mape: 3.4219\n",
      "Epoch 5/35\n",
      "195/195 [==============================] - 122s 628ms/step - loss: 0.0036 - mae: 0.0457 - mape: 94470.0703 - val_loss: 8.1418e-04 - val_mae: 0.0201 - val_mape: 3.3433\n",
      "Epoch 6/35\n",
      "195/195 [==============================] - 123s 628ms/step - loss: 0.0036 - mae: 0.0454 - mape: 102460.3125 - val_loss: 9.0466e-04 - val_mae: 0.0221 - val_mape: 3.7291\n",
      "Epoch 7/35\n",
      "195/195 [==============================] - 122s 628ms/step - loss: 0.0034 - mae: 0.0440 - mape: 90670.1562 - val_loss: 9.2084e-04 - val_mae: 0.0215 - val_mape: 3.5286\n",
      "Epoch 8/35\n",
      "195/195 [==============================] - 122s 627ms/step - loss: 0.0034 - mae: 0.0441 - mape: 99117.8281 - val_loss: 8.1540e-04 - val_mae: 0.0201 - val_mape: 3.3387\n",
      "Epoch 9/35\n",
      "195/195 [==============================] - 122s 627ms/step - loss: 0.0033 - mae: 0.0432 - mape: 105566.2500 - val_loss: 9.7790e-04 - val_mae: 0.0224 - val_mape: 3.6629\n",
      "Epoch 10/35\n",
      "195/195 [==============================] - 122s 627ms/step - loss: 0.0033 - mae: 0.0429 - mape: 93498.4453 - val_loss: 8.1463e-04 - val_mae: 0.0201 - val_mape: 3.3409\n",
      "Epoch 11/35\n",
      "195/195 [==============================] - 122s 628ms/step - loss: 0.0032 - mae: 0.0425 - mape: 90614.2109 - val_loss: 8.1357e-04 - val_mae: 0.0201 - val_mape: 3.3505\n",
      "Epoch 12/35\n",
      "195/195 [==============================] - 122s 627ms/step - loss: 0.0031 - mae: 0.0421 - mape: 99501.3984 - val_loss: 8.2077e-04 - val_mae: 0.0201 - val_mape: 3.3366\n",
      "Epoch 13/35\n",
      "195/195 [==============================] - 122s 627ms/step - loss: 0.0030 - mae: 0.0412 - mape: 108109.3984 - val_loss: 9.0531e-04 - val_mae: 0.0213 - val_mape: 3.4933\n",
      "Epoch 14/35\n",
      "195/195 [==============================] - 122s 628ms/step - loss: 0.0029 - mae: 0.0400 - mape: 92482.5547 - val_loss: 0.0011 - val_mae: 0.0236 - val_mape: 3.8436\n",
      "Epoch 15/35\n",
      "195/195 [==============================] - 122s 628ms/step - loss: 0.0029 - mae: 0.0401 - mape: 98820.9297 - val_loss: 8.3108e-04 - val_mae: 0.0207 - val_mape: 3.4669\n",
      "Epoch 16/35\n",
      "195/195 [==============================] - 122s 627ms/step - loss: 0.0028 - mae: 0.0391 - mape: 96282.5078 - val_loss: 8.8346e-04 - val_mae: 0.0210 - val_mape: 3.4476\n",
      "Epoch 17/35\n",
      "195/195 [==============================] - 122s 627ms/step - loss: 0.0028 - mae: 0.0393 - mape: 95157.6875 - val_loss: 8.6680e-04 - val_mae: 0.0208 - val_mape: 3.4137\n",
      "Epoch 18/35\n",
      "195/195 [==============================] - 122s 627ms/step - loss: 0.0028 - mae: 0.0384 - mape: 99137.4297 - val_loss: 8.1713e-04 - val_mae: 0.0201 - val_mape: 3.3366\n",
      "Epoch 19/35\n",
      "195/195 [==============================] - 123s 633ms/step - loss: 0.0027 - mae: 0.0378 - mape: 96695.9453 - val_loss: 8.3535e-04 - val_mae: 0.0208 - val_mape: 3.4851\n",
      "Epoch 20/35\n",
      "195/195 [==============================] - 122s 627ms/step - loss: 0.0026 - mae: 0.0372 - mape: 98160.6406 - val_loss: 8.8096e-04 - val_mae: 0.0217 - val_mape: 3.6529\n",
      "Epoch 21/35\n",
      "195/195 [==============================] - 123s 628ms/step - loss: 0.0026 - mae: 0.0370 - mape: 100530.7188 - val_loss: 8.6594e-04 - val_mae: 0.0214 - val_mape: 3.6004\n",
      "Epoch 22/35\n",
      "195/195 [==============================] - 122s 627ms/step - loss: 0.0026 - mae: 0.0371 - mape: 101896.3828 - val_loss: 8.7392e-04 - val_mae: 0.0209 - val_mape: 3.4283\n",
      "Epoch 23/35\n",
      "195/195 [==============================] - 122s 628ms/step - loss: 0.0025 - mae: 0.0364 - mape: 100002.3438 - val_loss: 9.8679e-04 - val_mae: 0.0235 - val_mape: 3.9779\n",
      "Epoch 24/35\n",
      "195/195 [==============================] - 122s 627ms/step - loss: 0.0024 - mae: 0.0358 - mape: 99149.6250 - val_loss: 8.2132e-04 - val_mae: 0.0204 - val_mape: 3.4189\n",
      "Epoch 25/35\n",
      "195/195 [==============================] - 123s 628ms/step - loss: 0.0025 - mae: 0.0359 - mape: 98257.7891 - val_loss: 8.1804e-04 - val_mae: 0.0204 - val_mape: 3.3993\n",
      "Epoch 26/35\n"
     ]
    },
    {
     "name": "stdout",
     "output_type": "stream",
     "text": [
      "195/195 [==============================] - 124s 635ms/step - loss: 0.0024 - mae: 0.0353 - mape: 97511.5703 - val_loss: 8.5894e-04 - val_mae: 0.0213 - val_mape: 3.5757\n",
      "Epoch 27/35\n",
      "195/195 [==============================] - 122s 627ms/step - loss: 0.0024 - mae: 0.0353 - mape: 96132.5938 - val_loss: 8.8897e-04 - val_mae: 0.0218 - val_mape: 3.6791\n",
      "Epoch 28/35\n",
      "195/195 [==============================] - 122s 628ms/step - loss: 0.0024 - mae: 0.0349 - mape: 98893.5781 - val_loss: 8.1792e-04 - val_mae: 0.0203 - val_mape: 3.3985\n",
      "Epoch 29/35\n",
      "195/195 [==============================] - 122s 627ms/step - loss: 0.0024 - mae: 0.0351 - mape: 94778.2578 - val_loss: 8.5371e-04 - val_mae: 0.0206 - val_mape: 3.3867\n",
      "Epoch 30/35\n",
      "195/195 [==============================] - 122s 627ms/step - loss: 0.0024 - mae: 0.0347 - mape: 96489.3906 - val_loss: 8.1423e-04 - val_mae: 0.0201 - val_mape: 3.3424\n",
      "Epoch 31/35\n",
      "195/195 [==============================] - 122s 627ms/step - loss: 0.0023 - mae: 0.0345 - mape: 94087.5078 - val_loss: 8.1643e-04 - val_mae: 0.0201 - val_mape: 3.3372\n",
      "Epoch 32/35\n",
      "195/195 [==============================] - 122s 628ms/step - loss: 0.0024 - mae: 0.0348 - mape: 96448.6797 - val_loss: 8.6902e-04 - val_mae: 0.0215 - val_mape: 3.6115\n",
      "Epoch 33/35\n",
      "195/195 [==============================] - 123s 628ms/step - loss: 0.0023 - mae: 0.0342 - mape: 100420.8203 - val_loss: 8.2233e-04 - val_mae: 0.0205 - val_mape: 3.4243\n",
      "Epoch 34/35\n",
      "195/195 [==============================] - 122s 628ms/step - loss: 0.0023 - mae: 0.0340 - mape: 98738.7344 - val_loss: 8.7015e-04 - val_mae: 0.0215 - val_mape: 3.6155\n",
      "Epoch 35/35\n",
      "195/195 [==============================] - 122s 627ms/step - loss: 0.0023 - mae: 0.0340 - mape: 96699.6562 - val_loss: 8.1354e-04 - val_mae: 0.0201 - val_mape: 3.3521\n"
     ]
    }
   ],
   "source": [
    "model = create_model()\n",
    "model.summary()\n",
    "\n",
    "# callback = tf.keras.callbacks.ModelCheckpoint('Transformer+TimeEmbedding.hdf5', \n",
    "#                                               monitor='val_loss', \n",
    "#                                               save_best_only=True, verbose=1)\n",
    "\n",
    "# model.fit(X_train, y_train, \n",
    "#                     batch_size=batch_size, \n",
    "#                     epochs=35, \n",
    "#                     callbacks=[callback],\n",
    "#                     validation_data=(X_val, y_val))  \n",
    "start = time.time()\n",
    "\n",
    "history = model.fit(X_train, y_train, \n",
    "                    batch_size=batch_size, \n",
    "                    epochs=35, \n",
    "                    validation_data=(X_val, y_val))  \n",
    "\n",
    "stop = time.time()"
   ]
  },
  {
   "cell_type": "code",
   "execution_count": 19,
   "metadata": {},
   "outputs": [
    {
     "name": "stdout",
     "output_type": "stream",
     "text": [
      "Training time: 4310.113419294357s\n"
     ]
    }
   ],
   "source": [
    "print(f\"Training time: {stop - start}s\")"
   ]
  },
  {
   "cell_type": "code",
   "execution_count": 20,
   "metadata": {},
   "outputs": [
    {
     "data": {
      "image/png": "[encoded data removed]",
      "text/plain": [
       "<Figure size 576x396 with 1 Axes>"
      ]
     },
     "metadata": {},
     "output_type": "display_data"
    }
   ],
   "source": [
    "plt.plot(history.history[\"loss\"], label = \"Loss\")\n",
    "plt.plot(history.history[\"val_loss\"], label = \"Val_loss\")\n",
    "plt.legend()\n",
    "plt.show()"
   ]
  },
  {
   "cell_type": "markdown",
   "metadata": {},
   "source": [
    "## Accuracy"
   ]
  },
  {
   "cell_type": "code",
   "execution_count": 21,
   "metadata": {},
   "outputs": [],
   "source": [
    "def MSE(y_actual, y_predicted):\n",
    "    mse = np.mean((y_actual - y_predicted)**2)\n",
    "    return mse\n",
    "\n",
    "def MAE(y_actual, y_predicted):\n",
    "    mae = np.mean(abs(y_actual - y_predicted))\n",
    "    return mae\n",
    "\n",
    "def MAPE(y_actual, y_predicted):\n",
    "    mape = np.mean(np.abs((y_actual - y_predicted)/y_actual))*100\n",
    "    return mape\n",
    "\n",
    "def RMSE(y_actual, y_predicted):\n",
    "    rmse = np.sqrt(MSE(y_actual, y_predicted))\n",
    "    return rmse"
   ]
  },
  {
   "cell_type": "code",
   "execution_count": 22,
   "metadata": {},
   "outputs": [
    {
     "name": "stdout",
     "output_type": "stream",
     "text": [
      "MSE:  0.00118\n",
      "MAE:  0.02308\n",
      "MAPE:  3.83615\n",
      "RMSE:  0.03436\n"
     ]
    }
   ],
   "source": [
    "test_pred = model.predict(X_test)\n",
    "mse = round(MSE(y_test, test_pred),5)\n",
    "mae = round(MAE(y_test, test_pred),5)\n",
    "mape = round(MAPE(y_test, test_pred),5)\n",
    "rmse = round(RMSE(y_test, test_pred),5)\n",
    "print(\"MSE: \",mse)\n",
    "print(\"MAE: \",mae)\n",
    "print(\"MAPE: \",mape)\n",
    "print(\"RMSE: \",rmse)"
   ]
  },
  {
   "cell_type": "markdown",
   "metadata": {},
   "source": [
    "## Store accuracy data"
   ]
  },
  {
   "cell_type": "code",
   "execution_count": 23,
   "metadata": {},
   "outputs": [],
   "source": [
    "field_names = [\"MSE\", \"MAE\", \"MAPE\", \"RMSE\"]"
   ]
  },
  {
   "cell_type": "code",
   "execution_count": 24,
   "metadata": {},
   "outputs": [],
   "source": [
    "new_row={'MSE':mse,'MAE': mae,'MAPE': mape,'RMSE':rmse}"
   ]
  },
  {
   "cell_type": "code",
   "execution_count": 25,
   "metadata": {},
   "outputs": [],
   "source": [
    "file_route = 'Accuracy_15/Transformer.csv'"
   ]
  },
  {
   "cell_type": "code",
   "execution_count": 26,
   "metadata": {},
   "outputs": [],
   "source": [
    "from csv import DictWriter\n",
    "\n",
    "with open(file_route, 'a', encoding='UTF8') as f_object:\n",
    "    \n",
    "    dictwriter_object = DictWriter(f_object, fieldnames=field_names)\n",
    "\n",
    "    dictwriter_object.writerow(new_row)\n",
    "  \n",
    "    f_object.close()"
   ]
  },
  {
   "cell_type": "code",
   "execution_count": 27,
   "metadata": {},
   "outputs": [
    {
     "data": {
      "text/html": [
       "<div>\n",
       "<style scoped>\n",
       "    .dataframe tbody tr th:only-of-type {\n",
       "        vertical-align: middle;\n",
       "    }\n",
       "\n",
       "    .dataframe tbody tr th {\n",
       "        vertical-align: top;\n",
       "    }\n",
       "\n",
       "    .dataframe thead th {\n",
       "        text-align: right;\n",
       "    }\n",
       "</style>\n",
       "<table border=\"1\" class=\"dataframe\">\n",
       "  <thead>\n",
       "    <tr style=\"text-align: right;\">\n",
       "      <th></th>\n",
       "      <th>MSE</th>\n",
       "      <th>MAE</th>\n",
       "      <th>MAPE</th>\n",
       "      <th>RMSE</th>\n",
       "    </tr>\n",
       "  </thead>\n",
       "  <tbody>\n",
       "    <tr>\n",
       "      <th>0</th>\n",
       "      <td>0.00119</td>\n",
       "      <td>0.02324</td>\n",
       "      <td>3.88638</td>\n",
       "      <td>0.03443</td>\n",
       "    </tr>\n",
       "    <tr>\n",
       "      <th>1</th>\n",
       "      <td>0.00119</td>\n",
       "      <td>0.02339</td>\n",
       "      <td>3.91854</td>\n",
       "      <td>0.03454</td>\n",
       "    </tr>\n",
       "    <tr>\n",
       "      <th>2</th>\n",
       "      <td>0.00118</td>\n",
       "      <td>0.02320</td>\n",
       "      <td>3.87767</td>\n",
       "      <td>0.03441</td>\n",
       "    </tr>\n",
       "    <tr>\n",
       "      <th>3</th>\n",
       "      <td>0.00118</td>\n",
       "      <td>0.02308</td>\n",
       "      <td>3.83615</td>\n",
       "      <td>0.03436</td>\n",
       "    </tr>\n",
       "  </tbody>\n",
       "</table>\n",
       "</div>"
      ],
      "text/plain": [
       "       MSE      MAE     MAPE     RMSE\n",
       "0  0.00119  0.02324  3.88638  0.03443\n",
       "1  0.00119  0.02339  3.91854  0.03454\n",
       "2  0.00118  0.02320  3.87767  0.03441\n",
       "3  0.00118  0.02308  3.83615  0.03436"
      ]
     },
     "execution_count": 27,
     "metadata": {},
     "output_type": "execute_result"
    }
   ],
   "source": [
    "accuracy_Transformer = pd.read_csv(file_route)\n",
    "accuracy_CNN_LSTM = pd.read_csv('Accuracy_15/CNN-LSTM.csv')\n",
    "accuracy_LSTM = pd.read_csv('Accuracy_15/LSTM.csv')\n",
    "accuracy_Transformer"
   ]
  },
  {
   "cell_type": "code",
   "execution_count": 28,
   "metadata": {},
   "outputs": [
    {
     "data": {
      "image/png": "[encoded data removed]",
      "text/plain": [
       "<Figure size 576x396 with 1 Axes>"
      ]
     },
     "metadata": {},
     "output_type": "display_data"
    }
   ],
   "source": [
    "plt.plot(accuracy_CNN_LSTM[\"MAPE\"], label = \"CNN-LSTM MAPE\")\n",
    "plt.plot(accuracy_Transformer[\"MAPE\"], label = \"Transformer MAPE\")\n",
    "plt.plot(accuracy_LSTM[\"MAPE\"], label = \"LSTM MAPE\")\n",
    "plt.legend()\n",
    "plt.show()"
   ]
  },
  {
   "cell_type": "code",
   "execution_count": 29,
   "metadata": {},
   "outputs": [
    {
     "data": {
      "text/plain": [
       "MSE     0.001185\n",
       "MAE     0.023228\n",
       "MAPE    3.879685\n",
       "RMSE    0.034435\n",
       "dtype: float64"
      ]
     },
     "execution_count": 29,
     "metadata": {},
     "output_type": "execute_result"
    }
   ],
   "source": [
    "average = accuracy_Transformer.mean()\n",
    "average"
   ]
  },
  {
   "cell_type": "markdown",
   "metadata": {},
   "source": [
    "## Other works"
   ]
  },
  {
   "cell_type": "code",
   "execution_count": 30,
   "metadata": {},
   "outputs": [
    {
     "ename": "NameError",
     "evalue": "name 'bbbbb' is not defined",
     "output_type": "error",
     "traceback": [
      "\u001b[1;31m---------------------------------------------------------------------------\u001b[0m",
      "\u001b[1;31mNameError\u001b[0m                                 Traceback (most recent call last)",
      "\u001b[1;32m~\\AppData\\Local\\Temp/ipykernel_25464/2780562473.py\u001b[0m in \u001b[0;36m<module>\u001b[1;34m\u001b[0m\n\u001b[1;32m----> 1\u001b[1;33m \u001b[0mprint\u001b[0m\u001b[1;33m(\u001b[0m\u001b[0mbbbbb\u001b[0m\u001b[1;33m)\u001b[0m\u001b[1;33m\u001b[0m\u001b[1;33m\u001b[0m\u001b[0m\n\u001b[0m",
      "\u001b[1;31mNameError\u001b[0m: name 'bbbbb' is not defined"
     ]
    }
   ],
   "source": [
    "print(bbbbb)"
   ]
  },
  {
   "cell_type": "code",
   "execution_count": null,
   "metadata": {},
   "outputs": [],
   "source": [
    "#################################################################################\n",
    "'''Calculate predictions and metrics'''\n",
    "#Calculate predication for training, validation and test data\n",
    "train_pred = model.predict(X_train)\n",
    "val_pred = model.predict(X_val)\n",
    "test_pred = model.predict(X_test)\n",
    "\n",
    "#Print evaluation metrics for all datasets\n",
    "train_eval = model.evaluate(X_train, y_train, verbose=0)\n",
    "val_eval = model.evaluate(X_val, y_val, verbose=0)\n",
    "test_eval = model.evaluate(X_test, y_test, verbose=0)\n",
    "print(' ')\n",
    "print('Evaluation metrics')\n",
    "print('Training Data - Loss: {:.4f}, MAE: {:.4f}, MAPE: {:.4f}'.format(train_eval[0], train_eval[1], train_eval[2]))\n",
    "print('Validation Data - Loss: {:.4f}, MAE: {:.4f}, MAPE: {:.4f}'.format(val_eval[0], val_eval[1], val_eval[2]))\n",
    "print('Test Data - Loss: {:.4f}, MAE: {:.4f}, MAPE: {:.4f}'.format(test_eval[0], test_eval[1], test_eval[2]))\n",
    "\n",
    "###############################################################################\n",
    "'''Display results'''\n",
    "\n",
    "fig = plt.figure(figsize=(15,20))\n",
    "st = fig.suptitle(\"Transformer + TimeEmbedding Model\", fontsize=22)\n",
    "st.set_y(0.92)\n",
    "\n",
    "#Plot training data results\n",
    "ax11 = fig.add_subplot(311)\n",
    "ax11.plot(train_data[:, 0], label='IBM Closing Returns')\n",
    "ax11.plot(np.arange(seq_len, train_pred.shape[0]+seq_len), train_pred, linewidth=3, label='Predicted IBM Closing Returns')\n",
    "ax11.set_title(\"Training Data\", fontsize=18)\n",
    "ax11.set_xlabel('Date')\n",
    "ax11.set_ylabel('IBM Closing Returns')\n",
    "ax11.legend(loc=\"best\", fontsize=12)\n",
    "\n",
    "#Plot validation data results\n",
    "ax21 = fig.add_subplot(312)\n",
    "ax21.plot(val_data[:, 0], label='IBM Closing Returns')\n",
    "ax21.plot(np.arange(seq_len, val_pred.shape[0]+seq_len), val_pred, linewidth=3, label='Predicted IBM Closing Returns')\n",
    "ax21.set_title(\"Validation Data\", fontsize=18)\n",
    "ax21.set_xlabel('Date')\n",
    "ax21.set_ylabel('IBM Closing Returns')\n",
    "ax21.legend(loc=\"best\", fontsize=12)\n",
    "\n",
    "#Plot test data results\n",
    "ax31 = fig.add_subplot(313)\n",
    "ax31.plot(test_data[:, 0], label='IBM Closing Returns')\n",
    "ax31.plot(np.arange(seq_len, test_pred.shape[0]+seq_len), test_pred, linewidth=3, label='Predicted IBM Closing Returns')\n",
    "ax31.set_title(\"Test Data\", fontsize=18)\n",
    "ax31.set_xlabel('Date')\n",
    "ax31.set_ylabel('IBM Closing Returns')\n",
    "ax31.legend(loc=\"best\", fontsize=12)"
   ]
  },
  {
   "cell_type": "code",
   "execution_count": null,
   "metadata": {},
   "outputs": [],
   "source": [
    "def stock_predict(model, df_close, days):\n",
    "    pred = model.predict(df_close)\n",
    "    pred = scaler_1.inverse_transform(pred)\n",
    "    return pred"
   ]
  },
  {
   "cell_type": "code",
   "execution_count": null,
   "metadata": {},
   "outputs": [],
   "source": [
    "stock_predict(model,X_train,5)"
   ]
  },
  {
   "cell_type": "code",
   "execution_count": null,
   "metadata": {},
   "outputs": [],
   "source": [
    "def stock_predict(model, df_close, scaler, days):\n",
    "    # model = keras.models.load_model(model_path)\n",
    "\n",
    "    train_size = int(len(df_close) * 0.8)\n",
    "    close_test = df_close[train_size : len(df_close)]\n",
    "\n",
    "    num_take = len(close_test) - 100\n",
    "    x_input = close_test[num_take:].reshape(1, -1)\n",
    "    temp_input = list(x_input)\n",
    "    temp_input = temp_input[0].tolist()\n",
    "\n",
    "    lst_output = []\n",
    "    n_steps = 100\n",
    "    i = 0\n",
    "    while i < 60:\n",
    "\n",
    "        if len(temp_input) > n_steps:\n",
    "            x_input = np.array(temp_input[1:])\n",
    "            x_input = x_input.reshape(1, -1)\n",
    "            x_input = x_input.reshape((1, n_steps, 1))\n",
    "            yhat = model.predict(x_input, verbose=0)\n",
    "            temp_input.extend(yhat[0].tolist())\n",
    "            temp_input = temp_input[1:]\n",
    "            lst_output.extend(yhat.tolist())\n",
    "            i = i + 1\n",
    "        else:\n",
    "            x_input = x_input.reshape((1, n_steps, 1))\n",
    "            yhat = model.predict(x_input, verbose=0)\n",
    "            temp_input.extend(yhat[0].tolist())\n",
    "            lst_output.extend(yhat.tolist())\n",
    "            i = i + 1\n",
    "\n",
    "    all_pred = scaler.inverse_transform(lst_output[:days])\n",
    "\n",
    "    return all_pred"
   ]
  },
  {
   "cell_type": "code",
   "execution_count": null,
   "metadata": {},
   "outputs": [],
   "source": [
    "df_new = df.reset_index()\n",
    "df_close = np.array(df_new['Close']).reshape(-1,1)\n",
    "stock_predict( model, df_close, scaler_1, 30)"
   ]
  },
  {
   "cell_type": "code",
   "execution_count": null,
   "metadata": {},
   "outputs": [],
   "source": [
    "def predict_price(model, prices, predicting_days=1):\n",
    "#     scaler_path = os.path.join(model_path, \"scaler.pkl\")\n",
    "#     with open(scaler_path, \"rb\") as f:\n",
    "#         scaler = pickle.load(f)\n",
    "    scaled_prices = scaler_2.transform(prices)\n",
    "    x_input = scaled_prices[-100:].T\n",
    "    print(x_input)\n",
    "\n",
    "#     model = keras.models.load_model(model_path)\n",
    "    y_predict = model.predict(x_input)\n",
    "    future = scaler_2.inverse_transform(y_predict).ravel()[0]\n",
    "    daily_prediction = (1 + future) ** (1 / predicting_days) - 1\n",
    "\n",
    "    prediction_series = [daily_prediction] * predicting_days\n",
    "    return np.array(prediction_series)"
   ]
  },
  {
   "cell_type": "code",
   "execution_count": null,
   "metadata": {},
   "outputs": [],
   "source": [
    "prediction = predict_price(model, prices, predicting_days=30)\n",
    "prediction"
   ]
  },
  {
   "cell_type": "code",
   "execution_count": null,
   "metadata": {},
   "outputs": [],
   "source": [
    "temp = (df['Close'] * (max_return - min_return))+ min_return\n",
    "temp"
   ]
  },
  {
   "cell_type": "code",
   "execution_count": null,
   "metadata": {},
   "outputs": [],
   "source": [
    "df['Close']"
   ]
  },
  {
   "cell_type": "code",
   "execution_count": null,
   "metadata": {},
   "outputs": [],
   "source": [
    "X_train"
   ]
  },
  {
   "cell_type": "code",
   "execution_count": null,
   "metadata": {},
   "outputs": [],
   "source": [
    "y_train"
   ]
  },
  {
   "cell_type": "code",
   "execution_count": null,
   "metadata": {},
   "outputs": [],
   "source": [
    "# model = tf.keras.models.load_model('/content/Transformer+TimeEmbedding.hdf5',\n",
    "#                                    custom_objects={'Time2Vector': Time2Vector, \n",
    "#                                                    'SingleAttention': SingleAttention,\n",
    "#                                                    'MultiAttention': MultiAttention,\n",
    "#                                                    'TransformerEncoder': TransformerEncoder}"
   ]
  },
  {
   "cell_type": "markdown",
   "metadata": {
    "id": "QiCB_z-iCMMr"
   },
   "source": [
    "## Model metrics"
   ]
  },
  {
   "cell_type": "code",
   "execution_count": null,
   "metadata": {
    "colab": {
     "base_uri": "https://localhost:8080/",
     "height": 1000
    },
    "id": "maSSTkJPCOE8",
    "outputId": "5a802a5b-bfc7-47c0-987a-8fca1ab84226"
   },
   "outputs": [],
   "source": [
    "'''Display model metrics'''\n",
    "\n",
    "fig = plt.figure(figsize=(15,20))\n",
    "st = fig.suptitle(\"Transformer + TimeEmbedding Model Metrics\", fontsize=22)\n",
    "st.set_y(0.92)\n",
    "\n",
    "#Plot model loss\n",
    "ax1 = fig.add_subplot(311)\n",
    "ax1.plot(history.history['loss'], label='Training loss (MSE)')\n",
    "ax1.plot(model.history['val_loss'], label='Validation loss (MSE)')\n",
    "ax1.set_title(\"Model loss\", fontsize=18)\n",
    "ax1.set_xlabel('Epoch')\n",
    "ax1.set_ylabel('Loss (MSE)')\n",
    "ax1.legend(loc=\"best\", fontsize=12)\n",
    "\n",
    "#Plot MAE\n",
    "ax2 = fig.add_subplot(312)\n",
    "ax2.plot(history.history['mae'], label='Training MAE')\n",
    "ax2.plot(history.history['val_mae'], label='Validation MAE')\n",
    "ax2.set_title(\"Model metric - Mean average error (MAE)\", fontsize=18)\n",
    "ax2.set_xlabel('Epoch')\n",
    "ax2.set_ylabel('Mean average error (MAE)')\n",
    "ax2.legend(loc=\"best\", fontsize=12)\n",
    "\n",
    "#Plot MAPE\n",
    "ax3 = fig.add_subplot(313)\n",
    "ax3.plot(history.history['mape'], label='Training MAPE')\n",
    "ax3.plot(history.history['val_mape'], label='Validation MAPE')\n",
    "ax3.set_title(\"Model metric - Mean average percentage error (MAPE)\", fontsize=18)\n",
    "ax3.set_xlabel('Epoch')\n",
    "ax3.set_ylabel('Mean average percentage error (MAPE)')\n",
    "ax3.legend(loc=\"best\", fontsize=12)"
   ]
  },
  {
   "cell_type": "markdown",
   "metadata": {
    "id": "5cvzV1ArCOwK"
   },
   "source": [
    "## Model architecture overview"
   ]
  },
  {
   "cell_type": "code",
   "execution_count": null,
   "metadata": {
    "colab": {
     "base_uri": "https://localhost:8080/",
     "height": 1000
    },
    "id": "7b--iZiKCO5l",
    "outputId": "fa273886-666a-4ead-8d9e-e12083d4907b"
   },
   "outputs": [],
   "source": [
    "tf.keras.utils.plot_model(\n",
    "    model,\n",
    "    to_file=\"IBM_Transformer+TimeEmbedding.png\",\n",
    "    show_shapes=True,\n",
    "    show_layer_names=True,\n",
    "    expand_nested=True,\n",
    "    dpi=96,)"
   ]
  }
 ],
 "metadata": {
  "colab": {
   "collapsed_sections": [],
   "name": "IBM_Transformer+TimeEmbedding_Github.ipynb",
   "provenance": []
  },
  "kernelspec": {
   "display_name": "Python 3 (ipykernel)",
   "language": "python",
   "name": "python3"
  },
  "language_info": {
   "codemirror_mode": {
    "name": "ipython",
    "version": 3
   },
   "file_extension": ".py",
   "mimetype": "text/x-python",
   "name": "python",
   "nbconvert_exporter": "python",
   "pygments_lexer": "ipython3",
   "version": "3.9.6"
  }
 },
 "nbformat": 4,
 "nbformat_minor": 1
}
