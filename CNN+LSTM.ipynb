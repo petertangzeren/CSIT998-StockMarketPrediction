{
 "cells": [
  {
   "cell_type": "code",
   "execution_count": 1,
   "metadata": {
    "colab": {
     "base_uri": "https://localhost:8080/"
    },
    "id": "i6zxz6xZyWb2",
    "outputId": "d80a4b3f-7fb0-4e51-bfa6-879b0b1edefc"
   },
   "outputs": [
    {
     "name": "stdout",
     "output_type": "stream",
     "text": [
      "Tensorflow version: 2.8.0\n"
     ]
    }
   ],
   "source": [
    "import numpy as np\n",
    "import pandas as pd\n",
    "import yfinance as yf\n",
    "import csv  \n",
    "import time\n",
    "import os, datetime\n",
    "os.environ[\"CUDA_DEVICE_ORDER\"] = \"PCI_BUS_ID\"\n",
    "os.environ[\"CUDA_VISIBLE_DEVICES\"] = \"0\"\n",
    "# os.environ[\"KMP_DUPLICATE_LIB_OK\"]=\"TRUE\"\n",
    "import tensorflow as tf\n",
    "import pandas_datareader as pdr\n",
    "from sklearn.preprocessing import MinMaxScaler\n",
    "from tensorflow.keras.models import *\n",
    "from tensorflow.keras.layers import *\n",
    "print('Tensorflow version: {}'.format(tf.__version__))\n",
    "\n",
    "import matplotlib.pyplot as plt\n",
    "plt.style.use('seaborn')\n",
    "\n",
    "import warnings\n",
    "warnings.filterwarnings('ignore')\n"
   ]
  },
  {
   "cell_type": "markdown",
   "metadata": {
    "id": "ykFSM9LT54LR"
   },
   "source": [
    "## Hyperparameters"
   ]
  },
  {
   "cell_type": "code",
   "execution_count": 2,
   "metadata": {
    "id": "Acgb31zy5lcD"
   },
   "outputs": [],
   "source": [
    "batch_size = 64\n",
    "seq_len = 128\n",
    "\n",
    "d_k = 256\n",
    "d_v = 256\n",
    "n_heads = 12\n",
    "ff_dim = 256"
   ]
  },
  {
   "cell_type": "markdown",
   "metadata": {
    "id": "HnPzNUPK50Ki"
   },
   "source": [
    "## Load Microsoft data"
   ]
  },
  {
   "cell_type": "code",
   "execution_count": 3,
   "metadata": {},
   "outputs": [
    {
     "data": {
      "text/plain": [
       "0         0.061252\n",
       "1         0.063439\n",
       "2         0.064533\n",
       "3         0.062892\n",
       "4         0.061799\n",
       "           ...    \n",
       "9098    280.519989\n",
       "9099    285.299988\n",
       "9100    286.359985\n",
       "9101    280.809998\n",
       "9102    276.019989\n",
       "Name: Close, Length: 9103, dtype: float64"
      ]
     },
     "execution_count": 3,
     "metadata": {},
     "output_type": "execute_result"
    }
   ],
   "source": [
    "# df = pdr.get_data_tiingo(\"MSFT\", api_key=\"aeeaa9dbc8f82f2c361abaa259050d75e736b424\")\n",
    "\n",
    "ticker = yf.Ticker(\"MSFT\")\n",
    "df = ticker.history(period=\"max\")\n",
    "\n",
    "\n",
    "df.to_csv(\"MSFT.csv\")\n",
    "df = pd.read_csv(\"MSFT.csv\", delimiter=',', usecols=['Date', 'Close'])\n",
    "df.sort_values('Date', inplace=True)\n",
    "price_history = df\n",
    "df = df[\"Close\"]\n",
    "prices = price_history[[\"Close\"]].pct_change().dropna()\n",
    "\n",
    "df"
   ]
  },
  {
   "cell_type": "code",
   "execution_count": 4,
   "metadata": {},
   "outputs": [
    {
     "data": {
      "text/html": [
       "<div>\n",
       "<style scoped>\n",
       "    .dataframe tbody tr th:only-of-type {\n",
       "        vertical-align: middle;\n",
       "    }\n",
       "\n",
       "    .dataframe tbody tr th {\n",
       "        vertical-align: top;\n",
       "    }\n",
       "\n",
       "    .dataframe thead th {\n",
       "        text-align: right;\n",
       "    }\n",
       "</style>\n",
       "<table border=\"1\" class=\"dataframe\">\n",
       "  <thead>\n",
       "    <tr style=\"text-align: right;\">\n",
       "      <th></th>\n",
       "      <th>Close</th>\n",
       "    </tr>\n",
       "  </thead>\n",
       "  <tbody>\n",
       "    <tr>\n",
       "      <th>1</th>\n",
       "      <td>0.035712</td>\n",
       "    </tr>\n",
       "    <tr>\n",
       "      <th>2</th>\n",
       "      <td>0.017250</td>\n",
       "    </tr>\n",
       "    <tr>\n",
       "      <th>3</th>\n",
       "      <td>-0.025431</td>\n",
       "    </tr>\n",
       "    <tr>\n",
       "      <th>4</th>\n",
       "      <td>-0.017390</td>\n",
       "    </tr>\n",
       "    <tr>\n",
       "      <th>5</th>\n",
       "      <td>-0.026548</td>\n",
       "    </tr>\n",
       "    <tr>\n",
       "      <th>...</th>\n",
       "      <td>...</td>\n",
       "    </tr>\n",
       "    <tr>\n",
       "      <th>9098</th>\n",
       "      <td>0.002466</td>\n",
       "    </tr>\n",
       "    <tr>\n",
       "      <th>9099</th>\n",
       "      <td>0.017040</td>\n",
       "    </tr>\n",
       "    <tr>\n",
       "      <th>9100</th>\n",
       "      <td>0.003715</td>\n",
       "    </tr>\n",
       "    <tr>\n",
       "      <th>9101</th>\n",
       "      <td>-0.019381</td>\n",
       "    </tr>\n",
       "    <tr>\n",
       "      <th>9102</th>\n",
       "      <td>-0.017058</td>\n",
       "    </tr>\n",
       "  </tbody>\n",
       "</table>\n",
       "<p>9102 rows × 1 columns</p>\n",
       "</div>"
      ],
      "text/plain": [
       "         Close\n",
       "1     0.035712\n",
       "2     0.017250\n",
       "3    -0.025431\n",
       "4    -0.017390\n",
       "5    -0.026548\n",
       "...        ...\n",
       "9098  0.002466\n",
       "9099  0.017040\n",
       "9100  0.003715\n",
       "9101 -0.019381\n",
       "9102 -0.017058\n",
       "\n",
       "[9102 rows x 1 columns]"
      ]
     },
     "execution_count": 4,
     "metadata": {},
     "output_type": "execute_result"
    }
   ],
   "source": [
    "prices"
   ]
  },
  {
   "cell_type": "markdown",
   "metadata": {
    "id": "fTS3Cm2H6GBz"
   },
   "source": [
    "## Calculate normalized percentage change of all columns"
   ]
  },
  {
   "cell_type": "code",
   "execution_count": 6,
   "metadata": {},
   "outputs": [],
   "source": [
    "\n",
    "'''Create indexes to split dataset'''\n",
    "\n",
    "times = sorted(df.index.values)\n",
    "last_10pct = sorted(df.index.values)[-int(0.1*len(times))] # Last 10% of series\n",
    "last_20pct = sorted(df.index.values)[-int(0.2*len(times))] # Last 20% of series\n",
    "last_30pct = sorted(df.index.values)[-int(0.3*len(times))] # Last 30% of series\n",
    "\n"
   ]
  },
  {
   "cell_type": "code",
   "execution_count": 7,
   "metadata": {},
   "outputs": [
    {
     "data": {
      "text/plain": [
       "array([[1.27789993e-05],\n",
       "       [1.91685588e-05],\n",
       "       [2.23651177e-05],\n",
       "       ...,\n",
       "       [8.36299636e-01],\n",
       "       [8.20087961e-01],\n",
       "       [8.06096208e-01]])"
      ]
     },
     "execution_count": 7,
     "metadata": {},
     "output_type": "execute_result"
    }
   ],
   "source": [
    "# Min-max normalize price columns (0-1 range)\n",
    "# df_temp = df[['Open','High','Low','Close']]\n",
    "scaler_1 = MinMaxScaler(feature_range=(0, 1))\n",
    "df = scaler_1.fit_transform(np.array(df).reshape(-1,1))\n",
    "df"
   ]
  },
  {
   "cell_type": "code",
   "execution_count": 8,
   "metadata": {},
   "outputs": [
    {
     "data": {
      "text/plain": [
       "array([[0.67806707],\n",
       "       [0.64090564],\n",
       "       [0.55499505],\n",
       "       ...,\n",
       "       [0.61366259],\n",
       "       [0.567173  ],\n",
       "       [0.57184948]])"
      ]
     },
     "execution_count": 8,
     "metadata": {},
     "output_type": "execute_result"
    }
   ],
   "source": [
    "scaler_2 = MinMaxScaler()\n",
    "df_prices = scaler_2.fit_transform(prices)\n",
    "df_prices"
   ]
  },
  {
   "cell_type": "code",
   "execution_count": 9,
   "metadata": {},
   "outputs": [
    {
     "data": {
      "text/html": [
       "<div>\n",
       "<style scoped>\n",
       "    .dataframe tbody tr th:only-of-type {\n",
       "        vertical-align: middle;\n",
       "    }\n",
       "\n",
       "    .dataframe tbody tr th {\n",
       "        vertical-align: top;\n",
       "    }\n",
       "\n",
       "    .dataframe thead th {\n",
       "        text-align: right;\n",
       "    }\n",
       "</style>\n",
       "<table border=\"1\" class=\"dataframe\">\n",
       "  <thead>\n",
       "    <tr style=\"text-align: right;\">\n",
       "      <th></th>\n",
       "      <th>Close</th>\n",
       "    </tr>\n",
       "  </thead>\n",
       "  <tbody>\n",
       "    <tr>\n",
       "      <th>0</th>\n",
       "      <td>0.000013</td>\n",
       "    </tr>\n",
       "    <tr>\n",
       "      <th>1</th>\n",
       "      <td>0.000019</td>\n",
       "    </tr>\n",
       "    <tr>\n",
       "      <th>2</th>\n",
       "      <td>0.000022</td>\n",
       "    </tr>\n",
       "    <tr>\n",
       "      <th>3</th>\n",
       "      <td>0.000018</td>\n",
       "    </tr>\n",
       "    <tr>\n",
       "      <th>4</th>\n",
       "      <td>0.000014</td>\n",
       "    </tr>\n",
       "    <tr>\n",
       "      <th>...</th>\n",
       "      <td>...</td>\n",
       "    </tr>\n",
       "    <tr>\n",
       "      <th>9098</th>\n",
       "      <td>0.819241</td>\n",
       "    </tr>\n",
       "    <tr>\n",
       "      <th>9099</th>\n",
       "      <td>0.833203</td>\n",
       "    </tr>\n",
       "    <tr>\n",
       "      <th>9100</th>\n",
       "      <td>0.836300</td>\n",
       "    </tr>\n",
       "    <tr>\n",
       "      <th>9101</th>\n",
       "      <td>0.820088</td>\n",
       "    </tr>\n",
       "    <tr>\n",
       "      <th>9102</th>\n",
       "      <td>0.806096</td>\n",
       "    </tr>\n",
       "  </tbody>\n",
       "</table>\n",
       "<p>9102 rows × 1 columns</p>\n",
       "</div>"
      ],
      "text/plain": [
       "         Close\n",
       "0     0.000013\n",
       "1     0.000019\n",
       "2     0.000022\n",
       "3     0.000018\n",
       "4     0.000014\n",
       "...        ...\n",
       "9098  0.819241\n",
       "9099  0.833203\n",
       "9100  0.836300\n",
       "9101  0.820088\n",
       "9102  0.806096\n",
       "\n",
       "[9102 rows x 1 columns]"
      ]
     },
     "execution_count": 9,
     "metadata": {},
     "output_type": "execute_result"
    }
   ],
   "source": [
    "df = pd.DataFrame(df,columns=['Close'])\n",
    "# scaler_2 = MinMaxScaler(feature_range=(0, 1))\n",
    "# df['Volume'] = scaler_1.fit_transform(np.array(df['Volume']).reshape(-1, 1))\n",
    "df.replace(0, np.nan, inplace=True)\n",
    "df.dropna(how='any', axis=0, inplace=True)\n",
    "# df.reset_index(inplace=True)\n",
    "df"
   ]
  },
  {
   "cell_type": "code",
   "execution_count": 10,
   "metadata": {},
   "outputs": [
    {
     "data": {
      "text/html": [
       "<div>\n",
       "<style scoped>\n",
       "    .dataframe tbody tr th:only-of-type {\n",
       "        vertical-align: middle;\n",
       "    }\n",
       "\n",
       "    .dataframe tbody tr th {\n",
       "        vertical-align: top;\n",
       "    }\n",
       "\n",
       "    .dataframe thead th {\n",
       "        text-align: right;\n",
       "    }\n",
       "</style>\n",
       "<table border=\"1\" class=\"dataframe\">\n",
       "  <thead>\n",
       "    <tr style=\"text-align: right;\">\n",
       "      <th></th>\n",
       "      <th>Close</th>\n",
       "    </tr>\n",
       "  </thead>\n",
       "  <tbody>\n",
       "    <tr>\n",
       "      <th>0</th>\n",
       "      <td>0.678067</td>\n",
       "    </tr>\n",
       "    <tr>\n",
       "      <th>1</th>\n",
       "      <td>0.640906</td>\n",
       "    </tr>\n",
       "    <tr>\n",
       "      <th>2</th>\n",
       "      <td>0.554995</td>\n",
       "    </tr>\n",
       "    <tr>\n",
       "      <th>3</th>\n",
       "      <td>0.571180</td>\n",
       "    </tr>\n",
       "    <tr>\n",
       "      <th>4</th>\n",
       "      <td>0.552748</td>\n",
       "    </tr>\n",
       "    <tr>\n",
       "      <th>...</th>\n",
       "      <td>...</td>\n",
       "    </tr>\n",
       "    <tr>\n",
       "      <th>9097</th>\n",
       "      <td>0.611147</td>\n",
       "    </tr>\n",
       "    <tr>\n",
       "      <th>9098</th>\n",
       "      <td>0.640482</td>\n",
       "    </tr>\n",
       "    <tr>\n",
       "      <th>9099</th>\n",
       "      <td>0.613663</td>\n",
       "    </tr>\n",
       "    <tr>\n",
       "      <th>9100</th>\n",
       "      <td>0.567173</td>\n",
       "    </tr>\n",
       "    <tr>\n",
       "      <th>9101</th>\n",
       "      <td>0.571849</td>\n",
       "    </tr>\n",
       "  </tbody>\n",
       "</table>\n",
       "<p>9102 rows × 1 columns</p>\n",
       "</div>"
      ],
      "text/plain": [
       "         Close\n",
       "0     0.678067\n",
       "1     0.640906\n",
       "2     0.554995\n",
       "3     0.571180\n",
       "4     0.552748\n",
       "...        ...\n",
       "9097  0.611147\n",
       "9098  0.640482\n",
       "9099  0.613663\n",
       "9100  0.567173\n",
       "9101  0.571849\n",
       "\n",
       "[9102 rows x 1 columns]"
      ]
     },
     "execution_count": 10,
     "metadata": {},
     "output_type": "execute_result"
    }
   ],
   "source": [
    "df = pd.DataFrame(df_prices,columns=['Close'])\n",
    "df"
   ]
  },
  {
   "cell_type": "code",
   "execution_count": 11,
   "metadata": {
    "colab": {
     "base_uri": "https://localhost:8080/",
     "height": 255
    },
    "id": "i7_Uju9B5lqY",
    "outputId": "e56a1ca3-9c69-4ea4-ce2b-e1411c64452a"
   },
   "outputs": [
    {
     "name": "stdout",
     "output_type": "stream",
     "text": [
      "Training data shape: (6373, 1)\n",
      "Validation data shape: (910, 1)\n",
      "Test data shape: (1819, 1)\n"
     ]
    },
    {
     "data": {
      "text/html": [
       "<div>\n",
       "<style scoped>\n",
       "    .dataframe tbody tr th:only-of-type {\n",
       "        vertical-align: middle;\n",
       "    }\n",
       "\n",
       "    .dataframe tbody tr th {\n",
       "        vertical-align: top;\n",
       "    }\n",
       "\n",
       "    .dataframe thead th {\n",
       "        text-align: right;\n",
       "    }\n",
       "</style>\n",
       "<table border=\"1\" class=\"dataframe\">\n",
       "  <thead>\n",
       "    <tr style=\"text-align: right;\">\n",
       "      <th></th>\n",
       "      <th>Close</th>\n",
       "    </tr>\n",
       "  </thead>\n",
       "  <tbody>\n",
       "    <tr>\n",
       "      <th>0</th>\n",
       "      <td>0.678067</td>\n",
       "    </tr>\n",
       "    <tr>\n",
       "      <th>1</th>\n",
       "      <td>0.640906</td>\n",
       "    </tr>\n",
       "    <tr>\n",
       "      <th>2</th>\n",
       "      <td>0.554995</td>\n",
       "    </tr>\n",
       "    <tr>\n",
       "      <th>3</th>\n",
       "      <td>0.571180</td>\n",
       "    </tr>\n",
       "    <tr>\n",
       "      <th>4</th>\n",
       "      <td>0.552748</td>\n",
       "    </tr>\n",
       "  </tbody>\n",
       "</table>\n",
       "</div>"
      ],
      "text/plain": [
       "      Close\n",
       "0  0.678067\n",
       "1  0.640906\n",
       "2  0.554995\n",
       "3  0.571180\n",
       "4  0.552748"
      ]
     },
     "execution_count": 11,
     "metadata": {},
     "output_type": "execute_result"
    }
   ],
   "source": [
    "'''Create training, validation and test split'''\n",
    "\n",
    "df_train = df[(df.index < last_30pct)]  # Training data are 70% of total data\n",
    "df_val = df[(df.index >= last_30pct) & (df.index < last_20pct)]\n",
    "df_test = df[(df.index >= last_20pct)]\n",
    "\n",
    "# Convert pandas columns into arrays\n",
    "train_data = df_train.values\n",
    "val_data = df_val.values\n",
    "test_data = df_test.values\n",
    "print('Training data shape: {}'.format(train_data.shape))\n",
    "print('Validation data shape: {}'.format(val_data.shape))\n",
    "print('Test data shape: {}'.format(test_data.shape))\n",
    "\n",
    "df_train.head()"
   ]
  },
  {
   "cell_type": "markdown",
   "metadata": {
    "id": "diGgUw_f6fAI"
   },
   "source": [
    "## Plot daily changes of close prices and volume"
   ]
  },
  {
   "cell_type": "code",
   "execution_count": 12,
   "metadata": {
    "colab": {
     "base_uri": "https://localhost:8080/",
     "height": 792
    },
    "id": "MJCti1mt5lnL",
    "outputId": "810c6464-dc15-46a7-e45d-496b3a7e3b6e"
   },
   "outputs": [
    {
     "data": {
      "text/plain": [
       "<matplotlib.legend.Legend at 0x26d12114a90>"
      ]
     },
     "execution_count": 12,
     "metadata": {},
     "output_type": "execute_result"
    },
    {
     "data": {
      "image/png": "[encoded data removed]",
      "text/plain": [
       "<Figure size 1080x864 with 1 Axes>"
      ]
     },
     "metadata": {},
     "output_type": "display_data"
    }
   ],
   "source": [
    "fig = plt.figure(figsize=(15,12))\n",
    "st = fig.suptitle(\"Data Separation\", fontsize=20)\n",
    "st.set_y(0.95)\n",
    "\n",
    "ax1 = fig.add_subplot(211)\n",
    "ax1.plot(np.arange(train_data.shape[0]), df_train, label='Training data')\n",
    "\n",
    "ax1.plot(np.arange(train_data.shape[0], \n",
    "                   train_data.shape[0]+val_data.shape[0]), df_val, label='Validation data')\n",
    "\n",
    "ax1.plot(np.arange(train_data.shape[0]+val_data.shape[0], \n",
    "                   train_data.shape[0]+val_data.shape[0]+test_data.shape[0]), df_test, label='Test data')\n",
    "ax1.set_xlabel('Date')\n",
    "ax1.set_ylabel('Normalized Closing Returns')\n",
    "ax1.set_title(\"Close Price\", fontsize=18)\n",
    "ax1.legend(loc=\"best\", fontsize=12)"
   ]
  },
  {
   "cell_type": "code",
   "execution_count": 13,
   "metadata": {},
   "outputs": [],
   "source": [
    "def separate_data(dataset, time_step=1, predicting_steps_after=1):\n",
    "    dataset = dataset.ravel()\n",
    "    dataX, dataY = [], []\n",
    "    for i in range(len(dataset) - time_step - predicting_steps_after + 1):\n",
    "        a = dataset[i : (i + time_step)]\n",
    "        dataX.append(a)\n",
    "        dataY.append(dataset[i + time_step + predicting_steps_after - 1])\n",
    "    return np.array(dataX), np.array(dataY)"
   ]
  },
  {
   "cell_type": "markdown",
   "metadata": {
    "id": "K-9JDha_6l3L"
   },
   "source": [
    "## Create chunks of training, validation and test data"
   ]
  },
  {
   "cell_type": "code",
   "execution_count": 14,
   "metadata": {
    "colab": {
     "base_uri": "https://localhost:8080/",
     "height": 68
    },
    "id": "Ib8wOc-_5llL",
    "outputId": "74d3495e-68d3-441d-b050-ec8f134cf888"
   },
   "outputs": [
    {
     "name": "stdout",
     "output_type": "stream",
     "text": [
      "Training set shape (6231, 128) (6231,)\n",
      "Validation set shape (768, 128) (768,)\n",
      "Testing set shape (1677, 128) (1677,)\n"
     ]
    }
   ],
   "source": [
    "# Training data\n",
    "shift_num = 15\n",
    "\n",
    "\n",
    "X_train, y_train = separate_data(train_data, seq_len, shift_num)\n",
    "X_val, y_val = separate_data(val_data, seq_len, shift_num)\n",
    "X_test, y_test = separate_data(test_data, seq_len, shift_num)\n",
    "\n",
    "\n",
    "print('Training set shape', X_train.shape, y_train.shape)\n",
    "print('Validation set shape', X_val.shape, y_val.shape)\n",
    "print('Testing set shape', X_test.shape, y_test.shape)"
   ]
  },
  {
   "cell_type": "code",
   "execution_count": 15,
   "metadata": {},
   "outputs": [
    {
     "data": {
      "text/plain": [
       "0.6061841324001406"
      ]
     },
     "execution_count": 15,
     "metadata": {},
     "output_type": "execute_result"
    }
   ],
   "source": [
    "train_data[:,0][seq_len]"
   ]
  },
  {
   "cell_type": "code",
   "execution_count": 16,
   "metadata": {},
   "outputs": [
    {
     "data": {
      "text/plain": [
       "array([0.76650826, 0.64742775, 0.6627671 , ..., 0.62822905, 0.62799103,\n",
       "       0.62360651])"
      ]
     },
     "execution_count": 16,
     "metadata": {},
     "output_type": "execute_result"
    }
   ],
   "source": [
    "y_train"
   ]
  },
  {
   "cell_type": "code",
   "execution_count": 17,
   "metadata": {},
   "outputs": [],
   "source": [
    "X_train = X_train.reshape(X_train.shape[0], X_train.shape[1], 1)\n",
    "X_test = X_test.reshape(X_test.shape[0], X_test.shape[1], 1)\n",
    "X_val = X_val.reshape(X_val.shape[0], X_val.shape[1], 1)"
   ]
  },
  {
   "cell_type": "code",
   "execution_count": 18,
   "metadata": {},
   "outputs": [
    {
     "name": "stdout",
     "output_type": "stream",
     "text": [
      "1 Physical GPUs, 1 Logical GPUs\n"
     ]
    }
   ],
   "source": [
    "gpus = tf.config.experimental.list_physical_devices('GPU')\n",
    "if gpus:\n",
    "  try:\n",
    "    # Currently, memory growth needs to be the same across GPUs\n",
    "    for gpu in gpus:\n",
    "      tf.config.experimental.set_memory_growth(gpu, True)\n",
    "    logical_gpus = tf.config.experimental.list_logical_devices('GPU')\n",
    "    print(len(gpus), \"Physical GPUs,\", len(logical_gpus), \"Logical GPUs\")\n",
    "  except RuntimeError as e:\n",
    "    # Memory growth must be set before GPUs have been initialized\n",
    "    print(e)"
   ]
  },
  {
   "cell_type": "markdown",
   "metadata": {
    "id": "OtBanXmQB4jF"
   },
   "source": [
    "## Model"
   ]
  },
  {
   "cell_type": "code",
   "execution_count": 19,
   "metadata": {},
   "outputs": [
    {
     "name": "stdout",
     "output_type": "stream",
     "text": [
      "Model: \"sequential\"\n",
      "_________________________________________________________________\n",
      " Layer (type)                Output Shape              Param #   \n",
      "=================================================================\n",
      " lstm (LSTM)                 (None, 128, 50)           10400     \n",
      "                                                                 \n",
      " conv1d (Conv1D)             (None, 126, 50)           7550      \n",
      "                                                                 \n",
      " max_pooling1d (MaxPooling1D  (None, 63, 50)           0         \n",
      " )                                                               \n",
      "                                                                 \n",
      " dense (Dense)               (None, 63, 1)             51        \n",
      "                                                                 \n",
      "=================================================================\n",
      "Total params: 18,001\n",
      "Trainable params: 18,001\n",
      "Non-trainable params: 0\n",
      "_________________________________________________________________\n",
      "None\n",
      "Epoch 1/50\n",
      "98/98 - 5s - loss: 0.0231 - val_loss: 0.0019 - 5s/epoch - 55ms/step\n",
      "Epoch 2/50\n",
      "98/98 - 1s - loss: 0.0031 - val_loss: 0.0014 - 773ms/epoch - 8ms/step\n",
      "Epoch 3/50\n",
      "98/98 - 1s - loss: 0.0028 - val_loss: 0.0012 - 781ms/epoch - 8ms/step\n",
      "Epoch 4/50\n",
      "98/98 - 1s - loss: 0.0026 - val_loss: 0.0011 - 782ms/epoch - 8ms/step\n",
      "Epoch 5/50\n",
      "98/98 - 1s - loss: 0.0025 - val_loss: 0.0010 - 785ms/epoch - 8ms/step\n",
      "Epoch 6/50\n",
      "98/98 - 1s - loss: 0.0025 - val_loss: 0.0010 - 795ms/epoch - 8ms/step\n",
      "Epoch 7/50\n",
      "98/98 - 1s - loss: 0.0024 - val_loss: 9.1668e-04 - 793ms/epoch - 8ms/step\n",
      "Epoch 8/50\n",
      "98/98 - 1s - loss: 0.0024 - val_loss: 8.9463e-04 - 775ms/epoch - 8ms/step\n",
      "Epoch 9/50\n",
      "98/98 - 1s - loss: 0.0024 - val_loss: 0.0010 - 775ms/epoch - 8ms/step\n",
      "Epoch 10/50\n",
      "98/98 - 1s - loss: 0.0024 - val_loss: 8.6954e-04 - 796ms/epoch - 8ms/step\n",
      "Epoch 11/50\n",
      "98/98 - 1s - loss: 0.0024 - val_loss: 9.4938e-04 - 760ms/epoch - 8ms/step\n",
      "Epoch 12/50\n",
      "98/98 - 1s - loss: 0.0024 - val_loss: 8.5765e-04 - 776ms/epoch - 8ms/step\n",
      "Epoch 13/50\n",
      "98/98 - 1s - loss: 0.0024 - val_loss: 8.8370e-04 - 792ms/epoch - 8ms/step\n",
      "Epoch 14/50\n",
      "98/98 - 1s - loss: 0.0023 - val_loss: 8.8172e-04 - 758ms/epoch - 8ms/step\n",
      "Epoch 15/50\n",
      "98/98 - 1s - loss: 0.0023 - val_loss: 8.4374e-04 - 776ms/epoch - 8ms/step\n",
      "Epoch 16/50\n",
      "98/98 - 1s - loss: 0.0023 - val_loss: 8.4306e-04 - 770ms/epoch - 8ms/step\n",
      "Epoch 17/50\n",
      "98/98 - 1s - loss: 0.0023 - val_loss: 0.0010 - 775ms/epoch - 8ms/step\n",
      "Epoch 18/50\n",
      "98/98 - 1s - loss: 0.0023 - val_loss: 8.3903e-04 - 772ms/epoch - 8ms/step\n",
      "Epoch 19/50\n",
      "98/98 - 1s - loss: 0.0023 - val_loss: 0.0011 - 784ms/epoch - 8ms/step\n",
      "Epoch 20/50\n",
      "98/98 - 1s - loss: 0.0023 - val_loss: 8.9377e-04 - 782ms/epoch - 8ms/step\n",
      "Epoch 21/50\n",
      "98/98 - 1s - loss: 0.0022 - val_loss: 9.5988e-04 - 774ms/epoch - 8ms/step\n",
      "Epoch 22/50\n",
      "98/98 - 1s - loss: 0.0023 - val_loss: 8.6715e-04 - 769ms/epoch - 8ms/step\n",
      "Epoch 23/50\n",
      "98/98 - 1s - loss: 0.0024 - val_loss: 8.5699e-04 - 784ms/epoch - 8ms/step\n",
      "Epoch 24/50\n",
      "98/98 - 1s - loss: 0.0023 - val_loss: 0.0011 - 786ms/epoch - 8ms/step\n",
      "Epoch 25/50\n",
      "98/98 - 1s - loss: 0.0023 - val_loss: 8.7660e-04 - 779ms/epoch - 8ms/step\n",
      "Epoch 26/50\n",
      "98/98 - 1s - loss: 0.0022 - val_loss: 8.3619e-04 - 909ms/epoch - 9ms/step\n",
      "Epoch 27/50\n",
      "98/98 - 1s - loss: 0.0023 - val_loss: 8.2633e-04 - 843ms/epoch - 9ms/step\n",
      "Epoch 28/50\n",
      "98/98 - 1s - loss: 0.0023 - val_loss: 8.3224e-04 - 790ms/epoch - 8ms/step\n",
      "Epoch 29/50\n",
      "98/98 - 1s - loss: 0.0022 - val_loss: 8.6558e-04 - 782ms/epoch - 8ms/step\n",
      "Epoch 30/50\n",
      "98/98 - 1s - loss: 0.0023 - val_loss: 8.7396e-04 - 778ms/epoch - 8ms/step\n",
      "Epoch 31/50\n",
      "98/98 - 1s - loss: 0.0022 - val_loss: 8.3167e-04 - 762ms/epoch - 8ms/step\n",
      "Epoch 32/50\n",
      "98/98 - 1s - loss: 0.0022 - val_loss: 8.6702e-04 - 785ms/epoch - 8ms/step\n",
      "Epoch 33/50\n",
      "98/98 - 1s - loss: 0.0022 - val_loss: 8.2540e-04 - 774ms/epoch - 8ms/step\n",
      "Epoch 34/50\n",
      "98/98 - 1s - loss: 0.0022 - val_loss: 8.6747e-04 - 783ms/epoch - 8ms/step\n",
      "Epoch 35/50\n",
      "98/98 - 1s - loss: 0.0022 - val_loss: 8.2887e-04 - 789ms/epoch - 8ms/step\n",
      "Epoch 36/50\n",
      "98/98 - 1s - loss: 0.0022 - val_loss: 0.0010 - 776ms/epoch - 8ms/step\n",
      "Epoch 37/50\n",
      "98/98 - 1s - loss: 0.0023 - val_loss: 9.2279e-04 - 772ms/epoch - 8ms/step\n",
      "Epoch 38/50\n",
      "98/98 - 1s - loss: 0.0022 - val_loss: 8.1595e-04 - 781ms/epoch - 8ms/step\n",
      "Epoch 39/50\n",
      "98/98 - 1s - loss: 0.0023 - val_loss: 8.7839e-04 - 760ms/epoch - 8ms/step\n",
      "Epoch 40/50\n",
      "98/98 - 1s - loss: 0.0022 - val_loss: 0.0011 - 771ms/epoch - 8ms/step\n",
      "Epoch 41/50\n",
      "98/98 - 1s - loss: 0.0023 - val_loss: 8.1857e-04 - 776ms/epoch - 8ms/step\n",
      "Epoch 42/50\n",
      "98/98 - 1s - loss: 0.0023 - val_loss: 8.3670e-04 - 780ms/epoch - 8ms/step\n",
      "Epoch 43/50\n",
      "98/98 - 1s - loss: 0.0022 - val_loss: 8.1777e-04 - 809ms/epoch - 8ms/step\n",
      "Epoch 44/50\n",
      "98/98 - 1s - loss: 0.0022 - val_loss: 8.4803e-04 - 863ms/epoch - 9ms/step\n",
      "Epoch 45/50\n",
      "98/98 - 1s - loss: 0.0022 - val_loss: 8.3237e-04 - 828ms/epoch - 8ms/step\n",
      "Epoch 46/50\n",
      "98/98 - 1s - loss: 0.0022 - val_loss: 8.1712e-04 - 816ms/epoch - 8ms/step\n",
      "Epoch 47/50\n",
      "98/98 - 1s - loss: 0.0022 - val_loss: 8.8562e-04 - 875ms/epoch - 9ms/step\n",
      "Epoch 48/50\n",
      "98/98 - 1s - loss: 0.0022 - val_loss: 9.2862e-04 - 946ms/epoch - 10ms/step\n",
      "Epoch 49/50\n",
      "98/98 - 1s - loss: 0.0022 - val_loss: 8.1424e-04 - 892ms/epoch - 9ms/step\n",
      "Epoch 50/50\n",
      "98/98 - 1s - loss: 0.0022 - val_loss: 9.2563e-04 - 880ms/epoch - 9ms/step\n"
     ]
    }
   ],
   "source": [
    "from tensorflow import keras\n",
    "from tensorflow.keras import layers\n",
    "from tensorflow.keras import models\n",
    "\n",
    "model = models.Sequential()\n",
    "\n",
    "model.add(layers.LSTM(50, return_sequences=True, input_shape=(seq_len, 1)))\n",
    "model.add(layers.Conv1D(50, kernel_size=3))\n",
    "model.add(layers.MaxPool1D(pool_size=2))\n",
    "model.add(layers.Dense(1))\n",
    "model.compile(loss=\"mean_squared_error\", optimizer=\"adam\")\n",
    "print(model.summary())\n",
    "\n",
    "start = time.time()\n",
    "\n",
    "history = model.fit(\n",
    "    X_train,\n",
    "    y_train,\n",
    "    validation_data=(X_val, y_val),\n",
    "    epochs=50,\n",
    "    batch_size=64,\n",
    "    verbose=2,\n",
    ")\n",
    "\n",
    "stop = time.time()\n"
   ]
  },
  {
   "cell_type": "code",
   "execution_count": 20,
   "metadata": {},
   "outputs": [
    {
     "name": "stdout",
     "output_type": "stream",
     "text": [
      "Training time: 44.480947971343994s\n"
     ]
    }
   ],
   "source": [
    "print(f\"Training time: {stop - start}s\")"
   ]
  },
  {
   "cell_type": "code",
   "execution_count": 21,
   "metadata": {},
   "outputs": [
    {
     "data": {
      "image/png": "[encoded data removed]",
      "text/plain": [
       "<Figure size 576x396 with 1 Axes>"
      ]
     },
     "metadata": {},
     "output_type": "display_data"
    }
   ],
   "source": [
    "plt.plot(history.history[\"loss\"], label = \"Loss\")\n",
    "plt.plot(history.history[\"val_loss\"], label = \"Val_loss\")\n",
    "plt.legend()\n",
    "plt.show()"
   ]
  },
  {
   "cell_type": "markdown",
   "metadata": {},
   "source": [
    "## Accuracy"
   ]
  },
  {
   "cell_type": "code",
   "execution_count": 22,
   "metadata": {},
   "outputs": [],
   "source": [
    "def MSE(y_actual, y_predicted):\n",
    "    mse = np.mean((y_actual - y_predicted)**2)\n",
    "    return mse\n",
    "\n",
    "def MAE(y_actual, y_predicted):\n",
    "    mae = np.mean(abs(y_actual - y_predicted))\n",
    "    return mae\n",
    "\n",
    "def MAPE(y_actual, y_predicted):\n",
    "    mape = np.mean(np.abs((y_actual - y_predicted)/y_actual))*100\n",
    "    return mape\n",
    "\n",
    "def RMSE(y_actual, y_predicted):\n",
    "    rmse = np.sqrt(MSE(y_actual, y_predicted))\n",
    "    return rmse"
   ]
  },
  {
   "cell_type": "code",
   "execution_count": 23,
   "metadata": {},
   "outputs": [
    {
     "name": "stdout",
     "output_type": "stream",
     "text": [
      "MSE:  0.00127\n",
      "MAE:  0.02479\n",
      "MAPE:  4.18163\n",
      "RMSE:  0.0357\n"
     ]
    }
   ],
   "source": [
    "test_pred = model.predict(X_test)\n",
    "mse = round(MSE(y_test, test_pred),5)\n",
    "mae = round(MAE(y_test, test_pred),5)\n",
    "mape = round(MAPE(y_test, test_pred),5)\n",
    "rmse = round(RMSE(y_test, test_pred),5)\n",
    "print(\"MSE: \",mse)\n",
    "print(\"MAE: \",mae)\n",
    "print(\"MAPE: \",mape)\n",
    "print(\"RMSE: \",rmse)"
   ]
  },
  {
   "cell_type": "markdown",
   "metadata": {},
   "source": [
    "## Store accuracy data"
   ]
  },
  {
   "cell_type": "code",
   "execution_count": 2,
   "metadata": {},
   "outputs": [],
   "source": [
    "field_names = [\"MSE\", \"MAE\", \"MAPE\", \"RMSE\"]"
   ]
  },
  {
   "cell_type": "code",
   "execution_count": 25,
   "metadata": {},
   "outputs": [],
   "source": [
    "new_row={'MSE':mse,'MAE': mae,'MAPE': mape,'RMSE':rmse}"
   ]
  },
  {
   "cell_type": "code",
   "execution_count": 3,
   "metadata": {},
   "outputs": [],
   "source": [
    "file_route = 'Accuracy_15/CNN-LSTM.csv'"
   ]
  },
  {
   "cell_type": "code",
   "execution_count": 4,
   "metadata": {},
   "outputs": [
    {
     "ename": "NameError",
     "evalue": "name 'new_row' is not defined",
     "output_type": "error",
     "traceback": [
      "\u001b[1;31m---------------------------------------------------------------------------\u001b[0m",
      "\u001b[1;31mNameError\u001b[0m                                 Traceback (most recent call last)",
      "\u001b[1;32m~\\AppData\\Local\\Temp/ipykernel_6640/4097876293.py\u001b[0m in \u001b[0;36m<module>\u001b[1;34m\u001b[0m\n\u001b[0;32m      5\u001b[0m     \u001b[0mdictwriter_object\u001b[0m \u001b[1;33m=\u001b[0m \u001b[0mDictWriter\u001b[0m\u001b[1;33m(\u001b[0m\u001b[0mf_object\u001b[0m\u001b[1;33m,\u001b[0m \u001b[0mfieldnames\u001b[0m\u001b[1;33m=\u001b[0m\u001b[0mfield_names\u001b[0m\u001b[1;33m)\u001b[0m\u001b[1;33m\u001b[0m\u001b[1;33m\u001b[0m\u001b[0m\n\u001b[0;32m      6\u001b[0m \u001b[1;33m\u001b[0m\u001b[0m\n\u001b[1;32m----> 7\u001b[1;33m     \u001b[0mdictwriter_object\u001b[0m\u001b[1;33m.\u001b[0m\u001b[0mwriterow\u001b[0m\u001b[1;33m(\u001b[0m\u001b[0mnew_row\u001b[0m\u001b[1;33m)\u001b[0m\u001b[1;33m\u001b[0m\u001b[1;33m\u001b[0m\u001b[0m\n\u001b[0m\u001b[0;32m      8\u001b[0m \u001b[1;33m\u001b[0m\u001b[0m\n\u001b[0;32m      9\u001b[0m     \u001b[0mf_object\u001b[0m\u001b[1;33m.\u001b[0m\u001b[0mclose\u001b[0m\u001b[1;33m(\u001b[0m\u001b[1;33m)\u001b[0m\u001b[1;33m\u001b[0m\u001b[1;33m\u001b[0m\u001b[0m\n",
      "\u001b[1;31mNameError\u001b[0m: name 'new_row' is not defined"
     ]
    }
   ],
   "source": [
    "from csv import DictWriter\n",
    "\n",
    "with open(file_route, 'a', encoding='UTF8') as f_object:\n",
    "    \n",
    "    dictwriter_object = DictWriter(f_object, fieldnames=field_names)\n",
    "\n",
    "    dictwriter_object.writerow(new_row)\n",
    "  \n",
    "    f_object.close()"
   ]
  },
  {
   "cell_type": "code",
   "execution_count": 5,
   "metadata": {},
   "outputs": [
    {
     "data": {
      "text/html": [
       "<div>\n",
       "<style scoped>\n",
       "    .dataframe tbody tr th:only-of-type {\n",
       "        vertical-align: middle;\n",
       "    }\n",
       "\n",
       "    .dataframe tbody tr th {\n",
       "        vertical-align: top;\n",
       "    }\n",
       "\n",
       "    .dataframe thead th {\n",
       "        text-align: right;\n",
       "    }\n",
       "</style>\n",
       "<table border=\"1\" class=\"dataframe\">\n",
       "  <thead>\n",
       "    <tr style=\"text-align: right;\">\n",
       "      <th></th>\n",
       "      <th>MSE</th>\n",
       "      <th>MAE</th>\n",
       "      <th>MAPE</th>\n",
       "      <th>RMSE</th>\n",
       "    </tr>\n",
       "  </thead>\n",
       "  <tbody>\n",
       "    <tr>\n",
       "      <th>0</th>\n",
       "      <td>0.00119</td>\n",
       "      <td>0.02325</td>\n",
       "      <td>3.88428</td>\n",
       "      <td>0.03449</td>\n",
       "    </tr>\n",
       "    <tr>\n",
       "      <th>1</th>\n",
       "      <td>0.00121</td>\n",
       "      <td>0.02360</td>\n",
       "      <td>3.95832</td>\n",
       "      <td>0.03475</td>\n",
       "    </tr>\n",
       "    <tr>\n",
       "      <th>2</th>\n",
       "      <td>0.00119</td>\n",
       "      <td>0.02313</td>\n",
       "      <td>3.85261</td>\n",
       "      <td>0.03443</td>\n",
       "    </tr>\n",
       "    <tr>\n",
       "      <th>3</th>\n",
       "      <td>0.00120</td>\n",
       "      <td>0.02328</td>\n",
       "      <td>3.85571</td>\n",
       "      <td>0.03457</td>\n",
       "    </tr>\n",
       "    <tr>\n",
       "      <th>4</th>\n",
       "      <td>0.00146</td>\n",
       "      <td>0.02804</td>\n",
       "      <td>4.55852</td>\n",
       "      <td>0.03827</td>\n",
       "    </tr>\n",
       "    <tr>\n",
       "      <th>5</th>\n",
       "      <td>0.00119</td>\n",
       "      <td>0.02316</td>\n",
       "      <td>3.84533</td>\n",
       "      <td>0.03448</td>\n",
       "    </tr>\n",
       "    <tr>\n",
       "      <th>6</th>\n",
       "      <td>0.00122</td>\n",
       "      <td>0.02380</td>\n",
       "      <td>3.99658</td>\n",
       "      <td>0.03489</td>\n",
       "    </tr>\n",
       "    <tr>\n",
       "      <th>7</th>\n",
       "      <td>0.00129</td>\n",
       "      <td>0.02510</td>\n",
       "      <td>4.23802</td>\n",
       "      <td>0.03595</td>\n",
       "    </tr>\n",
       "    <tr>\n",
       "      <th>8</th>\n",
       "      <td>0.00121</td>\n",
       "      <td>0.02356</td>\n",
       "      <td>3.89174</td>\n",
       "      <td>0.03478</td>\n",
       "    </tr>\n",
       "    <tr>\n",
       "      <th>9</th>\n",
       "      <td>0.00119</td>\n",
       "      <td>0.02333</td>\n",
       "      <td>3.90260</td>\n",
       "      <td>0.03455</td>\n",
       "    </tr>\n",
       "    <tr>\n",
       "      <th>10</th>\n",
       "      <td>0.00127</td>\n",
       "      <td>0.02479</td>\n",
       "      <td>4.18163</td>\n",
       "      <td>0.03570</td>\n",
       "    </tr>\n",
       "  </tbody>\n",
       "</table>\n",
       "</div>"
      ],
      "text/plain": [
       "        MSE      MAE     MAPE     RMSE\n",
       "0   0.00119  0.02325  3.88428  0.03449\n",
       "1   0.00121  0.02360  3.95832  0.03475\n",
       "2   0.00119  0.02313  3.85261  0.03443\n",
       "3   0.00120  0.02328  3.85571  0.03457\n",
       "4   0.00146  0.02804  4.55852  0.03827\n",
       "5   0.00119  0.02316  3.84533  0.03448\n",
       "6   0.00122  0.02380  3.99658  0.03489\n",
       "7   0.00129  0.02510  4.23802  0.03595\n",
       "8   0.00121  0.02356  3.89174  0.03478\n",
       "9   0.00119  0.02333  3.90260  0.03455\n",
       "10  0.00127  0.02479  4.18163  0.03570"
      ]
     },
     "execution_count": 5,
     "metadata": {},
     "output_type": "execute_result"
    }
   ],
   "source": [
    "accuracy_CNN_LSTM = pd.read_csv(file_route)\n",
    "accuracy_LSTM = pd.read_csv('Accuracy_15/LSTM.csv')\n",
    "accuracy_CNN_LSTM"
   ]
  },
  {
   "cell_type": "code",
   "execution_count": 29,
   "metadata": {},
   "outputs": [
    {
     "data": {
      "image/png": "[encoded data removed]",
      "text/plain": [
       "<Figure size 576x396 with 1 Axes>"
      ]
     },
     "metadata": {},
     "output_type": "display_data"
    }
   ],
   "source": [
    "plt.plot(accuracy_CNN_LSTM[\"MAPE\"], label = \"CNN-LSTM MAPE\")\n",
    "plt.plot(accuracy_LSTM[\"MAPE\"], label = \"LSTM MAPE\")\n",
    "plt.legend()\n",
    "plt.show()"
   ]
  },
  {
   "cell_type": "code",
   "execution_count": 7,
   "metadata": {},
   "outputs": [
    {
     "data": {
      "text/plain": [
       "MSE     0.001262\n",
       "MAE     0.024511\n",
       "MAPE    4.061023\n",
       "RMSE    0.035506\n",
       "dtype: float64"
      ]
     },
     "execution_count": 7,
     "metadata": {},
     "output_type": "execute_result"
    }
   ],
   "source": [
    "average = accuracy_LSTM.mean()\n",
    "average"
   ]
  }
 ],
 "metadata": {
  "colab": {
   "collapsed_sections": [],
   "name": "IBM_Transformer+TimeEmbedding_Github.ipynb",
   "provenance": []
  },
  "kernelspec": {
   "display_name": "Python 3 (ipykernel)",
   "language": "python",
   "name": "python3"
  },
  "language_info": {
   "codemirror_mode": {
    "name": "ipython",
    "version": 3
   },
   "file_extension": ".py",
   "mimetype": "text/x-python",
   "name": "python",
   "nbconvert_exporter": "python",
   "pygments_lexer": "ipython3",
   "version": "3.9.6"
  }
 },
 "nbformat": 4,
 "nbformat_minor": 1
}
